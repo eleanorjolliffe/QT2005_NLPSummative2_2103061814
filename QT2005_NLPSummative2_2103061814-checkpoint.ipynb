{
 "cells": [
  {
   "cell_type": "markdown",
   "id": "1bc425d8",
   "metadata": {},
   "source": [
    "### Analysis of processed data "
   ]
  },
  {
   "cell_type": "markdown",
   "id": "ec638001",
   "metadata": {},
   "source": [
    "### Importing the data"
   ]
  },
  {
   "cell_type": "code",
   "execution_count": 220,
   "id": "e3aa2b42",
   "metadata": {},
   "outputs": [],
   "source": [
    "import pandas as pd"
   ]
  },
  {
   "cell_type": "code",
   "execution_count": 221,
   "id": "01436e71",
   "metadata": {},
   "outputs": [],
   "source": [
    "#importing and adding columns for later standardisation \n",
    "christian_reddit = pd.read_excel('christian_red_final.xlsx')\n",
    "christian_reddit['document'] = 'christian reddit'\n"
   ]
  },
  {
   "cell_type": "code",
   "execution_count": 222,
   "id": "a2f912ee",
   "metadata": {},
   "outputs": [],
   "source": [
    "bible = pd.read_excel('bible_final.xlsx')\n",
    "bible['document'] = 'bible'\n",
    "bible = bible.rename(columns={'sentences': 'submissions'})\n"
   ]
  },
  {
   "cell_type": "code",
   "execution_count": 223,
   "id": "79895f16",
   "metadata": {},
   "outputs": [],
   "source": [
    "random_reddit = pd.read_excel('random_reddit_final.xlsx')\n",
    "random_reddit['document'] = 'random reddit'\n"
   ]
  },
  {
   "cell_type": "code",
   "execution_count": 225,
   "id": "f8f7c4fa",
   "metadata": {},
   "outputs": [],
   "source": [
    "#concatenating the entire corpus for later VAD analysis\n",
    "combined_corpus = pd.concat([random_reddit, christian_reddit, bible])\n",
    "combined_corpus.to_excel('entire_corpus.xlsx', index=False)"
   ]
  },
  {
   "cell_type": "markdown",
   "id": "c79719d4",
   "metadata": {},
   "source": [
    "### TF-IDF"
   ]
  },
  {
   "cell_type": "code",
   "execution_count": 224,
   "id": "0954b556",
   "metadata": {},
   "outputs": [],
   "source": [
    "#creating smaller samples of the data for TD-IDF \n",
    "#each sample is the same size to standardise it for later visualisation\n",
    "rfive = random_reddit.head(5000)\n",
    "bfive = bible.head(5000)\n",
    "cfive = christian_reddit.head(5000)"
   ]
  },
  {
   "cell_type": "code",
   "execution_count": 227,
   "id": "0e5e6fe5",
   "metadata": {},
   "outputs": [],
   "source": [
    "#importing the necessary modules\n",
    "from sklearn.feature_extraction.text import TfidfVectorizer\n",
    "import numpy as numpy"
   ]
  },
  {
   "cell_type": "code",
   "execution_count": 228,
   "id": "c0ec49a5",
   "metadata": {
    "collapsed": true
   },
   "outputs": [
    {
     "data": {
      "text/html": [
       "<div>\n",
       "<style scoped>\n",
       "    .dataframe tbody tr th:only-of-type {\n",
       "        vertical-align: middle;\n",
       "    }\n",
       "\n",
       "    .dataframe tbody tr th {\n",
       "        vertical-align: top;\n",
       "    }\n",
       "\n",
       "    .dataframe thead th {\n",
       "        text-align: right;\n",
       "    }\n",
       "</style>\n",
       "<table border=\"1\" class=\"dataframe\">\n",
       "  <thead>\n",
       "    <tr style=\"text-align: right;\">\n",
       "      <th></th>\n",
       "      <th>00</th>\n",
       "      <th>000</th>\n",
       "      <th>00am</th>\n",
       "      <th>00pm</th>\n",
       "      <th>02</th>\n",
       "      <th>03</th>\n",
       "      <th>06</th>\n",
       "      <th>07</th>\n",
       "      <th>09</th>\n",
       "      <th>0_0</th>\n",
       "      <th>...</th>\n",
       "      <th>zero</th>\n",
       "      <th>zev</th>\n",
       "      <th>zhao</th>\n",
       "      <th>zodiac</th>\n",
       "      <th>zombie</th>\n",
       "      <th>zombies</th>\n",
       "      <th>zone</th>\n",
       "      <th>zoo</th>\n",
       "      <th>zoro</th>\n",
       "      <th>zz</th>\n",
       "    </tr>\n",
       "  </thead>\n",
       "  <tbody>\n",
       "    <tr>\n",
       "      <th>0</th>\n",
       "      <td>0.0</td>\n",
       "      <td>0.0</td>\n",
       "      <td>0.0</td>\n",
       "      <td>0.0</td>\n",
       "      <td>0.0</td>\n",
       "      <td>0.0</td>\n",
       "      <td>0.0</td>\n",
       "      <td>0.0</td>\n",
       "      <td>0.0</td>\n",
       "      <td>0.0</td>\n",
       "      <td>...</td>\n",
       "      <td>0.0</td>\n",
       "      <td>0.0</td>\n",
       "      <td>0.0</td>\n",
       "      <td>0.0</td>\n",
       "      <td>0.0</td>\n",
       "      <td>0.0</td>\n",
       "      <td>0.0</td>\n",
       "      <td>0.0</td>\n",
       "      <td>0.0</td>\n",
       "      <td>0.0</td>\n",
       "    </tr>\n",
       "    <tr>\n",
       "      <th>1</th>\n",
       "      <td>0.0</td>\n",
       "      <td>0.0</td>\n",
       "      <td>0.0</td>\n",
       "      <td>0.0</td>\n",
       "      <td>0.0</td>\n",
       "      <td>0.0</td>\n",
       "      <td>0.0</td>\n",
       "      <td>0.0</td>\n",
       "      <td>0.0</td>\n",
       "      <td>0.0</td>\n",
       "      <td>...</td>\n",
       "      <td>0.0</td>\n",
       "      <td>0.0</td>\n",
       "      <td>0.0</td>\n",
       "      <td>0.0</td>\n",
       "      <td>0.0</td>\n",
       "      <td>0.0</td>\n",
       "      <td>0.0</td>\n",
       "      <td>0.0</td>\n",
       "      <td>0.0</td>\n",
       "      <td>0.0</td>\n",
       "    </tr>\n",
       "    <tr>\n",
       "      <th>2</th>\n",
       "      <td>0.0</td>\n",
       "      <td>0.0</td>\n",
       "      <td>0.0</td>\n",
       "      <td>0.0</td>\n",
       "      <td>0.0</td>\n",
       "      <td>0.0</td>\n",
       "      <td>0.0</td>\n",
       "      <td>0.0</td>\n",
       "      <td>0.0</td>\n",
       "      <td>0.0</td>\n",
       "      <td>...</td>\n",
       "      <td>0.0</td>\n",
       "      <td>0.0</td>\n",
       "      <td>0.0</td>\n",
       "      <td>0.0</td>\n",
       "      <td>0.0</td>\n",
       "      <td>0.0</td>\n",
       "      <td>0.0</td>\n",
       "      <td>0.0</td>\n",
       "      <td>0.0</td>\n",
       "      <td>0.0</td>\n",
       "    </tr>\n",
       "    <tr>\n",
       "      <th>3</th>\n",
       "      <td>0.0</td>\n",
       "      <td>0.0</td>\n",
       "      <td>0.0</td>\n",
       "      <td>0.0</td>\n",
       "      <td>0.0</td>\n",
       "      <td>0.0</td>\n",
       "      <td>0.0</td>\n",
       "      <td>0.0</td>\n",
       "      <td>0.0</td>\n",
       "      <td>0.0</td>\n",
       "      <td>...</td>\n",
       "      <td>0.0</td>\n",
       "      <td>0.0</td>\n",
       "      <td>0.0</td>\n",
       "      <td>0.0</td>\n",
       "      <td>0.0</td>\n",
       "      <td>0.0</td>\n",
       "      <td>0.0</td>\n",
       "      <td>0.0</td>\n",
       "      <td>0.0</td>\n",
       "      <td>0.0</td>\n",
       "    </tr>\n",
       "    <tr>\n",
       "      <th>4</th>\n",
       "      <td>0.0</td>\n",
       "      <td>0.0</td>\n",
       "      <td>0.0</td>\n",
       "      <td>0.0</td>\n",
       "      <td>0.0</td>\n",
       "      <td>0.0</td>\n",
       "      <td>0.0</td>\n",
       "      <td>0.0</td>\n",
       "      <td>0.0</td>\n",
       "      <td>0.0</td>\n",
       "      <td>...</td>\n",
       "      <td>0.0</td>\n",
       "      <td>0.0</td>\n",
       "      <td>0.0</td>\n",
       "      <td>0.0</td>\n",
       "      <td>0.0</td>\n",
       "      <td>0.0</td>\n",
       "      <td>0.0</td>\n",
       "      <td>0.0</td>\n",
       "      <td>0.0</td>\n",
       "      <td>0.0</td>\n",
       "    </tr>\n",
       "    <tr>\n",
       "      <th>...</th>\n",
       "      <td>...</td>\n",
       "      <td>...</td>\n",
       "      <td>...</td>\n",
       "      <td>...</td>\n",
       "      <td>...</td>\n",
       "      <td>...</td>\n",
       "      <td>...</td>\n",
       "      <td>...</td>\n",
       "      <td>...</td>\n",
       "      <td>...</td>\n",
       "      <td>...</td>\n",
       "      <td>...</td>\n",
       "      <td>...</td>\n",
       "      <td>...</td>\n",
       "      <td>...</td>\n",
       "      <td>...</td>\n",
       "      <td>...</td>\n",
       "      <td>...</td>\n",
       "      <td>...</td>\n",
       "      <td>...</td>\n",
       "      <td>...</td>\n",
       "    </tr>\n",
       "    <tr>\n",
       "      <th>4995</th>\n",
       "      <td>0.0</td>\n",
       "      <td>0.0</td>\n",
       "      <td>0.0</td>\n",
       "      <td>0.0</td>\n",
       "      <td>0.0</td>\n",
       "      <td>0.0</td>\n",
       "      <td>0.0</td>\n",
       "      <td>0.0</td>\n",
       "      <td>0.0</td>\n",
       "      <td>0.0</td>\n",
       "      <td>...</td>\n",
       "      <td>0.0</td>\n",
       "      <td>0.0</td>\n",
       "      <td>0.0</td>\n",
       "      <td>0.0</td>\n",
       "      <td>0.0</td>\n",
       "      <td>0.0</td>\n",
       "      <td>0.0</td>\n",
       "      <td>0.0</td>\n",
       "      <td>0.0</td>\n",
       "      <td>0.0</td>\n",
       "    </tr>\n",
       "    <tr>\n",
       "      <th>4996</th>\n",
       "      <td>0.0</td>\n",
       "      <td>0.0</td>\n",
       "      <td>0.0</td>\n",
       "      <td>0.0</td>\n",
       "      <td>0.0</td>\n",
       "      <td>0.0</td>\n",
       "      <td>0.0</td>\n",
       "      <td>0.0</td>\n",
       "      <td>0.0</td>\n",
       "      <td>0.0</td>\n",
       "      <td>...</td>\n",
       "      <td>0.0</td>\n",
       "      <td>0.0</td>\n",
       "      <td>0.0</td>\n",
       "      <td>0.0</td>\n",
       "      <td>0.0</td>\n",
       "      <td>0.0</td>\n",
       "      <td>0.0</td>\n",
       "      <td>0.0</td>\n",
       "      <td>0.0</td>\n",
       "      <td>0.0</td>\n",
       "    </tr>\n",
       "    <tr>\n",
       "      <th>4997</th>\n",
       "      <td>0.0</td>\n",
       "      <td>0.0</td>\n",
       "      <td>0.0</td>\n",
       "      <td>0.0</td>\n",
       "      <td>0.0</td>\n",
       "      <td>0.0</td>\n",
       "      <td>0.0</td>\n",
       "      <td>0.0</td>\n",
       "      <td>0.0</td>\n",
       "      <td>0.0</td>\n",
       "      <td>...</td>\n",
       "      <td>0.0</td>\n",
       "      <td>0.0</td>\n",
       "      <td>0.0</td>\n",
       "      <td>0.0</td>\n",
       "      <td>0.0</td>\n",
       "      <td>0.0</td>\n",
       "      <td>0.0</td>\n",
       "      <td>0.0</td>\n",
       "      <td>0.0</td>\n",
       "      <td>0.0</td>\n",
       "    </tr>\n",
       "    <tr>\n",
       "      <th>4998</th>\n",
       "      <td>0.0</td>\n",
       "      <td>0.0</td>\n",
       "      <td>0.0</td>\n",
       "      <td>0.0</td>\n",
       "      <td>0.0</td>\n",
       "      <td>0.0</td>\n",
       "      <td>0.0</td>\n",
       "      <td>0.0</td>\n",
       "      <td>0.0</td>\n",
       "      <td>0.0</td>\n",
       "      <td>...</td>\n",
       "      <td>0.0</td>\n",
       "      <td>0.0</td>\n",
       "      <td>0.0</td>\n",
       "      <td>0.0</td>\n",
       "      <td>0.0</td>\n",
       "      <td>0.0</td>\n",
       "      <td>0.0</td>\n",
       "      <td>0.0</td>\n",
       "      <td>0.0</td>\n",
       "      <td>0.0</td>\n",
       "    </tr>\n",
       "    <tr>\n",
       "      <th>4999</th>\n",
       "      <td>0.0</td>\n",
       "      <td>0.0</td>\n",
       "      <td>0.0</td>\n",
       "      <td>0.0</td>\n",
       "      <td>0.0</td>\n",
       "      <td>0.0</td>\n",
       "      <td>0.0</td>\n",
       "      <td>0.0</td>\n",
       "      <td>0.0</td>\n",
       "      <td>0.0</td>\n",
       "      <td>...</td>\n",
       "      <td>0.0</td>\n",
       "      <td>0.0</td>\n",
       "      <td>0.0</td>\n",
       "      <td>0.0</td>\n",
       "      <td>0.0</td>\n",
       "      <td>0.0</td>\n",
       "      <td>0.0</td>\n",
       "      <td>0.0</td>\n",
       "      <td>0.0</td>\n",
       "      <td>0.0</td>\n",
       "    </tr>\n",
       "  </tbody>\n",
       "</table>\n",
       "<p>5000 rows × 10301 columns</p>\n",
       "</div>"
      ],
      "text/plain": [
       "       00  000  00am  00pm   02   03   06   07   09  0_0  ...  zero  zev  \\\n",
       "0     0.0  0.0   0.0   0.0  0.0  0.0  0.0  0.0  0.0  0.0  ...   0.0  0.0   \n",
       "1     0.0  0.0   0.0   0.0  0.0  0.0  0.0  0.0  0.0  0.0  ...   0.0  0.0   \n",
       "2     0.0  0.0   0.0   0.0  0.0  0.0  0.0  0.0  0.0  0.0  ...   0.0  0.0   \n",
       "3     0.0  0.0   0.0   0.0  0.0  0.0  0.0  0.0  0.0  0.0  ...   0.0  0.0   \n",
       "4     0.0  0.0   0.0   0.0  0.0  0.0  0.0  0.0  0.0  0.0  ...   0.0  0.0   \n",
       "...   ...  ...   ...   ...  ...  ...  ...  ...  ...  ...  ...   ...  ...   \n",
       "4995  0.0  0.0   0.0   0.0  0.0  0.0  0.0  0.0  0.0  0.0  ...   0.0  0.0   \n",
       "4996  0.0  0.0   0.0   0.0  0.0  0.0  0.0  0.0  0.0  0.0  ...   0.0  0.0   \n",
       "4997  0.0  0.0   0.0   0.0  0.0  0.0  0.0  0.0  0.0  0.0  ...   0.0  0.0   \n",
       "4998  0.0  0.0   0.0   0.0  0.0  0.0  0.0  0.0  0.0  0.0  ...   0.0  0.0   \n",
       "4999  0.0  0.0   0.0   0.0  0.0  0.0  0.0  0.0  0.0  0.0  ...   0.0  0.0   \n",
       "\n",
       "      zhao  zodiac  zombie  zombies  zone  zoo  zoro   zz  \n",
       "0      0.0     0.0     0.0      0.0   0.0  0.0   0.0  0.0  \n",
       "1      0.0     0.0     0.0      0.0   0.0  0.0   0.0  0.0  \n",
       "2      0.0     0.0     0.0      0.0   0.0  0.0   0.0  0.0  \n",
       "3      0.0     0.0     0.0      0.0   0.0  0.0   0.0  0.0  \n",
       "4      0.0     0.0     0.0      0.0   0.0  0.0   0.0  0.0  \n",
       "...    ...     ...     ...      ...   ...  ...   ...  ...  \n",
       "4995   0.0     0.0     0.0      0.0   0.0  0.0   0.0  0.0  \n",
       "4996   0.0     0.0     0.0      0.0   0.0  0.0   0.0  0.0  \n",
       "4997   0.0     0.0     0.0      0.0   0.0  0.0   0.0  0.0  \n",
       "4998   0.0     0.0     0.0      0.0   0.0  0.0   0.0  0.0  \n",
       "4999   0.0     0.0     0.0      0.0   0.0  0.0   0.0  0.0  \n",
       "\n",
       "[5000 rows x 10301 columns]"
      ]
     },
     "execution_count": 228,
     "metadata": {},
     "output_type": "execute_result"
    }
   ],
   "source": [
    "#using the TD-IDF Vectorizer and topic modelling to rate the relevancy of words within the random reddit sample\n",
    "vectorizer = TfidfVectorizer(input = 'content', strip_accents = 'ascii', stop_words = 'english')\n",
    "\n",
    "vs = vectorizer.fit_transform(rfive['submissions'].apply(lambda x: numpy.str_(x)))\n",
    "vs = vs.todense().tolist()\n",
    "\n",
    "ds = pd.DataFrame(\n",
    "    vs,columns=vectorizer.get_feature_names_out())"
   ]
  },
  {
   "cell_type": "code",
   "execution_count": 229,
   "id": "acdfee4b",
   "metadata": {},
   "outputs": [],
   "source": [
    "#using the TD-IDF Vectorizer and topic modelling to rate the relevancy of words within the bible\n",
    "bs = vectorizer.fit_transform(bfive['submissions'].apply(lambda x: numpy.str_(x)))\n",
    "bs = bs.todense().tolist()\n",
    "\n",
    "bib = pd.DataFrame(\n",
    "    bs,columns=vectorizer.get_feature_names_out())"
   ]
  },
  {
   "cell_type": "code",
   "execution_count": 230,
   "id": "cf4a0609",
   "metadata": {},
   "outputs": [],
   "source": [
    "#using the TD-IDF Vectorizer and topic modelling to rate the relevancy of words within the christian reddit corpus\n",
    "chris = vectorizer.fit_transform(cfive['submissions'].apply(lambda x: numpy.str_(x)))\n",
    "chris = chris.todense().tolist()\n",
    "\n",
    "christi = pd.DataFrame(\n",
    "    chris,columns=vectorizer.get_feature_names_out())"
   ]
  },
  {
   "cell_type": "code",
   "execution_count": 231,
   "id": "74bde150",
   "metadata": {},
   "outputs": [
    {
     "data": {
      "text/html": [
       "<div>\n",
       "<style scoped>\n",
       "    .dataframe tbody tr th:only-of-type {\n",
       "        vertical-align: middle;\n",
       "    }\n",
       "\n",
       "    .dataframe tbody tr th {\n",
       "        vertical-align: top;\n",
       "    }\n",
       "\n",
       "    .dataframe thead th {\n",
       "        text-align: right;\n",
       "    }\n",
       "</style>\n",
       "<table border=\"1\" class=\"dataframe\">\n",
       "  <thead>\n",
       "    <tr style=\"text-align: right;\">\n",
       "      <th></th>\n",
       "      <th>average random reddit</th>\n",
       "      <th>average bible</th>\n",
       "      <th>average christian reddit</th>\n",
       "      <th>gender</th>\n",
       "    </tr>\n",
       "    <tr>\n",
       "      <th>words</th>\n",
       "      <th></th>\n",
       "      <th></th>\n",
       "      <th></th>\n",
       "      <th></th>\n",
       "    </tr>\n",
       "  </thead>\n",
       "  <tbody>\n",
       "    <tr>\n",
       "      <th>women</th>\n",
       "      <td>13.211581</td>\n",
       "      <td>6.608632</td>\n",
       "      <td>14.454853</td>\n",
       "      <td>fem</td>\n",
       "    </tr>\n",
       "    <tr>\n",
       "      <th>woman</th>\n",
       "      <td>8.317085</td>\n",
       "      <td>16.751764</td>\n",
       "      <td>11.609644</td>\n",
       "      <td>fem</td>\n",
       "    </tr>\n",
       "    <tr>\n",
       "      <th>daughter</th>\n",
       "      <td>2.944156</td>\n",
       "      <td>22.821193</td>\n",
       "      <td>1.203543</td>\n",
       "      <td>fem</td>\n",
       "    </tr>\n",
       "    <tr>\n",
       "      <th>mother</th>\n",
       "      <td>6.400365</td>\n",
       "      <td>12.386661</td>\n",
       "      <td>6.193600</td>\n",
       "      <td>fem</td>\n",
       "    </tr>\n",
       "    <tr>\n",
       "      <th>wife</th>\n",
       "      <td>7.155643</td>\n",
       "      <td>32.874439</td>\n",
       "      <td>12.448701</td>\n",
       "      <td>fem</td>\n",
       "    </tr>\n",
       "    <tr>\n",
       "      <th>female</th>\n",
       "      <td>3.579285</td>\n",
       "      <td>6.541057</td>\n",
       "      <td>6.128883</td>\n",
       "      <td>fem</td>\n",
       "    </tr>\n",
       "    <tr>\n",
       "      <th>man</th>\n",
       "      <td>14.843550</td>\n",
       "      <td>66.833131</td>\n",
       "      <td>32.038451</td>\n",
       "      <td>male</td>\n",
       "    </tr>\n",
       "    <tr>\n",
       "      <th>son</th>\n",
       "      <td>2.058085</td>\n",
       "      <td>62.896891</td>\n",
       "      <td>13.098086</td>\n",
       "      <td>male</td>\n",
       "    </tr>\n",
       "    <tr>\n",
       "      <th>men</th>\n",
       "      <td>7.453817</td>\n",
       "      <td>40.121331</td>\n",
       "      <td>16.702863</td>\n",
       "      <td>male</td>\n",
       "    </tr>\n",
       "    <tr>\n",
       "      <th>father</th>\n",
       "      <td>3.129506</td>\n",
       "      <td>45.901861</td>\n",
       "      <td>17.826825</td>\n",
       "      <td>male</td>\n",
       "    </tr>\n",
       "    <tr>\n",
       "      <th>husband</th>\n",
       "      <td>2.942157</td>\n",
       "      <td>7.915667</td>\n",
       "      <td>6.641070</td>\n",
       "      <td>male</td>\n",
       "    </tr>\n",
       "    <tr>\n",
       "      <th>male</th>\n",
       "      <td>2.376440</td>\n",
       "      <td>9.694207</td>\n",
       "      <td>5.804303</td>\n",
       "      <td>male</td>\n",
       "    </tr>\n",
       "  </tbody>\n",
       "</table>\n",
       "</div>"
      ],
      "text/plain": [
       "          average random reddit  average bible  average christian reddit  \\\n",
       "words                                                                      \n",
       "women                 13.211581       6.608632                 14.454853   \n",
       "woman                  8.317085      16.751764                 11.609644   \n",
       "daughter               2.944156      22.821193                  1.203543   \n",
       "mother                 6.400365      12.386661                  6.193600   \n",
       "wife                   7.155643      32.874439                 12.448701   \n",
       "female                 3.579285       6.541057                  6.128883   \n",
       "man                   14.843550      66.833131                 32.038451   \n",
       "son                    2.058085      62.896891                 13.098086   \n",
       "men                    7.453817      40.121331                 16.702863   \n",
       "father                 3.129506      45.901861                 17.826825   \n",
       "husband                2.942157       7.915667                  6.641070   \n",
       "male                   2.376440       9.694207                  5.804303   \n",
       "\n",
       "         gender  \n",
       "words            \n",
       "women       fem  \n",
       "woman       fem  \n",
       "daughter    fem  \n",
       "mother      fem  \n",
       "wife        fem  \n",
       "female      fem  \n",
       "man        male  \n",
       "son        male  \n",
       "men        male  \n",
       "father     male  \n",
       "husband    male  \n",
       "male       male  "
      ]
     },
     "execution_count": 231,
     "metadata": {},
     "output_type": "execute_result"
    }
   ],
   "source": [
    "#using the results from the TD-IDF to create a new dataframe showing the relative relevancy of gender within each corpus\n",
    "#I also saved this dataframe so it is easier to access for future use\n",
    "gender = pd.DataFrame()\n",
    "gender['average random reddit'] = ds[['women', 'woman', 'daughter', 'mother', 'wife', 'female', 'man', 'son', 'men', 'father', 'husband', 'male']].sum()\n",
    "gender['average bible'] = bib[['women', 'woman', 'daughter', 'mother', 'wife', 'female', 'man', 'son', 'men', 'father', 'husband', 'male']].sum()\n",
    "gender['average christian reddit'] = christi[['women', 'woman', 'daughter', 'mother', 'wife', 'female', 'man', 'son', 'men', 'father', 'husband', 'male']].sum()\n",
    "gender = gender.assign(gender=['fem', 'fem', 'fem', 'fem', 'fem', 'fem', 'male', 'male', 'male', 'male', 'male', 'male'])\n",
    "gender.index.rename('words', inplace=True)\n",
    "gender.to_excel('gender.xlsx', index=False)\n",
    "gender\n"
   ]
  },
  {
   "cell_type": "markdown",
   "id": "7d61f50d",
   "metadata": {},
   "source": [
    "Below I simply visualised the data above grouping the data by gender. The pie chart shows how relevant the sum of the words are across male and female words. This works as there are an equal number of gendered words which are all the gendered equivalent of one and other (e.g. mother and father, or son and daughter). "
   ]
  },
  {
   "cell_type": "code",
   "execution_count": 232,
   "id": "35304f6f",
   "metadata": {},
   "outputs": [
    {
     "data": {
      "text/plain": [
       "<AxesSubplot:ylabel='average bible'>"
      ]
     },
     "execution_count": 232,
     "metadata": {},
     "output_type": "execute_result"
    },
    {
     "data": {
      "image/png": "[encoded data removed]",
      "text/plain": [
       "<Figure size 640x480 with 1 Axes>"
      ]
     },
     "metadata": {},
     "output_type": "display_data"
    },
    {
     "data": {
      "image/png": "[encoded data removed]",
      "text/plain": [
       "<Figure size 640x480 with 1 Axes>"
      ]
     },
     "metadata": {},
     "output_type": "display_data"
    },
    {
     "data": {
      "image/png": "[encoded data removed]",
      "text/plain": [
       "<Figure size 640x480 with 1 Axes>"
      ]
     },
     "metadata": {},
     "output_type": "display_data"
    }
   ],
   "source": [
    "\n",
    "gender.groupby(['gender']).sum().plot(kind='pie', y='average random reddit', autopct='%1.0f%%', colors = ['pink', 'lightblue'])\n",
    "gender.groupby(['gender']).sum().plot(kind='pie', y='average christian reddit', autopct='%1.0f%%', colors = ['pink', 'lightblue'])\n",
    "gender.groupby(['gender']).sum().plot(kind='pie', y='average bible', autopct='%1.0f%%', colors = ['pink', 'lightblue'])\n"
   ]
  },
  {
   "cell_type": "markdown",
   "id": "efe32252",
   "metadata": {},
   "source": [
    "Below I used the same data to create a more detailed visualisation which shows the revelancy of each word within each corpus of data. Particularly striking observations are the differences in linguistic relevancy between man and woman, and daughter and son within the bible."
   ]
  },
  {
   "cell_type": "code",
   "execution_count": 233,
   "id": "5cc9e803",
   "metadata": {},
   "outputs": [
    {
     "data": {
      "text/plain": [
       "Text(0.5, 1.0, 'Gender and relevancy in religious texts: the omission of women visualised')"
      ]
     },
     "execution_count": 233,
     "metadata": {},
     "output_type": "execute_result"
    },
    {
     "data": {
      "image/png": "[encoded data removed]",
      "text/plain": [
       "<Figure size 640x480 with 1 Axes>"
      ]
     },
     "metadata": {},
     "output_type": "display_data"
    }
   ],
   "source": [
    "index = ['women', 'woman', 'daughter', 'mother', 'wife', 'female', 'man', 'son', 'men', 'father', 'husband', 'male']\n",
    "df = pd.DataFrame({'random reddit': gender['average random reddit'], 'christian reddit': gender['average christian reddit'],\n",
    "                   'bible': gender['average bible']}, index=index)\n",
    "ax = df.plot.barh(rot=0)\n",
    "plt.xticks(rotation=90)\n",
    "ax.set_xlabel('TD-IDF relevancy of gendered words across corpuses')\n",
    "ax.set_ylabel('Gendered words')\n",
    "\n",
    "ax.set_title('Gender and relevancy in religious texts: the omission of women visualised')\n"
   ]
  },
  {
   "cell_type": "markdown",
   "id": "410685f1",
   "metadata": {},
   "source": [
    "# Sentiment analysis"
   ]
  },
  {
   "cell_type": "markdown",
   "id": "9989de1a",
   "metadata": {},
   "source": [
    "### Calculating the VAD scores for each sentence in the entire corpus "
   ]
  },
  {
   "cell_type": "code",
   "execution_count": 234,
   "id": "06e1ccb0",
   "metadata": {
    "collapsed": true
   },
   "outputs": [
    {
     "name": "stdout",
     "output_type": "stream",
     "text": [
      "Requirement already satisfied: vaderSentiment in c:\\users\\elean\\anaconda3\\lib\\site-packages (3.3.2)\n",
      "Requirement already satisfied: requests in c:\\users\\elean\\anaconda3\\lib\\site-packages (from vaderSentiment) (2.28.1)\n",
      "Requirement already satisfied: idna<4,>=2.5 in c:\\users\\elean\\anaconda3\\lib\\site-packages (from requests->vaderSentiment) (3.3)\n",
      "Requirement already satisfied: charset-normalizer<3,>=2 in c:\\users\\elean\\anaconda3\\lib\\site-packages (from requests->vaderSentiment) (2.0.4)\n",
      "Requirement already satisfied: urllib3<1.27,>=1.21.1 in c:\\users\\elean\\anaconda3\\lib\\site-packages (from requests->vaderSentiment) (1.26.11)\n",
      "Requirement already satisfied: certifi>=2017.4.17 in c:\\users\\elean\\anaconda3\\lib\\site-packages (from requests->vaderSentiment) (2022.9.14)\n",
      "Note: you may need to restart the kernel to use updated packages.\n"
     ]
    }
   ],
   "source": [
    "pip install vaderSentiment\n"
   ]
  },
  {
   "cell_type": "code",
   "execution_count": 167,
   "id": "b686f87d",
   "metadata": {},
   "outputs": [],
   "source": [
    "#importing the relevant modules\n",
    "from vaderSentiment.vaderSentiment import SentimentIntensityAnalyzer\n",
    "# Create an instance of the sentiment analyzer\n",
    "analyzer = SentimentIntensityAnalyzer()\n"
   ]
  },
  {
   "cell_type": "code",
   "execution_count": 184,
   "id": "c1a6a64d",
   "metadata": {},
   "outputs": [],
   "source": [
    "#creating samples of the data to calculate the VAD ratings for\n",
    "random_bible = bible.sample(n=5000, random_state=42)\n",
    "random_random_reddit = random_reddit.sample(n=5000, random_state=42)\n",
    "random_christian_reddit = christian_reddit.sample(n=5000, random_state=42)"
   ]
  },
  {
   "cell_type": "code",
   "execution_count": 194,
   "id": "d9740577",
   "metadata": {
    "collapsed": true
   },
   "outputs": [
    {
     "name": "stdout",
     "output_type": "stream",
     "text": [
      "    Valence  Arousal  Dominance\n",
      "0    0.8979    0.085     -0.591\n",
      "1    0.8074    0.249     -0.502\n",
      "2    0.0772    0.115     -0.770\n",
      "3    0.3612    0.103     -0.234\n",
      "4   -0.9236   -0.118     -0.569\n",
      "..      ...      ...        ...\n",
      "95   0.8795    0.753      0.506\n",
      "96   0.0000    0.000     -1.000\n",
      "97   0.9274    0.630      0.260\n",
      "98   0.0000    0.000     -1.000\n",
      "99   0.4019    0.117     -0.766\n",
      "\n",
      "[100 rows x 3 columns]\n"
     ]
    }
   ],
   "source": [
    "#calculating the VAD ratings for random christian reddit submissions\n",
    "#creating empty lists\n",
    "rc_valence_scores = []\n",
    "rc_arousal_scores = []\n",
    "rc_dominance_scores = []\n",
    "\n",
    "for sentence in random_christian_reddit['submissions']:\n",
    "    \n",
    "    sentiment_scores = analyzer.polarity_scores(sentence)\n",
    "    \n",
    "    rc_valence = sentiment_scores['compound']\n",
    "    rc_arousal = sentiment_scores['pos'] - sentiment_scores['neg']\n",
    "    rc_dominance = sentiment_scores['pos'] + sentiment_scores['neg'] - sentiment_scores['neu']\n",
    "    \n",
    "    rc_valence_scores.append(rc_valence)\n",
    "    rc_arousal_scores.append(rc_arousal)\n",
    "    rc_dominance_scores.append(rc_dominance)"
   ]
  },
  {
   "cell_type": "code",
   "execution_count": 195,
   "id": "f81ab531",
   "metadata": {},
   "outputs": [
    {
     "data": {
      "text/html": [
       "<div>\n",
       "<style scoped>\n",
       "    .dataframe tbody tr th:only-of-type {\n",
       "        vertical-align: middle;\n",
       "    }\n",
       "\n",
       "    .dataframe tbody tr th {\n",
       "        vertical-align: top;\n",
       "    }\n",
       "\n",
       "    .dataframe thead th {\n",
       "        text-align: right;\n",
       "    }\n",
       "</style>\n",
       "<table border=\"1\" class=\"dataframe\">\n",
       "  <thead>\n",
       "    <tr style=\"text-align: right;\">\n",
       "      <th></th>\n",
       "      <th>submissions</th>\n",
       "      <th>tokenized</th>\n",
       "      <th>lemmatized</th>\n",
       "      <th>document</th>\n",
       "      <th>valence</th>\n",
       "      <th>arousal</th>\n",
       "      <th>dominance</th>\n",
       "    </tr>\n",
       "  </thead>\n",
       "  <tbody>\n",
       "    <tr>\n",
       "      <th>19270</th>\n",
       "      <td>in light of your other comment, i finally unde...</td>\n",
       "      <td>['in', 'light', 'of', 'your', 'other', 'commen...</td>\n",
       "      <td>['in', 'light', 'of', 'your', 'other', 'commen...</td>\n",
       "      <td>christian reddit</td>\n",
       "      <td>0.8979</td>\n",
       "      <td>0.085</td>\n",
       "      <td>-0.591</td>\n",
       "    </tr>\n",
       "    <tr>\n",
       "      <th>911</th>\n",
       "      <td>never limit the power of christ. as long as we...</td>\n",
       "      <td>['never', 'limit', 'the', 'power', 'of', 'chri...</td>\n",
       "      <td>['never', 'limit', 'the', 'power', 'of', 'chri...</td>\n",
       "      <td>christian reddit</td>\n",
       "      <td>0.8074</td>\n",
       "      <td>0.249</td>\n",
       "      <td>-0.502</td>\n",
       "    </tr>\n",
       "    <tr>\n",
       "      <th>4269</th>\n",
       "      <td>you can misinterpret whatever you want. i said...</td>\n",
       "      <td>['you', 'can', 'misinterpret', 'whatever', 'yo...</td>\n",
       "      <td>['you', 'can', 'misinterpret', 'whatever', 'yo...</td>\n",
       "      <td>christian reddit</td>\n",
       "      <td>0.0772</td>\n",
       "      <td>0.115</td>\n",
       "      <td>-0.770</td>\n",
       "    </tr>\n",
       "    <tr>\n",
       "      <th>2308</th>\n",
       "      <td>places i know are usually pretty clean actuall...</td>\n",
       "      <td>['places', 'i', 'know', 'are', 'usually', 'pre...</td>\n",
       "      <td>['place', 'i', 'know', 'are', 'usually', 'pret...</td>\n",
       "      <td>christian reddit</td>\n",
       "      <td>0.3612</td>\n",
       "      <td>0.103</td>\n",
       "      <td>-0.234</td>\n",
       "    </tr>\n",
       "    <tr>\n",
       "      <th>15961</th>\n",
       "      <td>i think the problem with christianity today is...</td>\n",
       "      <td>['i', 'think', 'the', 'problem', 'with', 'chri...</td>\n",
       "      <td>['i', 'think', 'the', 'problem', 'with', 'chri...</td>\n",
       "      <td>christian reddit</td>\n",
       "      <td>-0.9236</td>\n",
       "      <td>-0.118</td>\n",
       "      <td>-0.569</td>\n",
       "    </tr>\n",
       "    <tr>\n",
       "      <th>...</th>\n",
       "      <td>...</td>\n",
       "      <td>...</td>\n",
       "      <td>...</td>\n",
       "      <td>...</td>\n",
       "      <td>...</td>\n",
       "      <td>...</td>\n",
       "      <td>...</td>\n",
       "    </tr>\n",
       "    <tr>\n",
       "      <th>18869</th>\n",
       "      <td>for anyone considering a fasting regime, the f...</td>\n",
       "      <td>['for', 'anyone', 'considering', 'a', 'fasting...</td>\n",
       "      <td>['for', 'anyone', 'considering', 'a', 'fasting...</td>\n",
       "      <td>christian reddit</td>\n",
       "      <td>0.5859</td>\n",
       "      <td>0.021</td>\n",
       "      <td>-0.898</td>\n",
       "    </tr>\n",
       "    <tr>\n",
       "      <th>1237</th>\n",
       "      <td>you're acting like we're talking about facts. ...</td>\n",
       "      <td>['you', 'acting', 'like', 'we', 'talking', 'ab...</td>\n",
       "      <td>['you', 'acting', 'like', 'we', 'talking', 'ab...</td>\n",
       "      <td>christian reddit</td>\n",
       "      <td>-0.0772</td>\n",
       "      <td>-0.022</td>\n",
       "      <td>-0.603</td>\n",
       "    </tr>\n",
       "    <tr>\n",
       "      <th>7672</th>\n",
       "      <td>&gt;what a weird take. \\n\\nthere's absolutely not...</td>\n",
       "      <td>['what', 'a', 'weird', 'take', 'there', 'absol...</td>\n",
       "      <td>['what', 'a', 'weird', 'take', 'there', 'absol...</td>\n",
       "      <td>christian reddit</td>\n",
       "      <td>-0.3636</td>\n",
       "      <td>-0.026</td>\n",
       "      <td>-0.611</td>\n",
       "    </tr>\n",
       "    <tr>\n",
       "      <th>17238</th>\n",
       "      <td>as i told you from the beginning, they hear ev...</td>\n",
       "      <td>['as', 'i', 'told', 'you', 'from', 'the', 'beg...</td>\n",
       "      <td>['a', 'i', 'told', 'you', 'from', 'the', 'begi...</td>\n",
       "      <td>christian reddit</td>\n",
       "      <td>0.8094</td>\n",
       "      <td>0.048</td>\n",
       "      <td>-0.572</td>\n",
       "    </tr>\n",
       "    <tr>\n",
       "      <th>22174</th>\n",
       "      <td>alright,so your superiors are passing off work...</td>\n",
       "      <td>['alright', 'so', 'your', 'superiors', 'are', ...</td>\n",
       "      <td>['alright', 'so', 'your', 'superior', 'are', '...</td>\n",
       "      <td>christian reddit</td>\n",
       "      <td>0.2500</td>\n",
       "      <td>0.167</td>\n",
       "      <td>-0.666</td>\n",
       "    </tr>\n",
       "  </tbody>\n",
       "</table>\n",
       "<p>5000 rows × 7 columns</p>\n",
       "</div>"
      ],
      "text/plain": [
       "                                             submissions  \\\n",
       "19270  in light of your other comment, i finally unde...   \n",
       "911    never limit the power of christ. as long as we...   \n",
       "4269   you can misinterpret whatever you want. i said...   \n",
       "2308   places i know are usually pretty clean actuall...   \n",
       "15961  i think the problem with christianity today is...   \n",
       "...                                                  ...   \n",
       "18869  for anyone considering a fasting regime, the f...   \n",
       "1237   you're acting like we're talking about facts. ...   \n",
       "7672   >what a weird take. \\n\\nthere's absolutely not...   \n",
       "17238  as i told you from the beginning, they hear ev...   \n",
       "22174  alright,so your superiors are passing off work...   \n",
       "\n",
       "                                               tokenized  \\\n",
       "19270  ['in', 'light', 'of', 'your', 'other', 'commen...   \n",
       "911    ['never', 'limit', 'the', 'power', 'of', 'chri...   \n",
       "4269   ['you', 'can', 'misinterpret', 'whatever', 'yo...   \n",
       "2308   ['places', 'i', 'know', 'are', 'usually', 'pre...   \n",
       "15961  ['i', 'think', 'the', 'problem', 'with', 'chri...   \n",
       "...                                                  ...   \n",
       "18869  ['for', 'anyone', 'considering', 'a', 'fasting...   \n",
       "1237   ['you', 'acting', 'like', 'we', 'talking', 'ab...   \n",
       "7672   ['what', 'a', 'weird', 'take', 'there', 'absol...   \n",
       "17238  ['as', 'i', 'told', 'you', 'from', 'the', 'beg...   \n",
       "22174  ['alright', 'so', 'your', 'superiors', 'are', ...   \n",
       "\n",
       "                                              lemmatized          document  \\\n",
       "19270  ['in', 'light', 'of', 'your', 'other', 'commen...  christian reddit   \n",
       "911    ['never', 'limit', 'the', 'power', 'of', 'chri...  christian reddit   \n",
       "4269   ['you', 'can', 'misinterpret', 'whatever', 'yo...  christian reddit   \n",
       "2308   ['place', 'i', 'know', 'are', 'usually', 'pret...  christian reddit   \n",
       "15961  ['i', 'think', 'the', 'problem', 'with', 'chri...  christian reddit   \n",
       "...                                                  ...               ...   \n",
       "18869  ['for', 'anyone', 'considering', 'a', 'fasting...  christian reddit   \n",
       "1237   ['you', 'acting', 'like', 'we', 'talking', 'ab...  christian reddit   \n",
       "7672   ['what', 'a', 'weird', 'take', 'there', 'absol...  christian reddit   \n",
       "17238  ['a', 'i', 'told', 'you', 'from', 'the', 'begi...  christian reddit   \n",
       "22174  ['alright', 'so', 'your', 'superior', 'are', '...  christian reddit   \n",
       "\n",
       "       valence  arousal  dominance  \n",
       "19270   0.8979    0.085     -0.591  \n",
       "911     0.8074    0.249     -0.502  \n",
       "4269    0.0772    0.115     -0.770  \n",
       "2308    0.3612    0.103     -0.234  \n",
       "15961  -0.9236   -0.118     -0.569  \n",
       "...        ...      ...        ...  \n",
       "18869   0.5859    0.021     -0.898  \n",
       "1237   -0.0772   -0.022     -0.603  \n",
       "7672   -0.3636   -0.026     -0.611  \n",
       "17238   0.8094    0.048     -0.572  \n",
       "22174   0.2500    0.167     -0.666  \n",
       "\n",
       "[5000 rows x 7 columns]"
      ]
     },
     "execution_count": 195,
     "metadata": {},
     "output_type": "execute_result"
    }
   ],
   "source": [
    "#adding the VAD scores onto the data frame and saving it (this is important as the sentences were randomly generated)\n",
    "random_christian_reddit['valence'] = rc_valence_scores\n",
    "random_christian_reddit['arousal'] = rc_arousal_scores\n",
    "random_christian_reddit['dominance'] = rc_dominance_scores\n",
    "random_christian_reddit.to_excel('random_chris_reddit_VAD_score.xlsx', index=False)\n",
    "random_christian_reddit"
   ]
  },
  {
   "cell_type": "code",
   "execution_count": 185,
   "id": "77154912",
   "metadata": {
    "collapsed": true
   },
   "outputs": [
    {
     "name": "stdout",
     "output_type": "stream",
     "text": [
      "    Valence  Arousal  Dominance\n",
      "0    0.2500    0.037     -0.606\n",
      "1    0.6310    0.098     -0.804\n",
      "2    0.0000    0.000     -1.000\n",
      "3    0.6103    0.125     -0.447\n",
      "4    0.0000    0.000     -1.000\n",
      "..      ...      ...        ...\n",
      "95   0.6486    0.107     -0.638\n",
      "96  -0.2960   -0.306     -0.388\n",
      "97   0.6486    0.275     -0.450\n",
      "98   0.3612    0.172     -0.656\n",
      "99   0.0000    0.000     -1.000\n",
      "\n",
      "[100 rows x 3 columns]\n"
     ]
    }
   ],
   "source": [
    "#calculating the VAD ratings for the bible\n",
    "b_valence_scores = []\n",
    "b_arousal_scores = []\n",
    "b_dominance_scores = []\n",
    "\n",
    "for sentence in random_bible['submissions']:\n",
    "    \n",
    "    sentiment_scores = analyzer.polarity_scores(sentence)\n",
    "  \n",
    "    valence = sentiment_scores['compound']\n",
    "    arousal = sentiment_scores['pos'] - sentiment_scores['neg']\n",
    "    dominance = sentiment_scores['pos'] + sentiment_scores['neg'] - sentiment_scores['neu']\n",
    "    \n",
    "    b_valence_scores.append(valence)\n",
    "    b_arousal_scores.append(arousal)\n",
    "    b_dominance_scores.append(dominance)"
   ]
  },
  {
   "cell_type": "code",
   "execution_count": 202,
   "id": "61b125a7",
   "metadata": {
    "collapsed": true
   },
   "outputs": [
    {
     "data": {
      "text/html": [
       "<div>\n",
       "<style scoped>\n",
       "    .dataframe tbody tr th:only-of-type {\n",
       "        vertical-align: middle;\n",
       "    }\n",
       "\n",
       "    .dataframe tbody tr th {\n",
       "        vertical-align: top;\n",
       "    }\n",
       "\n",
       "    .dataframe thead th {\n",
       "        text-align: right;\n",
       "    }\n",
       "</style>\n",
       "<table border=\"1\" class=\"dataframe\">\n",
       "  <thead>\n",
       "    <tr style=\"text-align: right;\">\n",
       "      <th></th>\n",
       "      <th>submissions</th>\n",
       "      <th>tokenized</th>\n",
       "      <th>lemmatized</th>\n",
       "      <th>document</th>\n",
       "      <th>valence</th>\n",
       "      <th>arousal</th>\n",
       "      <th>dominance</th>\n",
       "    </tr>\n",
       "  </thead>\n",
       "  <tbody>\n",
       "    <tr>\n",
       "      <th>24310</th>\n",
       "      <td>11:34 and if any man hunger, let him eat at ho...</td>\n",
       "      <td>['and', 'if', 'any', 'man', 'hunger', 'let', '...</td>\n",
       "      <td>['and', 'if', 'any', 'man', 'hunger', 'let', '...</td>\n",
       "      <td>bible</td>\n",
       "      <td>0.2500</td>\n",
       "      <td>0.037</td>\n",
       "      <td>-0.606</td>\n",
       "    </tr>\n",
       "    <tr>\n",
       "      <th>21863</th>\n",
       "      <td>18:18 and a certain ruler asked him, saying, g...</td>\n",
       "      <td>['and', 'a', 'certain', 'ruler', 'asked', 'him...</td>\n",
       "      <td>['and', 'a', 'certain', 'ruler', 'asked', 'him...</td>\n",
       "      <td>bible</td>\n",
       "      <td>0.6310</td>\n",
       "      <td>0.098</td>\n",
       "      <td>-0.804</td>\n",
       "    </tr>\n",
       "    <tr>\n",
       "      <th>22186</th>\n",
       "      <td>2:4 jesus saith unto her, woman, what have i t...</td>\n",
       "      <td>['jesus', 'saith', 'unto', 'her', 'woman', 'wh...</td>\n",
       "      <td>['jesus', 'saith', 'unto', 'her', 'woman', 'wh...</td>\n",
       "      <td>bible</td>\n",
       "      <td>0.0000</td>\n",
       "      <td>0.000</td>\n",
       "      <td>-1.000</td>\n",
       "    </tr>\n",
       "    <tr>\n",
       "      <th>4418</th>\n",
       "      <td>25:2 and it shall be, if the wicked man be wor...</td>\n",
       "      <td>['and', 'it', 'shall', 'be', 'if', 'the', 'wic...</td>\n",
       "      <td>['and', 'it', 'shall', 'be', 'if', 'the', 'wic...</td>\n",
       "      <td>bible</td>\n",
       "      <td>0.6103</td>\n",
       "      <td>0.125</td>\n",
       "      <td>-0.447</td>\n",
       "    </tr>\n",
       "    <tr>\n",
       "      <th>19300</th>\n",
       "      <td>1:2 hear, all ye people; hearken, o earth, and...</td>\n",
       "      <td>['hear', 'all', 'ye', 'people', 'hearken', 'o'...</td>\n",
       "      <td>['hear', 'all', 'ye', 'people', 'hearken', 'o'...</td>\n",
       "      <td>bible</td>\n",
       "      <td>0.0000</td>\n",
       "      <td>0.000</td>\n",
       "      <td>-1.000</td>\n",
       "    </tr>\n",
       "    <tr>\n",
       "      <th>...</th>\n",
       "      <td>...</td>\n",
       "      <td>...</td>\n",
       "      <td>...</td>\n",
       "      <td>...</td>\n",
       "      <td>...</td>\n",
       "      <td>...</td>\n",
       "      <td>...</td>\n",
       "    </tr>\n",
       "    <tr>\n",
       "      <th>11149</th>\n",
       "      <td>3:6 as for that night, let darkness seize upon...</td>\n",
       "      <td>['as', 'for', 'that', 'night', 'let', 'darknes...</td>\n",
       "      <td>['a', 'for', 'that', 'night', 'let', 'darkness...</td>\n",
       "      <td>bible</td>\n",
       "      <td>-0.8225</td>\n",
       "      <td>-0.717</td>\n",
       "      <td>0.434</td>\n",
       "    </tr>\n",
       "    <tr>\n",
       "      <th>803</th>\n",
       "      <td>32:20 and say ye moreover, behold, thy servant...</td>\n",
       "      <td>['and', 'say', 'ye', 'moreover', 'behold', 'th...</td>\n",
       "      <td>['and', 'say', 'ye', 'moreover', 'behold', 'th...</td>\n",
       "      <td>bible</td>\n",
       "      <td>-0.8555</td>\n",
       "      <td>-0.311</td>\n",
       "      <td>-0.038</td>\n",
       "    </tr>\n",
       "    <tr>\n",
       "      <th>24444</th>\n",
       "      <td>16:23 the grace of our lord jesus christ be wi...</td>\n",
       "      <td>['the', 'grace', 'of', 'our', 'lord', 'jesus',...</td>\n",
       "      <td>['the', 'grace', 'of', 'our', 'lord', 'jesus',...</td>\n",
       "      <td>bible</td>\n",
       "      <td>0.0000</td>\n",
       "      <td>0.000</td>\n",
       "      <td>-1.000</td>\n",
       "    </tr>\n",
       "    <tr>\n",
       "      <th>334</th>\n",
       "      <td>17:5 neither shall thy name any more be called...</td>\n",
       "      <td>['neither', 'shall', 'thy', 'name', 'any', 'mo...</td>\n",
       "      <td>['neither', 'shall', 'thy', 'name', 'any', 'mo...</td>\n",
       "      <td>bible</td>\n",
       "      <td>0.0000</td>\n",
       "      <td>0.000</td>\n",
       "      <td>-1.000</td>\n",
       "    </tr>\n",
       "    <tr>\n",
       "      <th>2678</th>\n",
       "      <td>15:14 and on the eighth day he shall take to h...</td>\n",
       "      <td>['and', 'on', 'the', 'eighth', 'day', 'he', 's...</td>\n",
       "      <td>['and', 'on', 'the', 'eighth', 'day', 'he', 's...</td>\n",
       "      <td>bible</td>\n",
       "      <td>0.9297</td>\n",
       "      <td>0.153</td>\n",
       "      <td>-0.609</td>\n",
       "    </tr>\n",
       "  </tbody>\n",
       "</table>\n",
       "<p>5000 rows × 7 columns</p>\n",
       "</div>"
      ],
      "text/plain": [
       "                                             submissions  \\\n",
       "24310  11:34 and if any man hunger, let him eat at ho...   \n",
       "21863  18:18 and a certain ruler asked him, saying, g...   \n",
       "22186  2:4 jesus saith unto her, woman, what have i t...   \n",
       "4418   25:2 and it shall be, if the wicked man be wor...   \n",
       "19300  1:2 hear, all ye people; hearken, o earth, and...   \n",
       "...                                                  ...   \n",
       "11149  3:6 as for that night, let darkness seize upon...   \n",
       "803    32:20 and say ye moreover, behold, thy servant...   \n",
       "24444  16:23 the grace of our lord jesus christ be wi...   \n",
       "334    17:5 neither shall thy name any more be called...   \n",
       "2678   15:14 and on the eighth day he shall take to h...   \n",
       "\n",
       "                                               tokenized  \\\n",
       "24310  ['and', 'if', 'any', 'man', 'hunger', 'let', '...   \n",
       "21863  ['and', 'a', 'certain', 'ruler', 'asked', 'him...   \n",
       "22186  ['jesus', 'saith', 'unto', 'her', 'woman', 'wh...   \n",
       "4418   ['and', 'it', 'shall', 'be', 'if', 'the', 'wic...   \n",
       "19300  ['hear', 'all', 'ye', 'people', 'hearken', 'o'...   \n",
       "...                                                  ...   \n",
       "11149  ['as', 'for', 'that', 'night', 'let', 'darknes...   \n",
       "803    ['and', 'say', 'ye', 'moreover', 'behold', 'th...   \n",
       "24444  ['the', 'grace', 'of', 'our', 'lord', 'jesus',...   \n",
       "334    ['neither', 'shall', 'thy', 'name', 'any', 'mo...   \n",
       "2678   ['and', 'on', 'the', 'eighth', 'day', 'he', 's...   \n",
       "\n",
       "                                              lemmatized document  valence  \\\n",
       "24310  ['and', 'if', 'any', 'man', 'hunger', 'let', '...    bible   0.2500   \n",
       "21863  ['and', 'a', 'certain', 'ruler', 'asked', 'him...    bible   0.6310   \n",
       "22186  ['jesus', 'saith', 'unto', 'her', 'woman', 'wh...    bible   0.0000   \n",
       "4418   ['and', 'it', 'shall', 'be', 'if', 'the', 'wic...    bible   0.6103   \n",
       "19300  ['hear', 'all', 'ye', 'people', 'hearken', 'o'...    bible   0.0000   \n",
       "...                                                  ...      ...      ...   \n",
       "11149  ['a', 'for', 'that', 'night', 'let', 'darkness...    bible  -0.8225   \n",
       "803    ['and', 'say', 'ye', 'moreover', 'behold', 'th...    bible  -0.8555   \n",
       "24444  ['the', 'grace', 'of', 'our', 'lord', 'jesus',...    bible   0.0000   \n",
       "334    ['neither', 'shall', 'thy', 'name', 'any', 'mo...    bible   0.0000   \n",
       "2678   ['and', 'on', 'the', 'eighth', 'day', 'he', 's...    bible   0.9297   \n",
       "\n",
       "       arousal  dominance  \n",
       "24310    0.037     -0.606  \n",
       "21863    0.098     -0.804  \n",
       "22186    0.000     -1.000  \n",
       "4418     0.125     -0.447  \n",
       "19300    0.000     -1.000  \n",
       "...        ...        ...  \n",
       "11149   -0.717      0.434  \n",
       "803     -0.311     -0.038  \n",
       "24444    0.000     -1.000  \n",
       "334      0.000     -1.000  \n",
       "2678     0.153     -0.609  \n",
       "\n",
       "[5000 rows x 7 columns]"
      ]
     },
     "execution_count": 202,
     "metadata": {},
     "output_type": "execute_result"
    }
   ],
   "source": [
    "#adding the VAD scores onto the data frame and saving it (this is important as the sentences were randomly generated)\n",
    "random_bible['valence'] = valence_scores\n",
    "random_bible['arousal'] = arousal_scores\n",
    "random_bible['dominance'] = dominance_scores\n",
    "random_bible.to_excel('random_bible_VAD_score.xlsx', index=False)\n",
    "\n",
    "random_bible"
   ]
  },
  {
   "cell_type": "code",
   "execution_count": 191,
   "id": "5cc009e7",
   "metadata": {
    "collapsed": true
   },
   "outputs": [
    {
     "name": "stdout",
     "output_type": "stream",
     "text": [
      "    Valence  Arousal  Dominance\n",
      "0    0.2500    0.037     -0.606\n",
      "1    0.6310    0.098     -0.804\n",
      "2    0.0000    0.000     -1.000\n",
      "3    0.6103    0.125     -0.447\n",
      "4    0.0000    0.000     -1.000\n",
      "..      ...      ...        ...\n",
      "95   0.6486    0.107     -0.638\n",
      "96  -0.2960   -0.306     -0.388\n",
      "97   0.6486    0.275     -0.450\n",
      "98   0.3612    0.172     -0.656\n",
      "99   0.0000    0.000     -1.000\n",
      "\n",
      "[100 rows x 3 columns]\n"
     ]
    }
   ],
   "source": [
    "#calculating the VAD ratings for random reddit submissions\n",
    "rr_valence_scores = []\n",
    "rr_arousal_scores = []\n",
    "rr_dominance_scores = []\n",
    "\n",
    "for sentence in random_random_reddit['submissions']:\n",
    "    \n",
    "    sentiment_scores = analyzer.polarity_scores(sentence)\n",
    "  \n",
    "    rr_valence = sentiment_scores['compound']\n",
    "    rr_arousal = sentiment_scores['pos'] - sentiment_scores['neg']\n",
    "    rr_dominance = sentiment_scores['pos'] + sentiment_scores['neg'] - sentiment_scores['neu']\n",
    "    \n",
    "    rr_valence_scores.append(rr_valence)\n",
    "    rr_arousal_scores.append(rr_arousal)\n",
    "    rr_dominance_scores.append(rr_dominance)"
   ]
  },
  {
   "cell_type": "code",
   "execution_count": 193,
   "id": "02335982",
   "metadata": {
    "collapsed": true
   },
   "outputs": [
    {
     "data": {
      "text/html": [
       "<div>\n",
       "<style scoped>\n",
       "    .dataframe tbody tr th:only-of-type {\n",
       "        vertical-align: middle;\n",
       "    }\n",
       "\n",
       "    .dataframe tbody tr th {\n",
       "        vertical-align: top;\n",
       "    }\n",
       "\n",
       "    .dataframe thead th {\n",
       "        text-align: right;\n",
       "    }\n",
       "</style>\n",
       "<table border=\"1\" class=\"dataframe\">\n",
       "  <thead>\n",
       "    <tr style=\"text-align: right;\">\n",
       "      <th></th>\n",
       "      <th>submissions</th>\n",
       "      <th>tokenized</th>\n",
       "      <th>lemmatized</th>\n",
       "      <th>document</th>\n",
       "      <th>valence</th>\n",
       "      <th>arousal</th>\n",
       "      <th>dominance</th>\n",
       "    </tr>\n",
       "  </thead>\n",
       "  <tbody>\n",
       "    <tr>\n",
       "      <th>6134</th>\n",
       "      <td>there is no too frugal. its called being cheap...</td>\n",
       "      <td>['there', 'is', 'no', 'too', 'frugal', 'its', ...</td>\n",
       "      <td>['there', 'is', 'no', 'too', 'frugal', 'it', '...</td>\n",
       "      <td>random reddit</td>\n",
       "      <td>0.2500</td>\n",
       "      <td>0.037</td>\n",
       "      <td>-0.606</td>\n",
       "    </tr>\n",
       "    <tr>\n",
       "      <th>5270</th>\n",
       "      <td>it depends on the situation and who i'm around...</td>\n",
       "      <td>['it', 'depends', 'on', 'the', 'situation', 'a...</td>\n",
       "      <td>['it', 'depends', 'on', 'the', 'situation', 'a...</td>\n",
       "      <td>random reddit</td>\n",
       "      <td>0.6310</td>\n",
       "      <td>0.098</td>\n",
       "      <td>-0.804</td>\n",
       "    </tr>\n",
       "    <tr>\n",
       "      <th>3210</th>\n",
       "      <td>wake &gt; reddit &gt; sleep, repeat</td>\n",
       "      <td>['wake', 'reddit', 'sleep', 'repeat']</td>\n",
       "      <td>['wake', 'reddit', 'sleep', 'repeat']</td>\n",
       "      <td>random reddit</td>\n",
       "      <td>0.0000</td>\n",
       "      <td>0.000</td>\n",
       "      <td>-1.000</td>\n",
       "    </tr>\n",
       "    <tr>\n",
       "      <th>3643</th>\n",
       "      <td>i wouldn't. i couldn't bare losing that person...</td>\n",
       "      <td>['i', 'would', 'i', 'could', 'bare', 'losing',...</td>\n",
       "      <td>['i', 'would', 'i', 'could', 'bare', 'losing',...</td>\n",
       "      <td>random reddit</td>\n",
       "      <td>0.6103</td>\n",
       "      <td>0.125</td>\n",
       "      <td>-0.447</td>\n",
       "    </tr>\n",
       "    <tr>\n",
       "      <th>2908</th>\n",
       "      <td>how does that not seem artistic?</td>\n",
       "      <td>['how', 'does', 'that', 'not', 'seem', 'artist...</td>\n",
       "      <td>['how', 'doe', 'that', 'not', 'seem', 'artistic']</td>\n",
       "      <td>random reddit</td>\n",
       "      <td>0.0000</td>\n",
       "      <td>0.000</td>\n",
       "      <td>-1.000</td>\n",
       "    </tr>\n",
       "    <tr>\n",
       "      <th>...</th>\n",
       "      <td>...</td>\n",
       "      <td>...</td>\n",
       "      <td>...</td>\n",
       "      <td>...</td>\n",
       "      <td>...</td>\n",
       "      <td>...</td>\n",
       "      <td>...</td>\n",
       "    </tr>\n",
       "    <tr>\n",
       "      <th>829</th>\n",
       "      <td>gang rapes and poor people.</td>\n",
       "      <td>['gang', 'rapes', 'and', 'poor', 'people']</td>\n",
       "      <td>['gang', 'rape', 'and', 'poor', 'people']</td>\n",
       "      <td>random reddit</td>\n",
       "      <td>-0.8225</td>\n",
       "      <td>-0.717</td>\n",
       "      <td>0.434</td>\n",
       "    </tr>\n",
       "    <tr>\n",
       "      <th>3498</th>\n",
       "      <td>death exist because of life. if you don't make...</td>\n",
       "      <td>['death', 'exist', 'because', 'of', 'life', 'i...</td>\n",
       "      <td>['death', 'exist', 'because', 'of', 'life', 'i...</td>\n",
       "      <td>random reddit</td>\n",
       "      <td>-0.8555</td>\n",
       "      <td>-0.311</td>\n",
       "      <td>-0.038</td>\n",
       "    </tr>\n",
       "    <tr>\n",
       "      <th>2081</th>\n",
       "      <td>olympic peninsula</td>\n",
       "      <td>['olympic', 'peninsula']</td>\n",
       "      <td>['olympic', 'peninsula']</td>\n",
       "      <td>random reddit</td>\n",
       "      <td>0.0000</td>\n",
       "      <td>0.000</td>\n",
       "      <td>-1.000</td>\n",
       "    </tr>\n",
       "    <tr>\n",
       "      <th>9316</th>\n",
       "      <td>alexandria, va (just outside of the district) ...</td>\n",
       "      <td>['alexandria', 'va', 'just', 'outside', 'of', ...</td>\n",
       "      <td>['alexandria', 'va', 'just', 'outside', 'of', ...</td>\n",
       "      <td>random reddit</td>\n",
       "      <td>0.0000</td>\n",
       "      <td>0.000</td>\n",
       "      <td>-1.000</td>\n",
       "    </tr>\n",
       "    <tr>\n",
       "      <th>9868</th>\n",
       "      <td>no, come on...\\n\\nfor one thing, psychiatrists...</td>\n",
       "      <td>['no', 'come', 'on', 'for', 'one', 'thing', 'p...</td>\n",
       "      <td>['no', 'come', 'on', 'for', 'one', 'thing', 'p...</td>\n",
       "      <td>random reddit</td>\n",
       "      <td>0.9297</td>\n",
       "      <td>0.153</td>\n",
       "      <td>-0.609</td>\n",
       "    </tr>\n",
       "  </tbody>\n",
       "</table>\n",
       "<p>5000 rows × 7 columns</p>\n",
       "</div>"
      ],
      "text/plain": [
       "                                            submissions  \\\n",
       "6134  there is no too frugal. its called being cheap...   \n",
       "5270  it depends on the situation and who i'm around...   \n",
       "3210                      wake > reddit > sleep, repeat   \n",
       "3643  i wouldn't. i couldn't bare losing that person...   \n",
       "2908                   how does that not seem artistic?   \n",
       "...                                                 ...   \n",
       "829                         gang rapes and poor people.   \n",
       "3498  death exist because of life. if you don't make...   \n",
       "2081                                  olympic peninsula   \n",
       "9316  alexandria, va (just outside of the district) ...   \n",
       "9868  no, come on...\\n\\nfor one thing, psychiatrists...   \n",
       "\n",
       "                                              tokenized  \\\n",
       "6134  ['there', 'is', 'no', 'too', 'frugal', 'its', ...   \n",
       "5270  ['it', 'depends', 'on', 'the', 'situation', 'a...   \n",
       "3210              ['wake', 'reddit', 'sleep', 'repeat']   \n",
       "3643  ['i', 'would', 'i', 'could', 'bare', 'losing',...   \n",
       "2908  ['how', 'does', 'that', 'not', 'seem', 'artist...   \n",
       "...                                                 ...   \n",
       "829          ['gang', 'rapes', 'and', 'poor', 'people']   \n",
       "3498  ['death', 'exist', 'because', 'of', 'life', 'i...   \n",
       "2081                           ['olympic', 'peninsula']   \n",
       "9316  ['alexandria', 'va', 'just', 'outside', 'of', ...   \n",
       "9868  ['no', 'come', 'on', 'for', 'one', 'thing', 'p...   \n",
       "\n",
       "                                             lemmatized       document  \\\n",
       "6134  ['there', 'is', 'no', 'too', 'frugal', 'it', '...  random reddit   \n",
       "5270  ['it', 'depends', 'on', 'the', 'situation', 'a...  random reddit   \n",
       "3210              ['wake', 'reddit', 'sleep', 'repeat']  random reddit   \n",
       "3643  ['i', 'would', 'i', 'could', 'bare', 'losing',...  random reddit   \n",
       "2908  ['how', 'doe', 'that', 'not', 'seem', 'artistic']  random reddit   \n",
       "...                                                 ...            ...   \n",
       "829           ['gang', 'rape', 'and', 'poor', 'people']  random reddit   \n",
       "3498  ['death', 'exist', 'because', 'of', 'life', 'i...  random reddit   \n",
       "2081                           ['olympic', 'peninsula']  random reddit   \n",
       "9316  ['alexandria', 'va', 'just', 'outside', 'of', ...  random reddit   \n",
       "9868  ['no', 'come', 'on', 'for', 'one', 'thing', 'p...  random reddit   \n",
       "\n",
       "      valence  arousal  dominance  \n",
       "6134   0.2500    0.037     -0.606  \n",
       "5270   0.6310    0.098     -0.804  \n",
       "3210   0.0000    0.000     -1.000  \n",
       "3643   0.6103    0.125     -0.447  \n",
       "2908   0.0000    0.000     -1.000  \n",
       "...       ...      ...        ...  \n",
       "829   -0.8225   -0.717      0.434  \n",
       "3498  -0.8555   -0.311     -0.038  \n",
       "2081   0.0000    0.000     -1.000  \n",
       "9316   0.0000    0.000     -1.000  \n",
       "9868   0.9297    0.153     -0.609  \n",
       "\n",
       "[5000 rows x 7 columns]"
      ]
     },
     "execution_count": 193,
     "metadata": {},
     "output_type": "execute_result"
    }
   ],
   "source": [
    "random_random_reddit['valence'] = rr_valence_scores\n",
    "random_random_reddit['arousal'] = rr_arousal_scores\n",
    "random_random_reddit['dominance'] = rr_dominance_scores\n",
    "random_random_reddit.to_excel('random_reddit_VAD_score.xlsx', index=False)\n",
    "random_random_reddit"
   ]
  },
  {
   "cell_type": "code",
   "execution_count": 248,
   "id": "e0eaa07d",
   "metadata": {},
   "outputs": [
    {
     "data": {
      "text/html": [
       "<div>\n",
       "<style scoped>\n",
       "    .dataframe tbody tr th:only-of-type {\n",
       "        vertical-align: middle;\n",
       "    }\n",
       "\n",
       "    .dataframe tbody tr th {\n",
       "        vertical-align: top;\n",
       "    }\n",
       "\n",
       "    .dataframe thead th {\n",
       "        text-align: right;\n",
       "    }\n",
       "</style>\n",
       "<table border=\"1\" class=\"dataframe\">\n",
       "  <thead>\n",
       "    <tr style=\"text-align: right;\">\n",
       "      <th></th>\n",
       "      <th>valence</th>\n",
       "      <th>dominance</th>\n",
       "      <th>arousal</th>\n",
       "      <th>document</th>\n",
       "      <th>category</th>\n",
       "    </tr>\n",
       "  </thead>\n",
       "  <tbody>\n",
       "    <tr>\n",
       "      <th>0</th>\n",
       "      <td>0.093252</td>\n",
       "      <td>-0.582751</td>\n",
       "      <td>0.042612</td>\n",
       "      <td>random reddit</td>\n",
       "      <td>all</td>\n",
       "    </tr>\n",
       "    <tr>\n",
       "      <th>1</th>\n",
       "      <td>0.093252</td>\n",
       "      <td>-0.582751</td>\n",
       "      <td>0.042612</td>\n",
       "      <td>bible</td>\n",
       "      <td>all</td>\n",
       "    </tr>\n",
       "    <tr>\n",
       "      <th>2</th>\n",
       "      <td>0.161170</td>\n",
       "      <td>-0.543933</td>\n",
       "      <td>0.059242</td>\n",
       "      <td>christian reddit</td>\n",
       "      <td>all</td>\n",
       "    </tr>\n",
       "  </tbody>\n",
       "</table>\n",
       "</div>"
      ],
      "text/plain": [
       "    valence  dominance   arousal          document category\n",
       "0  0.093252  -0.582751  0.042612     random reddit      all\n",
       "1  0.093252  -0.582751  0.042612             bible      all\n",
       "2  0.161170  -0.543933  0.059242  christian reddit      all"
      ]
     },
     "execution_count": 248,
     "metadata": {},
     "output_type": "execute_result"
    }
   ],
   "source": [
    "#creating a new dataframe which contains the averages of the\n",
    "averages = pd.DataFrame({'valence': [random_random_reddit['valence'].mean(), random_bible['valence'].mean(), random_christian_reddit['valence'].mean()],\n",
    "                        'dominance': [random_random_reddit['dominance'].mean(), random_bible['dominance'].mean(), random_christian_reddit['dominance'].mean()],\n",
    "                        'arousal': [random_random_reddit['arousal'].mean(), random_bible['arousal'].mean(), random_christian_reddit['arousal'].mean()],\n",
    "                        'document': ['random reddit', 'bible', 'christian reddit'],\n",
    "                        'category': ['all', 'all', 'all']})\n",
    "                        \n",
    "averages"
   ]
  },
  {
   "cell_type": "code",
   "execution_count": 203,
   "id": "8c8e046a",
   "metadata": {},
   "outputs": [],
   "source": [
    "#Concatenating the VAD dataframes\n",
    "VAD_all = pd.concat([random_random_reddit, random_bible, random_christian_reddit])\n",
    "VAD_all.to_excel('VAD_all_score.xlsx', index=False)"
   ]
  },
  {
   "cell_type": "markdown",
   "id": "abad72e5",
   "metadata": {},
   "source": [
    "### Calculating the VAD scores for each sentence where women are involved for the entire corpus"
   ]
  },
  {
   "cell_type": "code",
   "execution_count": 245,
   "id": "76cd83f4",
   "metadata": {},
   "outputs": [],
   "source": [
    "random_christian_reddit_woman = random_christian_reddit[random_christian_reddit['lemmatized'].str.contains('woman')]\n",
    "random_reddit_woman = random_random_reddit[random_random_reddit['lemmatized'].str.contains('woman')]\n",
    "random_bible_woman= random_bible[random_bible['lemmatized'].str.contains('woman')]"
   ]
  },
  {
   "cell_type": "code",
   "execution_count": 247,
   "id": "dd4bcbbc",
   "metadata": {},
   "outputs": [
    {
     "data": {
      "text/html": [
       "<div>\n",
       "<style scoped>\n",
       "    .dataframe tbody tr th:only-of-type {\n",
       "        vertical-align: middle;\n",
       "    }\n",
       "\n",
       "    .dataframe tbody tr th {\n",
       "        vertical-align: top;\n",
       "    }\n",
       "\n",
       "    .dataframe thead th {\n",
       "        text-align: right;\n",
       "    }\n",
       "</style>\n",
       "<table border=\"1\" class=\"dataframe\">\n",
       "  <thead>\n",
       "    <tr style=\"text-align: right;\">\n",
       "      <th></th>\n",
       "      <th>valence</th>\n",
       "      <th>dominance</th>\n",
       "      <th>arousal</th>\n",
       "      <th>document</th>\n",
       "      <th>category</th>\n",
       "    </tr>\n",
       "  </thead>\n",
       "  <tbody>\n",
       "    <tr>\n",
       "      <th>0</th>\n",
       "      <td>0.120240</td>\n",
       "      <td>-0.555044</td>\n",
       "      <td>0.028451</td>\n",
       "      <td>random reddit</td>\n",
       "      <td>woman</td>\n",
       "    </tr>\n",
       "    <tr>\n",
       "      <th>1</th>\n",
       "      <td>0.129157</td>\n",
       "      <td>-0.576223</td>\n",
       "      <td>0.047330</td>\n",
       "      <td>bible</td>\n",
       "      <td>woman</td>\n",
       "    </tr>\n",
       "    <tr>\n",
       "      <th>2</th>\n",
       "      <td>0.120240</td>\n",
       "      <td>-0.565172</td>\n",
       "      <td>0.021270</td>\n",
       "      <td>christian_reddit</td>\n",
       "      <td>woman</td>\n",
       "    </tr>\n",
       "  </tbody>\n",
       "</table>\n",
       "</div>"
      ],
      "text/plain": [
       "    valence  dominance   arousal          document category\n",
       "0  0.120240  -0.555044  0.028451     random reddit    woman\n",
       "1  0.129157  -0.576223  0.047330             bible    woman\n",
       "2  0.120240  -0.565172  0.021270  christian_reddit    woman"
      ]
     },
     "execution_count": 247,
     "metadata": {},
     "output_type": "execute_result"
    }
   ],
   "source": [
    "#creating a new dataframe which contains the averages of the\n",
    "averages_woman = pd.DataFrame({'valence': [random_christian_reddit_woman['valence'].mean(), random_bible_woman['valence'].mean(), random_christian_reddit_woman['valence'].mean()],\n",
    "                        'dominance': [random_reddit_woman['dominance'].mean(), random_bible_woman['dominance'].mean(), random_christian_reddit_woman['dominance'].mean()],\n",
    "                        'arousal': [random_reddit_woman['arousal'].mean(), random_bible_woman['arousal'].mean(), random_christian_reddit_woman['arousal'].mean()],\n",
    "                        'document': ['random reddit', 'bible', 'christian_reddit'], \n",
    "                            'category': ['woman', 'woman', 'woman']})\n",
    "                        \n"
   ]
  },
  {
   "cell_type": "code",
   "execution_count": 250,
   "id": "76fca674",
   "metadata": {},
   "outputs": [
    {
     "data": {
      "text/html": [
       "<div>\n",
       "<style scoped>\n",
       "    .dataframe tbody tr th:only-of-type {\n",
       "        vertical-align: middle;\n",
       "    }\n",
       "\n",
       "    .dataframe tbody tr th {\n",
       "        vertical-align: top;\n",
       "    }\n",
       "\n",
       "    .dataframe thead th {\n",
       "        text-align: right;\n",
       "    }\n",
       "</style>\n",
       "<table border=\"1\" class=\"dataframe\">\n",
       "  <thead>\n",
       "    <tr style=\"text-align: right;\">\n",
       "      <th></th>\n",
       "      <th>valence</th>\n",
       "      <th>dominance</th>\n",
       "      <th>arousal</th>\n",
       "      <th>document</th>\n",
       "      <th>category</th>\n",
       "    </tr>\n",
       "  </thead>\n",
       "  <tbody>\n",
       "    <tr>\n",
       "      <th>0</th>\n",
       "      <td>0.120240</td>\n",
       "      <td>-0.555044</td>\n",
       "      <td>0.028451</td>\n",
       "      <td>random reddit</td>\n",
       "      <td>woman</td>\n",
       "    </tr>\n",
       "    <tr>\n",
       "      <th>1</th>\n",
       "      <td>0.129157</td>\n",
       "      <td>-0.576223</td>\n",
       "      <td>0.047330</td>\n",
       "      <td>bible</td>\n",
       "      <td>woman</td>\n",
       "    </tr>\n",
       "    <tr>\n",
       "      <th>2</th>\n",
       "      <td>0.120240</td>\n",
       "      <td>-0.565172</td>\n",
       "      <td>0.021270</td>\n",
       "      <td>christian_reddit</td>\n",
       "      <td>woman</td>\n",
       "    </tr>\n",
       "    <tr>\n",
       "      <th>0</th>\n",
       "      <td>0.093252</td>\n",
       "      <td>-0.582751</td>\n",
       "      <td>0.042612</td>\n",
       "      <td>random reddit</td>\n",
       "      <td>all</td>\n",
       "    </tr>\n",
       "    <tr>\n",
       "      <th>1</th>\n",
       "      <td>0.093252</td>\n",
       "      <td>-0.582751</td>\n",
       "      <td>0.042612</td>\n",
       "      <td>bible</td>\n",
       "      <td>all</td>\n",
       "    </tr>\n",
       "    <tr>\n",
       "      <th>2</th>\n",
       "      <td>0.161170</td>\n",
       "      <td>-0.543933</td>\n",
       "      <td>0.059242</td>\n",
       "      <td>christian reddit</td>\n",
       "      <td>all</td>\n",
       "    </tr>\n",
       "  </tbody>\n",
       "</table>\n",
       "</div>"
      ],
      "text/plain": [
       "    valence  dominance   arousal          document category\n",
       "0  0.120240  -0.555044  0.028451     random reddit    woman\n",
       "1  0.129157  -0.576223  0.047330             bible    woman\n",
       "2  0.120240  -0.565172  0.021270  christian_reddit    woman\n",
       "0  0.093252  -0.582751  0.042612     random reddit      all\n",
       "1  0.093252  -0.582751  0.042612             bible      all\n",
       "2  0.161170  -0.543933  0.059242  christian reddit      all"
      ]
     },
     "execution_count": 250,
     "metadata": {},
     "output_type": "execute_result"
    }
   ],
   "source": [
    "VAD_category = pd.concat([averages_woman, averages])\n",
    "VAD_category"
   ]
  },
  {
   "cell_type": "code",
   "execution_count": 273,
   "id": "e3f4e00d",
   "metadata": {},
   "outputs": [
    {
     "data": {
      "image/png": "[encoded data removed]",
      "text/plain": [
       "<Figure size 1200x500 with 2 Axes>"
      ]
     },
     "metadata": {},
     "output_type": "display_data"
    }
   ],
   "source": [
    "labels = ['Valence', 'Arousal', 'Dominance']\n",
    "rr_wom = [0.120240, -0.555044, 0.028451] \n",
    "b_wom = [0.129157, -0.576223, 0.047330]\n",
    "cr_wom = [0.120240, -0.565172, 0.021270]\n",
    "\n",
    "rr_all = [0.093252, -0.582751, 0.042612]\n",
    "b_all = [0.093252, -0.582751, 0.042612]\n",
    "cr_all = [0.161170, -0.543933, 0.059242]\n",
    "\n",
    "\n",
    "x = np.arange(len(labels))\n",
    "width = 0.1\n",
    "\n",
    "plt.figure(figsize=(12,5))\n",
    "\n",
    "plt.subplot(121)\n",
    "plt.title('VAD score for text relating to woman', fontsize=18)\n",
    "plt.bar(x, rr_wom, width, label='random reddit', hatch='//', color='r')\n",
    "plt.bar(x+width, b_wom, width, label='bible', color='b')\n",
    "plt.bar(x+width*2, cr_wom, width, label='christian reddit', color='g')\n",
    "plt.xticks([0,1,2], labels, fontsize=15)\n",
    "\n",
    "plt.subplot(122)\n",
    "plt.title('VAD score for all text', fontsize=18)\n",
    "plt.bar(x, rr_all, width, hatch='//', color='r')\n",
    "plt.bar(x+width, b_all, width, color='b')\n",
    "plt.bar(x+width*2, cr_all, width, color='g')\n",
    "\n",
    "plt.xticks([0,1,2], labels, fontsize=15)\n",
    "\n",
    "plt.figlegend(loc='lower right', ncol=1, labelspacing=0.5, fontsize=14, bbox_to_anchor=(1.11, 0.9))\n",
    "plt.tight_layout(w_pad=6)\n",
    "plt.show()"
   ]
  },
  {
   "cell_type": "markdown",
   "id": "eaec900c",
   "metadata": {},
   "source": [
    "### 3 D Visualisation of the data"
   ]
  },
  {
   "cell_type": "code",
   "execution_count": 240,
   "id": "6cddf906",
   "metadata": {},
   "outputs": [
    {
     "data": {
      "application/vnd.plotly.v1+json": {
       "config": {
        "plotlyServerURL": "https://plot.ly"
       },
       "data": [
        {
         "hovertemplate": "document=random reddit<br>valence=%{x}<br>arousal=%{y}<br>dominance=%{z}<extra></extra>",
         "legendgroup": "random reddit",
         "marker": {
          "color": "#636efa",
          "line": {
           "color": "DarkSlateGrey",
           "width": 2
          },
          "size": 5,
          "symbol": "circle"
         },
         "mode": "markers",
         "name": "random reddit",
         "scene": "scene",
         "showlegend": true,
         "type": "scatter3d",
         "x": [
          0.9848,
          0.8898,
          -0.4534,
          -0.5267,
          -0.8687,
          0.0201,
          0.862,
          0.4404,
          -0.5267,
          -0.9098,
          0.0772,
          0.1502,
          0.8316,
          0.4215,
          0.901,
          0.5719,
          -0.9279,
          0.8906,
          -0.3182,
          0,
          -0.34,
          0.0005,
          -0.9632,
          0,
          0.9774,
          0.5434,
          -0.8611,
          0.5661,
          -0.7674,
          0.3182,
          0.5994,
          0.4926,
          0,
          -0.9508,
          0.7269,
          0.035,
          -0.7825,
          0.2363,
          -0.8743,
          0.3182,
          0,
          0.7003,
          0.8173,
          0.3065,
          -0.7166,
          0.7303,
          0.0802,
          -0.8485,
          0.5709,
          -0.3137,
          0.102,
          0.0714,
          -0.5113,
          -0.982,
          0.9137,
          0,
          -0.049,
          0.7968,
          0,
          0.4404,
          0.5574,
          0.9934,
          0.9709,
          0.164,
          0,
          0.9468,
          0.1655,
          0.6369,
          0.9274,
          -0.9136,
          0.7992,
          0.4118,
          0.9312,
          0.872,
          -0.1406,
          -0.8761,
          0.8146,
          0.7992,
          0.856,
          0.4404,
          -0.296,
          -0.2516,
          0.0258,
          0.8047,
          -0.765,
          -0.8225,
          -0.4168,
          -0.7906,
          -0.0222,
          0.5719,
          0.9971
         ],
         "y": [
          0.10899999999999999,
          0.10600000000000001,
          -0.131,
          -0.07300000000000001,
          -0.184,
          0.0030000000000000027,
          0.215,
          0.182,
          -0.07700000000000001,
          -0.17,
          0.061,
          0.019999999999999997,
          0.358,
          0.141,
          0.01999999999999999,
          0.346,
          -0.033000000000000015,
          0.20199999999999999,
          -0.535,
          0,
          -0.006999999999999999,
          0,
          -0.259,
          0,
          0.371,
          0.011999999999999997,
          -0.413,
          0.094,
          -0.052000000000000005,
          0.434,
          0.085,
          0.122,
          0,
          -0.121,
          0.10300000000000001,
          -0.033,
          -0.495,
          0.046,
          -0.13,
          0.028,
          0,
          0.592,
          0.116,
          0.047,
          -0.081,
          0.189,
          0.001999999999999988,
          -0.293,
          0.10200000000000001,
          0.007000000000000006,
          -0.010000000000000002,
          0.008000000000000007,
          -0.077,
          -0.081,
          0.12300000000000001,
          0,
          -0.0050000000000000044,
          0.049999999999999996,
          0,
          0.059000000000000004,
          0.074,
          0.131,
          0.10300000000000001,
          0.015,
          0,
          0.339,
          0.032,
          0.23399999999999999,
          0.107,
          -0.494,
          0.133,
          0.034,
          0.324,
          0.226,
          -0.015,
          -0.06899999999999999,
          0.10500000000000001,
          0.22399999999999998,
          0.42,
          0.225,
          -0.121,
          -0.04300000000000001,
          0.022999999999999993,
          0.151,
          -0.458,
          -0.208,
          -0.088,
          -0.412,
          0.010999999999999996,
          0.188,
          0.305
         ],
         "z": [
          -0.6459999999999999,
          -0.6679999999999999,
          -0.18599999999999994,
          -0.28700000000000003,
          -0.6319999999999999,
          -0.8170000000000001,
          -0.422,
          -0.6359999999999999,
          -0.6220000000000001,
          -0.5760000000000001,
          -0.8779999999999999,
          -0.752,
          -0.28400000000000003,
          -0.718,
          -0.31600000000000006,
          -0.30800000000000005,
          -0.522,
          -0.448,
          0.07,
          -1,
          -0.774,
          -0.556,
          -0.22599999999999998,
          -1,
          -0.18499999999999994,
          -0.6160000000000001,
          -0.174,
          -0.5880000000000001,
          -0.611,
          -0.13199999999999995,
          -0.8300000000000001,
          -0.756,
          -1,
          -0.6220000000000001,
          -0.5860000000000001,
          -0.4179999999999999,
          -0.010000000000000009,
          -0.46699999999999997,
          -0.556,
          -0.8320000000000001,
          -1,
          0.184,
          -0.48,
          -0.6499999999999999,
          -0.543,
          -0.6220000000000001,
          -0.591,
          -0.414,
          -0.552,
          -0.635,
          -0.763,
          -0.689,
          -0.673,
          -0.43,
          -0.702,
          -1,
          -0.5820000000000001,
          -0.688,
          -1,
          -0.73,
          -0.8520000000000001,
          -0.518,
          -0.6539999999999999,
          -0.786,
          -1,
          -0.322,
          -0.9359999999999999,
          0,
          -0.786,
          -0.01200000000000001,
          -0.557,
          -0.8680000000000001,
          -0.35200000000000004,
          -0.548,
          -0.774,
          -0.558,
          -0.698,
          -0.276,
          -0.15999999999999998,
          -0.55,
          -0.758,
          -0.29400000000000004,
          -0.554,
          -0.698,
          -0.08400000000000002,
          -0.5840000000000001,
          -0.1479999999999999,
          -0.176,
          -0.877,
          -0.6240000000000001,
          -0.35800000000000004
         ]
        },
        {
         "hovertemplate": "document=bible<br>valence=%{x}<br>arousal=%{y}<br>dominance=%{z}<extra></extra>",
         "legendgroup": "bible",
         "marker": {
          "color": "#EF553B",
          "line": {
           "color": "DarkSlateGrey",
           "width": 2
          },
          "size": 5,
          "symbol": "circle"
         },
         "mode": "markers",
         "name": "bible",
         "scene": "scene",
         "showlegend": true,
         "type": "scatter3d",
         "x": [
          0,
          0.743,
          0,
          0.1531,
          0,
          0.0772,
          -0.3182,
          0.4404,
          0,
          0.1314,
          0,
          -0.1664,
          -0.672,
          0,
          -0.2755,
          0.2732,
          0,
          0,
          0.7096,
          0.3182,
          -0.4003,
          -0.34,
          -0.2263,
          -0.3412,
          -0.5423,
          0.4305,
          0,
          0,
          0,
          0.5994,
          -0.5106,
          -0.5423,
          0,
          -0.296,
          0.1779,
          0,
          0,
          -0.1901,
          -0.1027,
          -0.9666,
          0.9628,
          0.7462,
          0,
          -0.0418,
          0,
          0.1779,
          0.7783,
          0,
          0.5209,
          0,
          0.7928,
          0.8519,
          0.3818,
          0.2263,
          0.4404,
          0.802,
          0,
          0.6124,
          0.3612,
          -0.2617,
          0.7096,
          0,
          0.9063,
          0.4588,
          0,
          -0.6486,
          0,
          -0.6124,
          0.7231,
          0,
          0.7639,
          0.25,
          0.6249,
          0.7964,
          -0.0598,
          0.4215,
          0,
          0.4939,
          0.2263,
          0,
          0,
          0.6115,
          -0.5106,
          0.5423,
          0.8605,
          0.0922,
          -0.3182,
          0,
          0,
          -0.4404,
          0.6369,
          0,
          0,
          0,
          0.4939,
          0,
          -0.296,
          -0.4023,
          0.7783,
          0.3252,
          0,
          0.3612,
          0
         ],
         "y": [
          0,
          0.549,
          0,
          0.019999999999999997,
          0,
          0.091,
          -0.126,
          0.182,
          0,
          -0.019000000000000003,
          0,
          -0.073,
          -0.14200000000000002,
          0,
          -0.413,
          0.057,
          0,
          0,
          0.269,
          0.535,
          -0.212,
          -0.545,
          -0.322,
          -0.085,
          -0.412,
          0.035,
          0,
          0,
          0,
          0.661,
          -0.197,
          -0.333,
          0,
          -0.145,
          0.459,
          0,
          0,
          -0.092,
          -0.318,
          -0.198,
          0.553,
          0.346,
          0,
          -0.04999999999999999,
          0,
          0.11299999999999999,
          0.182,
          0,
          0.16500000000000004,
          0,
          0.205,
          0.231,
          0.08000000000000002,
          0.192,
          0.367,
          0.095,
          0,
          0.556,
          0.385,
          -0.138,
          0.396,
          0,
          0.24299999999999997,
          0.5,
          0,
          -0.227,
          0,
          -0.333,
          0.129,
          0,
          0.172,
          0,
          0.267,
          0.542,
          -0.006999999999999992,
          0.483,
          0,
          0.348,
          0.034,
          0,
          0,
          0.076,
          -1,
          0.259,
          0.06299999999999999,
          0.008000000000000007,
          -0.04700000000000001,
          0,
          0,
          -0.358,
          0.344,
          0,
          0,
          0,
          0.348,
          0,
          -0.059,
          -0.311,
          0.286,
          0.163,
          0,
          0.047999999999999994,
          0
         ],
         "z": [
          -1,
          0.09800000000000003,
          -1,
          -0.736,
          -1,
          -0.8180000000000001,
          0.417,
          -0.6359999999999999,
          -1,
          -0.514,
          -1,
          -0.8540000000000001,
          -0.481,
          -1,
          -0.174,
          -0.8859999999999999,
          -1,
          -1,
          -0.46199999999999997,
          0.07,
          -0.5760000000000001,
          0.09000000000000002,
          -0.35600000000000004,
          -0.8300000000000001,
          -0.176,
          -0.3670000000000001,
          -1,
          -1,
          -1,
          0.322,
          -0.07800000000000001,
          -0.334,
          -1,
          -0.71,
          -0.08200000000000002,
          -1,
          -1,
          -0.8160000000000001,
          -0.36400000000000005,
          -0.544,
          0.10600000000000004,
          -0.30800000000000005,
          -1,
          -0.38099999999999995,
          -1,
          -0.39799999999999996,
          -0.6359999999999999,
          -1,
          0.018000000000000016,
          -1,
          -0.5900000000000001,
          -0.538,
          0.20000000000000007,
          -0.6160000000000001,
          -0.266,
          -0.44999999999999996,
          -1,
          0.11200000000000004,
          -0.22999999999999998,
          -0.724,
          -0.20799999999999996,
          -1,
          -0.3460000000000001,
          0,
          -1,
          -0.546,
          -1,
          -0.334,
          -0.36300000000000004,
          -1,
          -0.45899999999999996,
          -0.325,
          -0.46599999999999997,
          0.08400000000000002,
          -0.718,
          -0.03400000000000003,
          -1,
          -0.30400000000000005,
          -0.9319999999999999,
          -1,
          -1,
          -0.667,
          1,
          -0.482,
          -0.558,
          -0.499,
          -0.698,
          -1,
          -1,
          -0.28400000000000003,
          -0.31200000000000006,
          -1,
          -1,
          -1,
          -0.30400000000000005,
          -1,
          -0.8819999999999999,
          -0.37799999999999995,
          -0.428,
          -0.6739999999999999,
          -1,
          -0.736,
          -1
         ]
        },
        {
         "hovertemplate": "document=christian reddit<br>valence=%{x}<br>arousal=%{y}<br>dominance=%{z}<extra></extra>",
         "legendgroup": "christian reddit",
         "marker": {
          "color": "#00cc96",
          "line": {
           "color": "DarkSlateGrey",
           "width": 2
          },
          "size": 5,
          "symbol": "circle"
         },
         "mode": "markers",
         "name": "christian reddit",
         "scene": "scene",
         "showlegend": true,
         "type": "scatter3d",
         "x": [
          0.9769,
          0.3369,
          -0.1096,
          -0.836,
          0.891,
          0.3036,
          -0.9779,
          -0.8903,
          0,
          -0.3182,
          -0.296,
          -0.8937,
          -0.2235,
          0.2023,
          -0.9359,
          -0.9481,
          -0.9155,
          0.1406,
          -0.9687,
          0.702,
          0.6705,
          -0.9979,
          -0.9435,
          0.9701,
          0.5499,
          0.3169,
          -0.3206,
          -0.6101,
          0.9454,
          0,
          0.1779,
          -0.9856,
          0.4939,
          0.5757,
          0.8988,
          0.9945,
          -0.8587,
          0.6242,
          -0.8474,
          -0.8467,
          -0.8173,
          0,
          -0.204,
          0.7079,
          -0.9447,
          0.9506,
          0.9719,
          0,
          0.9386,
          0.9897,
          0.9921,
          -0.955,
          0.6858,
          0.6904,
          0.9285,
          0.9859,
          0.9441,
          0.5929,
          0.25,
          -0.844,
          0.9976,
          0.9923,
          0.9727,
          0.8519,
          0.327,
          -0.7533,
          -0.9259,
          -0.9911,
          0.624,
          0.9421,
          -0.108,
          0.934,
          -0.7872,
          0.4404,
          -0.3634,
          0.2937,
          -0.965,
          0.7269,
          0.9576,
          0.9052,
          0.9916,
          -0.5362,
          0.8883,
          -0.8519,
          -0.965,
          -0.6712,
          -0.8957,
          0.8573,
          0.3693,
          -0.5412,
          0.8537,
          -0.912,
          -0.1655,
          0.9311,
          0.93,
          0,
          0.9776,
          0.5423,
          0.9841,
          -0.9828,
          -0.4519,
          0.9046,
          0.649,
          0.8839,
          -0.4023,
          -0.797,
          0.933,
          -0.128,
          0.7346,
          0.3071,
          -0.2732,
          0.5458,
          0.9258,
          -0.9032,
          0.5706,
          0.8932,
          -0.5994,
          -0.1531,
          0.7719,
          0.4914,
          0.6908,
          -0.7102
         ],
         "y": [
          0.13899999999999998,
          0.023000000000000007,
          -0.0050000000000000044,
          -0.104,
          0.364,
          0.026,
          -0.104,
          -0.03999999999999998,
          0,
          -0.066,
          -0.0040000000000000036,
          -0.066,
          -0.173,
          0.096,
          -0.060999999999999985,
          -0.187,
          -0.08299999999999999,
          -0.007999999999999993,
          -0.12100000000000001,
          0.11299999999999999,
          0.074,
          -0.07999999999999999,
          -0.064,
          0.136,
          0.068,
          0.057999999999999996,
          -0.114,
          -0.017,
          0.037000000000000005,
          0,
          0.034999999999999996,
          -0.181,
          0.16,
          0.020000000000000004,
          0.063,
          0.13999999999999999,
          -0.07600000000000001,
          0.08399999999999999,
          -0.0050000000000000044,
          -0.141,
          -0.091,
          0,
          -0.018000000000000002,
          0.203,
          -0.109,
          0.101,
          0.151,
          0,
          0.007999999999999993,
          0.08299999999999999,
          0.07999999999999999,
          -0.12000000000000002,
          0.075,
          0.039,
          0.10200000000000001,
          0.16299999999999998,
          0.131,
          0.018000000000000002,
          0.05900000000000001,
          -0.06,
          0.181,
          0.106,
          0.036000000000000004,
          0.20299999999999996,
          0.047,
          -0.04199999999999998,
          -0.019000000000000003,
          -0.147,
          0.13,
          0.10300000000000001,
          0.01299999999999999,
          0.06300000000000001,
          0.00899999999999998,
          0.108,
          -0.053000000000000005,
          0.025999999999999995,
          -0.053000000000000005,
          0.186,
          0.025999999999999995,
          0.121,
          0.07200000000000001,
          -0.08,
          0.368,
          -0.15100000000000002,
          -0.10799999999999998,
          -0.11300000000000002,
          -0.24,
          0.287,
          0.010999999999999996,
          0.01100000000000001,
          0.069,
          -0.02099999999999999,
          -0.009000000000000008,
          0.06299999999999999,
          0.267,
          0,
          0.098,
          0.097,
          0.06399999999999999,
          -0.127,
          -0.102,
          0.03200000000000001,
          0.008999999999999994,
          0.016999999999999987,
          -0.094,
          -0.01899999999999999,
          0.08600000000000002,
          -0.049,
          0.057999999999999996,
          0.055999999999999994,
          -0.04899999999999999,
          0.03,
          0.177,
          -0.023999999999999994,
          0.006000000000000005,
          0.132,
          -0.035,
          -0.02400000000000002,
          0.01100000000000001,
          0.025999999999999995,
          0.089,
          -0.09100000000000001
         ],
         "z": [
          -0.5780000000000001,
          -0.6020000000000001,
          -0.754,
          -0.36700000000000005,
          -0.272,
          -0.8680000000000001,
          -0.6000000000000001,
          -0.37100000000000005,
          -1,
          -0.32,
          -0.37999999999999995,
          -0.6679999999999999,
          -0.6539999999999999,
          -0.808,
          -0.542,
          -0.39399999999999996,
          -0.6829999999999999,
          -0.665,
          -0.46499999999999997,
          -0.627,
          -0.737,
          -0.5640000000000001,
          -0.6519999999999999,
          -0.48,
          -0.623,
          -0.623,
          -0.772,
          -0.5700000000000001,
          -0.6789999999999999,
          -1,
          -0.726,
          -0.6379999999999999,
          -0.6799999999999999,
          -0.6599999999999999,
          -0.6100000000000001,
          -0.3320000000000001,
          -0.235,
          -0.19999999999999996,
          -0.426,
          -0.45799999999999996,
          -0.754,
          -1,
          -0.508,
          -0.5940000000000001,
          -0.35000000000000003,
          -0.4059999999999999,
          -0.46599999999999997,
          -1,
          -0.6000000000000001,
          -0.18199999999999994,
          -0.6869999999999999,
          -0.556,
          -0.55,
          -0.778,
          -0.5760000000000001,
          -0.6339999999999999,
          -0.5820000000000001,
          -0.709,
          -0.46199999999999997,
          -0.796,
          -0.35000000000000003,
          -0.484,
          -0.6759999999999999,
          -0.27,
          -0.5900000000000001,
          -0.39599999999999996,
          -0.55,
          -0.5660000000000001,
          -0.74,
          -0.6729999999999999,
          -0.741,
          -0.5700000000000001,
          -0.32100000000000006,
          -0.784,
          -0.597,
          -0.6439999999999999,
          -0.577,
          -0.6279999999999999,
          -0.6240000000000001,
          -0.37400000000000005,
          -0.28,
          -0.8400000000000001,
          -0.264,
          -0.27,
          -0.617,
          -0.562,
          -0.52,
          -0.426,
          -0.73,
          0.03700000000000003,
          -0.806,
          -0.757,
          -0.494,
          -0.418,
          -0.27,
          -0.8440000000000001,
          -0.44399999999999995,
          -0.5910000000000001,
          -0.54,
          -0.28600000000000003,
          -0.496,
          -0.788,
          -0.702,
          -0.44199999999999995,
          -0.812,
          -0.691,
          -0.611,
          -0.6499999999999999,
          -0.804,
          -0.341,
          -0.525,
          -0.6869999999999999,
          -0.49,
          -0.21199999999999997,
          -0.784,
          -0.6279999999999999,
          -0.28500000000000003,
          -0.24,
          -0.46199999999999997,
          -0.556,
          -0.6849999999999999,
          -0.51
         ]
        }
       ],
       "layout": {
        "legend": {
         "title": {
          "text": "document"
         },
         "tracegroupgap": 0
        },
        "margin": {
         "t": 60
        },
        "scene": {
         "domain": {
          "x": [
           0,
           1
          ],
          "y": [
           0,
           1
          ]
         },
         "xaxis": {
          "title": {
           "text": "valence"
          }
         },
         "yaxis": {
          "title": {
           "text": "arousal"
          }
         },
         "zaxis": {
          "title": {
           "text": "dominance"
          }
         }
        },
        "template": {
         "data": {
          "bar": [
           {
            "error_x": {
             "color": "#2a3f5f"
            },
            "error_y": {
             "color": "#2a3f5f"
            },
            "marker": {
             "line": {
              "color": "#E5ECF6",
              "width": 0.5
             },
             "pattern": {
              "fillmode": "overlay",
              "size": 10,
              "solidity": 0.2
             }
            },
            "type": "bar"
           }
          ],
          "barpolar": [
           {
            "marker": {
             "line": {
              "color": "#E5ECF6",
              "width": 0.5
             },
             "pattern": {
              "fillmode": "overlay",
              "size": 10,
              "solidity": 0.2
             }
            },
            "type": "barpolar"
           }
          ],
          "carpet": [
           {
            "aaxis": {
             "endlinecolor": "#2a3f5f",
             "gridcolor": "white",
             "linecolor": "white",
             "minorgridcolor": "white",
             "startlinecolor": "#2a3f5f"
            },
            "baxis": {
             "endlinecolor": "#2a3f5f",
             "gridcolor": "white",
             "linecolor": "white",
             "minorgridcolor": "white",
             "startlinecolor": "#2a3f5f"
            },
            "type": "carpet"
           }
          ],
          "choropleth": [
           {
            "colorbar": {
             "outlinewidth": 0,
             "ticks": ""
            },
            "type": "choropleth"
           }
          ],
          "contour": [
           {
            "colorbar": {
             "outlinewidth": 0,
             "ticks": ""
            },
            "colorscale": [
             [
              0,
              "#0d0887"
             ],
             [
              0.1111111111111111,
              "#46039f"
             ],
             [
              0.2222222222222222,
              "#7201a8"
             ],
             [
              0.3333333333333333,
              "#9c179e"
             ],
             [
              0.4444444444444444,
              "#bd3786"
             ],
             [
              0.5555555555555556,
              "#d8576b"
             ],
             [
              0.6666666666666666,
              "#ed7953"
             ],
             [
              0.7777777777777778,
              "#fb9f3a"
             ],
             [
              0.8888888888888888,
              "#fdca26"
             ],
             [
              1,
              "#f0f921"
             ]
            ],
            "type": "contour"
           }
          ],
          "contourcarpet": [
           {
            "colorbar": {
             "outlinewidth": 0,
             "ticks": ""
            },
            "type": "contourcarpet"
           }
          ],
          "heatmap": [
           {
            "colorbar": {
             "outlinewidth": 0,
             "ticks": ""
            },
            "colorscale": [
             [
              0,
              "#0d0887"
             ],
             [
              0.1111111111111111,
              "#46039f"
             ],
             [
              0.2222222222222222,
              "#7201a8"
             ],
             [
              0.3333333333333333,
              "#9c179e"
             ],
             [
              0.4444444444444444,
              "#bd3786"
             ],
             [
              0.5555555555555556,
              "#d8576b"
             ],
             [
              0.6666666666666666,
              "#ed7953"
             ],
             [
              0.7777777777777778,
              "#fb9f3a"
             ],
             [
              0.8888888888888888,
              "#fdca26"
             ],
             [
              1,
              "#f0f921"
             ]
            ],
            "type": "heatmap"
           }
          ],
          "heatmapgl": [
           {
            "colorbar": {
             "outlinewidth": 0,
             "ticks": ""
            },
            "colorscale": [
             [
              0,
              "#0d0887"
             ],
             [
              0.1111111111111111,
              "#46039f"
             ],
             [
              0.2222222222222222,
              "#7201a8"
             ],
             [
              0.3333333333333333,
              "#9c179e"
             ],
             [
              0.4444444444444444,
              "#bd3786"
             ],
             [
              0.5555555555555556,
              "#d8576b"
             ],
             [
              0.6666666666666666,
              "#ed7953"
             ],
             [
              0.7777777777777778,
              "#fb9f3a"
             ],
             [
              0.8888888888888888,
              "#fdca26"
             ],
             [
              1,
              "#f0f921"
             ]
            ],
            "type": "heatmapgl"
           }
          ],
          "histogram": [
           {
            "marker": {
             "pattern": {
              "fillmode": "overlay",
              "size": 10,
              "solidity": 0.2
             }
            },
            "type": "histogram"
           }
          ],
          "histogram2d": [
           {
            "colorbar": {
             "outlinewidth": 0,
             "ticks": ""
            },
            "colorscale": [
             [
              0,
              "#0d0887"
             ],
             [
              0.1111111111111111,
              "#46039f"
             ],
             [
              0.2222222222222222,
              "#7201a8"
             ],
             [
              0.3333333333333333,
              "#9c179e"
             ],
             [
              0.4444444444444444,
              "#bd3786"
             ],
             [
              0.5555555555555556,
              "#d8576b"
             ],
             [
              0.6666666666666666,
              "#ed7953"
             ],
             [
              0.7777777777777778,
              "#fb9f3a"
             ],
             [
              0.8888888888888888,
              "#fdca26"
             ],
             [
              1,
              "#f0f921"
             ]
            ],
            "type": "histogram2d"
           }
          ],
          "histogram2dcontour": [
           {
            "colorbar": {
             "outlinewidth": 0,
             "ticks": ""
            },
            "colorscale": [
             [
              0,
              "#0d0887"
             ],
             [
              0.1111111111111111,
              "#46039f"
             ],
             [
              0.2222222222222222,
              "#7201a8"
             ],
             [
              0.3333333333333333,
              "#9c179e"
             ],
             [
              0.4444444444444444,
              "#bd3786"
             ],
             [
              0.5555555555555556,
              "#d8576b"
             ],
             [
              0.6666666666666666,
              "#ed7953"
             ],
             [
              0.7777777777777778,
              "#fb9f3a"
             ],
             [
              0.8888888888888888,
              "#fdca26"
             ],
             [
              1,
              "#f0f921"
             ]
            ],
            "type": "histogram2dcontour"
           }
          ],
          "mesh3d": [
           {
            "colorbar": {
             "outlinewidth": 0,
             "ticks": ""
            },
            "type": "mesh3d"
           }
          ],
          "parcoords": [
           {
            "line": {
             "colorbar": {
              "outlinewidth": 0,
              "ticks": ""
             }
            },
            "type": "parcoords"
           }
          ],
          "pie": [
           {
            "automargin": true,
            "type": "pie"
           }
          ],
          "scatter": [
           {
            "fillpattern": {
             "fillmode": "overlay",
             "size": 10,
             "solidity": 0.2
            },
            "type": "scatter"
           }
          ],
          "scatter3d": [
           {
            "line": {
             "colorbar": {
              "outlinewidth": 0,
              "ticks": ""
             }
            },
            "marker": {
             "colorbar": {
              "outlinewidth": 0,
              "ticks": ""
             }
            },
            "type": "scatter3d"
           }
          ],
          "scattercarpet": [
           {
            "marker": {
             "colorbar": {
              "outlinewidth": 0,
              "ticks": ""
             }
            },
            "type": "scattercarpet"
           }
          ],
          "scattergeo": [
           {
            "marker": {
             "colorbar": {
              "outlinewidth": 0,
              "ticks": ""
             }
            },
            "type": "scattergeo"
           }
          ],
          "scattergl": [
           {
            "marker": {
             "colorbar": {
              "outlinewidth": 0,
              "ticks": ""
             }
            },
            "type": "scattergl"
           }
          ],
          "scattermapbox": [
           {
            "marker": {
             "colorbar": {
              "outlinewidth": 0,
              "ticks": ""
             }
            },
            "type": "scattermapbox"
           }
          ],
          "scatterpolar": [
           {
            "marker": {
             "colorbar": {
              "outlinewidth": 0,
              "ticks": ""
             }
            },
            "type": "scatterpolar"
           }
          ],
          "scatterpolargl": [
           {
            "marker": {
             "colorbar": {
              "outlinewidth": 0,
              "ticks": ""
             }
            },
            "type": "scatterpolargl"
           }
          ],
          "scatterternary": [
           {
            "marker": {
             "colorbar": {
              "outlinewidth": 0,
              "ticks": ""
             }
            },
            "type": "scatterternary"
           }
          ],
          "surface": [
           {
            "colorbar": {
             "outlinewidth": 0,
             "ticks": ""
            },
            "colorscale": [
             [
              0,
              "#0d0887"
             ],
             [
              0.1111111111111111,
              "#46039f"
             ],
             [
              0.2222222222222222,
              "#7201a8"
             ],
             [
              0.3333333333333333,
              "#9c179e"
             ],
             [
              0.4444444444444444,
              "#bd3786"
             ],
             [
              0.5555555555555556,
              "#d8576b"
             ],
             [
              0.6666666666666666,
              "#ed7953"
             ],
             [
              0.7777777777777778,
              "#fb9f3a"
             ],
             [
              0.8888888888888888,
              "#fdca26"
             ],
             [
              1,
              "#f0f921"
             ]
            ],
            "type": "surface"
           }
          ],
          "table": [
           {
            "cells": {
             "fill": {
              "color": "#EBF0F8"
             },
             "line": {
              "color": "white"
             }
            },
            "header": {
             "fill": {
              "color": "#C8D4E3"
             },
             "line": {
              "color": "white"
             }
            },
            "type": "table"
           }
          ]
         },
         "layout": {
          "annotationdefaults": {
           "arrowcolor": "#2a3f5f",
           "arrowhead": 0,
           "arrowwidth": 1
          },
          "autotypenumbers": "strict",
          "coloraxis": {
           "colorbar": {
            "outlinewidth": 0,
            "ticks": ""
           }
          },
          "colorscale": {
           "diverging": [
            [
             0,
             "#8e0152"
            ],
            [
             0.1,
             "#c51b7d"
            ],
            [
             0.2,
             "#de77ae"
            ],
            [
             0.3,
             "#f1b6da"
            ],
            [
             0.4,
             "#fde0ef"
            ],
            [
             0.5,
             "#f7f7f7"
            ],
            [
             0.6,
             "#e6f5d0"
            ],
            [
             0.7,
             "#b8e186"
            ],
            [
             0.8,
             "#7fbc41"
            ],
            [
             0.9,
             "#4d9221"
            ],
            [
             1,
             "#276419"
            ]
           ],
           "sequential": [
            [
             0,
             "#0d0887"
            ],
            [
             0.1111111111111111,
             "#46039f"
            ],
            [
             0.2222222222222222,
             "#7201a8"
            ],
            [
             0.3333333333333333,
             "#9c179e"
            ],
            [
             0.4444444444444444,
             "#bd3786"
            ],
            [
             0.5555555555555556,
             "#d8576b"
            ],
            [
             0.6666666666666666,
             "#ed7953"
            ],
            [
             0.7777777777777778,
             "#fb9f3a"
            ],
            [
             0.8888888888888888,
             "#fdca26"
            ],
            [
             1,
             "#f0f921"
            ]
           ],
           "sequentialminus": [
            [
             0,
             "#0d0887"
            ],
            [
             0.1111111111111111,
             "#46039f"
            ],
            [
             0.2222222222222222,
             "#7201a8"
            ],
            [
             0.3333333333333333,
             "#9c179e"
            ],
            [
             0.4444444444444444,
             "#bd3786"
            ],
            [
             0.5555555555555556,
             "#d8576b"
            ],
            [
             0.6666666666666666,
             "#ed7953"
            ],
            [
             0.7777777777777778,
             "#fb9f3a"
            ],
            [
             0.8888888888888888,
             "#fdca26"
            ],
            [
             1,
             "#f0f921"
            ]
           ]
          },
          "colorway": [
           "#636efa",
           "#EF553B",
           "#00cc96",
           "#ab63fa",
           "#FFA15A",
           "#19d3f3",
           "#FF6692",
           "#B6E880",
           "#FF97FF",
           "#FECB52"
          ],
          "font": {
           "color": "#2a3f5f"
          },
          "geo": {
           "bgcolor": "white",
           "lakecolor": "white",
           "landcolor": "#E5ECF6",
           "showlakes": true,
           "showland": true,
           "subunitcolor": "white"
          },
          "hoverlabel": {
           "align": "left"
          },
          "hovermode": "closest",
          "mapbox": {
           "style": "light"
          },
          "paper_bgcolor": "white",
          "plot_bgcolor": "#E5ECF6",
          "polar": {
           "angularaxis": {
            "gridcolor": "white",
            "linecolor": "white",
            "ticks": ""
           },
           "bgcolor": "#E5ECF6",
           "radialaxis": {
            "gridcolor": "white",
            "linecolor": "white",
            "ticks": ""
           }
          },
          "scene": {
           "xaxis": {
            "backgroundcolor": "#E5ECF6",
            "gridcolor": "white",
            "gridwidth": 2,
            "linecolor": "white",
            "showbackground": true,
            "ticks": "",
            "zerolinecolor": "white"
           },
           "yaxis": {
            "backgroundcolor": "#E5ECF6",
            "gridcolor": "white",
            "gridwidth": 2,
            "linecolor": "white",
            "showbackground": true,
            "ticks": "",
            "zerolinecolor": "white"
           },
           "zaxis": {
            "backgroundcolor": "#E5ECF6",
            "gridcolor": "white",
            "gridwidth": 2,
            "linecolor": "white",
            "showbackground": true,
            "ticks": "",
            "zerolinecolor": "white"
           }
          },
          "shapedefaults": {
           "line": {
            "color": "#2a3f5f"
           }
          },
          "ternary": {
           "aaxis": {
            "gridcolor": "white",
            "linecolor": "white",
            "ticks": ""
           },
           "baxis": {
            "gridcolor": "white",
            "linecolor": "white",
            "ticks": ""
           },
           "bgcolor": "#E5ECF6",
           "caxis": {
            "gridcolor": "white",
            "linecolor": "white",
            "ticks": ""
           }
          },
          "title": {
           "x": 0.05
          },
          "xaxis": {
           "automargin": true,
           "gridcolor": "white",
           "linecolor": "white",
           "ticks": "",
           "title": {
            "standoff": 15
           },
           "zerolinecolor": "white",
           "zerolinewidth": 2
          },
          "yaxis": {
           "automargin": true,
           "gridcolor": "white",
           "linecolor": "white",
           "ticks": "",
           "title": {
            "standoff": 15
           },
           "zerolinecolor": "white",
           "zerolinewidth": 2
          }
         }
        }
       }
      },
      "text/html": [
       "<div>                            <div id=\"c5b5852d-36e2-484e-8ae4-15f974e099ba\" class=\"plotly-graph-div\" style=\"height:525px; width:100%;\"></div>            <script type=\"text/javascript\">                require([\"plotly\"], function(Plotly) {                    window.PLOTLYENV=window.PLOTLYENV || {};                                    if (document.getElementById(\"c5b5852d-36e2-484e-8ae4-15f974e099ba\")) {                    Plotly.newPlot(                        \"c5b5852d-36e2-484e-8ae4-15f974e099ba\",                        [{\"hovertemplate\":\"document=random reddit<br>valence=%{x}<br>arousal=%{y}<br>dominance=%{z}<extra></extra>\",\"legendgroup\":\"random reddit\",\"marker\":{\"color\":\"#636efa\",\"symbol\":\"circle\",\"line\":{\"color\":\"DarkSlateGrey\",\"width\":2},\"size\":5},\"mode\":\"markers\",\"name\":\"random reddit\",\"scene\":\"scene\",\"showlegend\":true,\"x\":[0.9848,0.8898,-0.4534,-0.5267,-0.8687,0.0201,0.862,0.4404,-0.5267,-0.9098,0.0772,0.1502,0.8316,0.4215,0.901,0.5719,-0.9279,0.8906,-0.3182,0.0,-0.34,0.0005,-0.9632,0.0,0.9774,0.5434,-0.8611,0.5661,-0.7674,0.3182,0.5994,0.4926,0.0,-0.9508,0.7269,0.035,-0.7825,0.2363,-0.8743,0.3182,0.0,0.7003,0.8173,0.3065,-0.7166,0.7303,0.0802,-0.8485,0.5709,-0.3137,0.102,0.0714,-0.5113,-0.982,0.9137,0.0,-0.049,0.7968,0.0,0.4404,0.5574,0.9934,0.9709,0.164,0.0,0.9468,0.1655,0.6369,0.9274,-0.9136,0.7992,0.4118,0.9312,0.872,-0.1406,-0.8761,0.8146,0.7992,0.856,0.4404,-0.296,-0.2516,0.0258,0.8047,-0.765,-0.8225,-0.4168,-0.7906,-0.0222,0.5719,0.9971],\"y\":[0.10899999999999999,0.10600000000000001,-0.131,-0.07300000000000001,-0.184,0.0030000000000000027,0.215,0.182,-0.07700000000000001,-0.17,0.061,0.019999999999999997,0.358,0.141,0.01999999999999999,0.346,-0.033000000000000015,0.20199999999999999,-0.535,0.0,-0.006999999999999999,0.0,-0.259,0.0,0.371,0.011999999999999997,-0.413,0.094,-0.052000000000000005,0.434,0.085,0.122,0.0,-0.121,0.10300000000000001,-0.033,-0.495,0.046,-0.13,0.028,0.0,0.592,0.116,0.047,-0.081,0.189,0.001999999999999988,-0.293,0.10200000000000001,0.007000000000000006,-0.010000000000000002,0.008000000000000007,-0.077,-0.081,0.12300000000000001,0.0,-0.0050000000000000044,0.049999999999999996,0.0,0.059000000000000004,0.074,0.131,0.10300000000000001,0.015,0.0,0.339,0.032,0.23399999999999999,0.107,-0.494,0.133,0.034,0.324,0.226,-0.015,-0.06899999999999999,0.10500000000000001,0.22399999999999998,0.42,0.225,-0.121,-0.04300000000000001,0.022999999999999993,0.151,-0.458,-0.208,-0.088,-0.412,0.010999999999999996,0.188,0.305],\"z\":[-0.6459999999999999,-0.6679999999999999,-0.18599999999999994,-0.28700000000000003,-0.6319999999999999,-0.8170000000000001,-0.422,-0.6359999999999999,-0.6220000000000001,-0.5760000000000001,-0.8779999999999999,-0.752,-0.28400000000000003,-0.718,-0.31600000000000006,-0.30800000000000005,-0.522,-0.448,0.07,-1.0,-0.774,-0.556,-0.22599999999999998,-1.0,-0.18499999999999994,-0.6160000000000001,-0.174,-0.5880000000000001,-0.611,-0.13199999999999995,-0.8300000000000001,-0.756,-1.0,-0.6220000000000001,-0.5860000000000001,-0.4179999999999999,-0.010000000000000009,-0.46699999999999997,-0.556,-0.8320000000000001,-1.0,0.184,-0.48,-0.6499999999999999,-0.543,-0.6220000000000001,-0.591,-0.414,-0.552,-0.635,-0.763,-0.689,-0.673,-0.43,-0.702,-1.0,-0.5820000000000001,-0.688,-1.0,-0.73,-0.8520000000000001,-0.518,-0.6539999999999999,-0.786,-1.0,-0.322,-0.9359999999999999,0.0,-0.786,-0.01200000000000001,-0.557,-0.8680000000000001,-0.35200000000000004,-0.548,-0.774,-0.558,-0.698,-0.276,-0.15999999999999998,-0.55,-0.758,-0.29400000000000004,-0.554,-0.698,-0.08400000000000002,-0.5840000000000001,-0.1479999999999999,-0.176,-0.877,-0.6240000000000001,-0.35800000000000004],\"type\":\"scatter3d\"},{\"hovertemplate\":\"document=bible<br>valence=%{x}<br>arousal=%{y}<br>dominance=%{z}<extra></extra>\",\"legendgroup\":\"bible\",\"marker\":{\"color\":\"#EF553B\",\"symbol\":\"circle\",\"line\":{\"color\":\"DarkSlateGrey\",\"width\":2},\"size\":5},\"mode\":\"markers\",\"name\":\"bible\",\"scene\":\"scene\",\"showlegend\":true,\"x\":[0.0,0.743,0.0,0.1531,0.0,0.0772,-0.3182,0.4404,0.0,0.1314,0.0,-0.1664,-0.672,0.0,-0.2755,0.2732,0.0,0.0,0.7096,0.3182,-0.4003,-0.34,-0.2263,-0.3412,-0.5423,0.4305,0.0,0.0,0.0,0.5994,-0.5106,-0.5423,0.0,-0.296,0.1779,0.0,0.0,-0.1901,-0.1027,-0.9666,0.9628,0.7462,0.0,-0.0418,0.0,0.1779,0.7783,0.0,0.5209,0.0,0.7928,0.8519,0.3818,0.2263,0.4404,0.802,0.0,0.6124,0.3612,-0.2617,0.7096,0.0,0.9063,0.4588,0.0,-0.6486,0.0,-0.6124,0.7231,0.0,0.7639,0.25,0.6249,0.7964,-0.0598,0.4215,0.0,0.4939,0.2263,0.0,0.0,0.6115,-0.5106,0.5423,0.8605,0.0922,-0.3182,0.0,0.0,-0.4404,0.6369,0.0,0.0,0.0,0.4939,0.0,-0.296,-0.4023,0.7783,0.3252,0.0,0.3612,0.0],\"y\":[0.0,0.549,0.0,0.019999999999999997,0.0,0.091,-0.126,0.182,0.0,-0.019000000000000003,0.0,-0.073,-0.14200000000000002,0.0,-0.413,0.057,0.0,0.0,0.269,0.535,-0.212,-0.545,-0.322,-0.085,-0.412,0.035,0.0,0.0,0.0,0.661,-0.197,-0.333,0.0,-0.145,0.459,0.0,0.0,-0.092,-0.318,-0.198,0.553,0.346,0.0,-0.04999999999999999,0.0,0.11299999999999999,0.182,0.0,0.16500000000000004,0.0,0.205,0.231,0.08000000000000002,0.192,0.367,0.095,0.0,0.556,0.385,-0.138,0.396,0.0,0.24299999999999997,0.5,0.0,-0.227,0.0,-0.333,0.129,0.0,0.172,0.0,0.267,0.542,-0.006999999999999992,0.483,0.0,0.348,0.034,0.0,0.0,0.076,-1.0,0.259,0.06299999999999999,0.008000000000000007,-0.04700000000000001,0.0,0.0,-0.358,0.344,0.0,0.0,0.0,0.348,0.0,-0.059,-0.311,0.286,0.163,0.0,0.047999999999999994,0.0],\"z\":[-1.0,0.09800000000000003,-1.0,-0.736,-1.0,-0.8180000000000001,0.417,-0.6359999999999999,-1.0,-0.514,-1.0,-0.8540000000000001,-0.481,-1.0,-0.174,-0.8859999999999999,-1.0,-1.0,-0.46199999999999997,0.07,-0.5760000000000001,0.09000000000000002,-0.35600000000000004,-0.8300000000000001,-0.176,-0.3670000000000001,-1.0,-1.0,-1.0,0.322,-0.07800000000000001,-0.334,-1.0,-0.71,-0.08200000000000002,-1.0,-1.0,-0.8160000000000001,-0.36400000000000005,-0.544,0.10600000000000004,-0.30800000000000005,-1.0,-0.38099999999999995,-1.0,-0.39799999999999996,-0.6359999999999999,-1.0,0.018000000000000016,-1.0,-0.5900000000000001,-0.538,0.20000000000000007,-0.6160000000000001,-0.266,-0.44999999999999996,-1.0,0.11200000000000004,-0.22999999999999998,-0.724,-0.20799999999999996,-1.0,-0.3460000000000001,0.0,-1.0,-0.546,-1.0,-0.334,-0.36300000000000004,-1.0,-0.45899999999999996,-0.325,-0.46599999999999997,0.08400000000000002,-0.718,-0.03400000000000003,-1.0,-0.30400000000000005,-0.9319999999999999,-1.0,-1.0,-0.667,1.0,-0.482,-0.558,-0.499,-0.698,-1.0,-1.0,-0.28400000000000003,-0.31200000000000006,-1.0,-1.0,-1.0,-0.30400000000000005,-1.0,-0.8819999999999999,-0.37799999999999995,-0.428,-0.6739999999999999,-1.0,-0.736,-1.0],\"type\":\"scatter3d\"},{\"hovertemplate\":\"document=christian reddit<br>valence=%{x}<br>arousal=%{y}<br>dominance=%{z}<extra></extra>\",\"legendgroup\":\"christian reddit\",\"marker\":{\"color\":\"#00cc96\",\"symbol\":\"circle\",\"line\":{\"color\":\"DarkSlateGrey\",\"width\":2},\"size\":5},\"mode\":\"markers\",\"name\":\"christian reddit\",\"scene\":\"scene\",\"showlegend\":true,\"x\":[0.9769,0.3369,-0.1096,-0.836,0.891,0.3036,-0.9779,-0.8903,0.0,-0.3182,-0.296,-0.8937,-0.2235,0.2023,-0.9359,-0.9481,-0.9155,0.1406,-0.9687,0.702,0.6705,-0.9979,-0.9435,0.9701,0.5499,0.3169,-0.3206,-0.6101,0.9454,0.0,0.1779,-0.9856,0.4939,0.5757,0.8988,0.9945,-0.8587,0.6242,-0.8474,-0.8467,-0.8173,0.0,-0.204,0.7079,-0.9447,0.9506,0.9719,0.0,0.9386,0.9897,0.9921,-0.955,0.6858,0.6904,0.9285,0.9859,0.9441,0.5929,0.25,-0.844,0.9976,0.9923,0.9727,0.8519,0.327,-0.7533,-0.9259,-0.9911,0.624,0.9421,-0.108,0.934,-0.7872,0.4404,-0.3634,0.2937,-0.965,0.7269,0.9576,0.9052,0.9916,-0.5362,0.8883,-0.8519,-0.965,-0.6712,-0.8957,0.8573,0.3693,-0.5412,0.8537,-0.912,-0.1655,0.9311,0.93,0.0,0.9776,0.5423,0.9841,-0.9828,-0.4519,0.9046,0.649,0.8839,-0.4023,-0.797,0.933,-0.128,0.7346,0.3071,-0.2732,0.5458,0.9258,-0.9032,0.5706,0.8932,-0.5994,-0.1531,0.7719,0.4914,0.6908,-0.7102],\"y\":[0.13899999999999998,0.023000000000000007,-0.0050000000000000044,-0.104,0.364,0.026,-0.104,-0.03999999999999998,0.0,-0.066,-0.0040000000000000036,-0.066,-0.173,0.096,-0.060999999999999985,-0.187,-0.08299999999999999,-0.007999999999999993,-0.12100000000000001,0.11299999999999999,0.074,-0.07999999999999999,-0.064,0.136,0.068,0.057999999999999996,-0.114,-0.017,0.037000000000000005,0.0,0.034999999999999996,-0.181,0.16,0.020000000000000004,0.063,0.13999999999999999,-0.07600000000000001,0.08399999999999999,-0.0050000000000000044,-0.141,-0.091,0.0,-0.018000000000000002,0.203,-0.109,0.101,0.151,0.0,0.007999999999999993,0.08299999999999999,0.07999999999999999,-0.12000000000000002,0.075,0.039,0.10200000000000001,0.16299999999999998,0.131,0.018000000000000002,0.05900000000000001,-0.06,0.181,0.106,0.036000000000000004,0.20299999999999996,0.047,-0.04199999999999998,-0.019000000000000003,-0.147,0.13,0.10300000000000001,0.01299999999999999,0.06300000000000001,0.00899999999999998,0.108,-0.053000000000000005,0.025999999999999995,-0.053000000000000005,0.186,0.025999999999999995,0.121,0.07200000000000001,-0.08,0.368,-0.15100000000000002,-0.10799999999999998,-0.11300000000000002,-0.24,0.287,0.010999999999999996,0.01100000000000001,0.069,-0.02099999999999999,-0.009000000000000008,0.06299999999999999,0.267,0.0,0.098,0.097,0.06399999999999999,-0.127,-0.102,0.03200000000000001,0.008999999999999994,0.016999999999999987,-0.094,-0.01899999999999999,0.08600000000000002,-0.049,0.057999999999999996,0.055999999999999994,-0.04899999999999999,0.03,0.177,-0.023999999999999994,0.006000000000000005,0.132,-0.035,-0.02400000000000002,0.01100000000000001,0.025999999999999995,0.089,-0.09100000000000001],\"z\":[-0.5780000000000001,-0.6020000000000001,-0.754,-0.36700000000000005,-0.272,-0.8680000000000001,-0.6000000000000001,-0.37100000000000005,-1.0,-0.32,-0.37999999999999995,-0.6679999999999999,-0.6539999999999999,-0.808,-0.542,-0.39399999999999996,-0.6829999999999999,-0.665,-0.46499999999999997,-0.627,-0.737,-0.5640000000000001,-0.6519999999999999,-0.48,-0.623,-0.623,-0.772,-0.5700000000000001,-0.6789999999999999,-1.0,-0.726,-0.6379999999999999,-0.6799999999999999,-0.6599999999999999,-0.6100000000000001,-0.3320000000000001,-0.235,-0.19999999999999996,-0.426,-0.45799999999999996,-0.754,-1.0,-0.508,-0.5940000000000001,-0.35000000000000003,-0.4059999999999999,-0.46599999999999997,-1.0,-0.6000000000000001,-0.18199999999999994,-0.6869999999999999,-0.556,-0.55,-0.778,-0.5760000000000001,-0.6339999999999999,-0.5820000000000001,-0.709,-0.46199999999999997,-0.796,-0.35000000000000003,-0.484,-0.6759999999999999,-0.27,-0.5900000000000001,-0.39599999999999996,-0.55,-0.5660000000000001,-0.74,-0.6729999999999999,-0.741,-0.5700000000000001,-0.32100000000000006,-0.784,-0.597,-0.6439999999999999,-0.577,-0.6279999999999999,-0.6240000000000001,-0.37400000000000005,-0.28,-0.8400000000000001,-0.264,-0.27,-0.617,-0.562,-0.52,-0.426,-0.73,0.03700000000000003,-0.806,-0.757,-0.494,-0.418,-0.27,-0.8440000000000001,-0.44399999999999995,-0.5910000000000001,-0.54,-0.28600000000000003,-0.496,-0.788,-0.702,-0.44199999999999995,-0.812,-0.691,-0.611,-0.6499999999999999,-0.804,-0.341,-0.525,-0.6869999999999999,-0.49,-0.21199999999999997,-0.784,-0.6279999999999999,-0.28500000000000003,-0.24,-0.46199999999999997,-0.556,-0.6849999999999999,-0.51],\"type\":\"scatter3d\"}],                        {\"template\":{\"data\":{\"histogram2dcontour\":[{\"type\":\"histogram2dcontour\",\"colorbar\":{\"outlinewidth\":0,\"ticks\":\"\"},\"colorscale\":[[0.0,\"#0d0887\"],[0.1111111111111111,\"#46039f\"],[0.2222222222222222,\"#7201a8\"],[0.3333333333333333,\"#9c179e\"],[0.4444444444444444,\"#bd3786\"],[0.5555555555555556,\"#d8576b\"],[0.6666666666666666,\"#ed7953\"],[0.7777777777777778,\"#fb9f3a\"],[0.8888888888888888,\"#fdca26\"],[1.0,\"#f0f921\"]]}],\"choropleth\":[{\"type\":\"choropleth\",\"colorbar\":{\"outlinewidth\":0,\"ticks\":\"\"}}],\"histogram2d\":[{\"type\":\"histogram2d\",\"colorbar\":{\"outlinewidth\":0,\"ticks\":\"\"},\"colorscale\":[[0.0,\"#0d0887\"],[0.1111111111111111,\"#46039f\"],[0.2222222222222222,\"#7201a8\"],[0.3333333333333333,\"#9c179e\"],[0.4444444444444444,\"#bd3786\"],[0.5555555555555556,\"#d8576b\"],[0.6666666666666666,\"#ed7953\"],[0.7777777777777778,\"#fb9f3a\"],[0.8888888888888888,\"#fdca26\"],[1.0,\"#f0f921\"]]}],\"heatmap\":[{\"type\":\"heatmap\",\"colorbar\":{\"outlinewidth\":0,\"ticks\":\"\"},\"colorscale\":[[0.0,\"#0d0887\"],[0.1111111111111111,\"#46039f\"],[0.2222222222222222,\"#7201a8\"],[0.3333333333333333,\"#9c179e\"],[0.4444444444444444,\"#bd3786\"],[0.5555555555555556,\"#d8576b\"],[0.6666666666666666,\"#ed7953\"],[0.7777777777777778,\"#fb9f3a\"],[0.8888888888888888,\"#fdca26\"],[1.0,\"#f0f921\"]]}],\"heatmapgl\":[{\"type\":\"heatmapgl\",\"colorbar\":{\"outlinewidth\":0,\"ticks\":\"\"},\"colorscale\":[[0.0,\"#0d0887\"],[0.1111111111111111,\"#46039f\"],[0.2222222222222222,\"#7201a8\"],[0.3333333333333333,\"#9c179e\"],[0.4444444444444444,\"#bd3786\"],[0.5555555555555556,\"#d8576b\"],[0.6666666666666666,\"#ed7953\"],[0.7777777777777778,\"#fb9f3a\"],[0.8888888888888888,\"#fdca26\"],[1.0,\"#f0f921\"]]}],\"contourcarpet\":[{\"type\":\"contourcarpet\",\"colorbar\":{\"outlinewidth\":0,\"ticks\":\"\"}}],\"contour\":[{\"type\":\"contour\",\"colorbar\":{\"outlinewidth\":0,\"ticks\":\"\"},\"colorscale\":[[0.0,\"#0d0887\"],[0.1111111111111111,\"#46039f\"],[0.2222222222222222,\"#7201a8\"],[0.3333333333333333,\"#9c179e\"],[0.4444444444444444,\"#bd3786\"],[0.5555555555555556,\"#d8576b\"],[0.6666666666666666,\"#ed7953\"],[0.7777777777777778,\"#fb9f3a\"],[0.8888888888888888,\"#fdca26\"],[1.0,\"#f0f921\"]]}],\"surface\":[{\"type\":\"surface\",\"colorbar\":{\"outlinewidth\":0,\"ticks\":\"\"},\"colorscale\":[[0.0,\"#0d0887\"],[0.1111111111111111,\"#46039f\"],[0.2222222222222222,\"#7201a8\"],[0.3333333333333333,\"#9c179e\"],[0.4444444444444444,\"#bd3786\"],[0.5555555555555556,\"#d8576b\"],[0.6666666666666666,\"#ed7953\"],[0.7777777777777778,\"#fb9f3a\"],[0.8888888888888888,\"#fdca26\"],[1.0,\"#f0f921\"]]}],\"mesh3d\":[{\"type\":\"mesh3d\",\"colorbar\":{\"outlinewidth\":0,\"ticks\":\"\"}}],\"scatter\":[{\"fillpattern\":{\"fillmode\":\"overlay\",\"size\":10,\"solidity\":0.2},\"type\":\"scatter\"}],\"parcoords\":[{\"type\":\"parcoords\",\"line\":{\"colorbar\":{\"outlinewidth\":0,\"ticks\":\"\"}}}],\"scatterpolargl\":[{\"type\":\"scatterpolargl\",\"marker\":{\"colorbar\":{\"outlinewidth\":0,\"ticks\":\"\"}}}],\"bar\":[{\"error_x\":{\"color\":\"#2a3f5f\"},\"error_y\":{\"color\":\"#2a3f5f\"},\"marker\":{\"line\":{\"color\":\"#E5ECF6\",\"width\":0.5},\"pattern\":{\"fillmode\":\"overlay\",\"size\":10,\"solidity\":0.2}},\"type\":\"bar\"}],\"scattergeo\":[{\"type\":\"scattergeo\",\"marker\":{\"colorbar\":{\"outlinewidth\":0,\"ticks\":\"\"}}}],\"scatterpolar\":[{\"type\":\"scatterpolar\",\"marker\":{\"colorbar\":{\"outlinewidth\":0,\"ticks\":\"\"}}}],\"histogram\":[{\"marker\":{\"pattern\":{\"fillmode\":\"overlay\",\"size\":10,\"solidity\":0.2}},\"type\":\"histogram\"}],\"scattergl\":[{\"type\":\"scattergl\",\"marker\":{\"colorbar\":{\"outlinewidth\":0,\"ticks\":\"\"}}}],\"scatter3d\":[{\"type\":\"scatter3d\",\"line\":{\"colorbar\":{\"outlinewidth\":0,\"ticks\":\"\"}},\"marker\":{\"colorbar\":{\"outlinewidth\":0,\"ticks\":\"\"}}}],\"scattermapbox\":[{\"type\":\"scattermapbox\",\"marker\":{\"colorbar\":{\"outlinewidth\":0,\"ticks\":\"\"}}}],\"scatterternary\":[{\"type\":\"scatterternary\",\"marker\":{\"colorbar\":{\"outlinewidth\":0,\"ticks\":\"\"}}}],\"scattercarpet\":[{\"type\":\"scattercarpet\",\"marker\":{\"colorbar\":{\"outlinewidth\":0,\"ticks\":\"\"}}}],\"carpet\":[{\"aaxis\":{\"endlinecolor\":\"#2a3f5f\",\"gridcolor\":\"white\",\"linecolor\":\"white\",\"minorgridcolor\":\"white\",\"startlinecolor\":\"#2a3f5f\"},\"baxis\":{\"endlinecolor\":\"#2a3f5f\",\"gridcolor\":\"white\",\"linecolor\":\"white\",\"minorgridcolor\":\"white\",\"startlinecolor\":\"#2a3f5f\"},\"type\":\"carpet\"}],\"table\":[{\"cells\":{\"fill\":{\"color\":\"#EBF0F8\"},\"line\":{\"color\":\"white\"}},\"header\":{\"fill\":{\"color\":\"#C8D4E3\"},\"line\":{\"color\":\"white\"}},\"type\":\"table\"}],\"barpolar\":[{\"marker\":{\"line\":{\"color\":\"#E5ECF6\",\"width\":0.5},\"pattern\":{\"fillmode\":\"overlay\",\"size\":10,\"solidity\":0.2}},\"type\":\"barpolar\"}],\"pie\":[{\"automargin\":true,\"type\":\"pie\"}]},\"layout\":{\"autotypenumbers\":\"strict\",\"colorway\":[\"#636efa\",\"#EF553B\",\"#00cc96\",\"#ab63fa\",\"#FFA15A\",\"#19d3f3\",\"#FF6692\",\"#B6E880\",\"#FF97FF\",\"#FECB52\"],\"font\":{\"color\":\"#2a3f5f\"},\"hovermode\":\"closest\",\"hoverlabel\":{\"align\":\"left\"},\"paper_bgcolor\":\"white\",\"plot_bgcolor\":\"#E5ECF6\",\"polar\":{\"bgcolor\":\"#E5ECF6\",\"angularaxis\":{\"gridcolor\":\"white\",\"linecolor\":\"white\",\"ticks\":\"\"},\"radialaxis\":{\"gridcolor\":\"white\",\"linecolor\":\"white\",\"ticks\":\"\"}},\"ternary\":{\"bgcolor\":\"#E5ECF6\",\"aaxis\":{\"gridcolor\":\"white\",\"linecolor\":\"white\",\"ticks\":\"\"},\"baxis\":{\"gridcolor\":\"white\",\"linecolor\":\"white\",\"ticks\":\"\"},\"caxis\":{\"gridcolor\":\"white\",\"linecolor\":\"white\",\"ticks\":\"\"}},\"coloraxis\":{\"colorbar\":{\"outlinewidth\":0,\"ticks\":\"\"}},\"colorscale\":{\"sequential\":[[0.0,\"#0d0887\"],[0.1111111111111111,\"#46039f\"],[0.2222222222222222,\"#7201a8\"],[0.3333333333333333,\"#9c179e\"],[0.4444444444444444,\"#bd3786\"],[0.5555555555555556,\"#d8576b\"],[0.6666666666666666,\"#ed7953\"],[0.7777777777777778,\"#fb9f3a\"],[0.8888888888888888,\"#fdca26\"],[1.0,\"#f0f921\"]],\"sequentialminus\":[[0.0,\"#0d0887\"],[0.1111111111111111,\"#46039f\"],[0.2222222222222222,\"#7201a8\"],[0.3333333333333333,\"#9c179e\"],[0.4444444444444444,\"#bd3786\"],[0.5555555555555556,\"#d8576b\"],[0.6666666666666666,\"#ed7953\"],[0.7777777777777778,\"#fb9f3a\"],[0.8888888888888888,\"#fdca26\"],[1.0,\"#f0f921\"]],\"diverging\":[[0,\"#8e0152\"],[0.1,\"#c51b7d\"],[0.2,\"#de77ae\"],[0.3,\"#f1b6da\"],[0.4,\"#fde0ef\"],[0.5,\"#f7f7f7\"],[0.6,\"#e6f5d0\"],[0.7,\"#b8e186\"],[0.8,\"#7fbc41\"],[0.9,\"#4d9221\"],[1,\"#276419\"]]},\"xaxis\":{\"gridcolor\":\"white\",\"linecolor\":\"white\",\"ticks\":\"\",\"title\":{\"standoff\":15},\"zerolinecolor\":\"white\",\"automargin\":true,\"zerolinewidth\":2},\"yaxis\":{\"gridcolor\":\"white\",\"linecolor\":\"white\",\"ticks\":\"\",\"title\":{\"standoff\":15},\"zerolinecolor\":\"white\",\"automargin\":true,\"zerolinewidth\":2},\"scene\":{\"xaxis\":{\"backgroundcolor\":\"#E5ECF6\",\"gridcolor\":\"white\",\"linecolor\":\"white\",\"showbackground\":true,\"ticks\":\"\",\"zerolinecolor\":\"white\",\"gridwidth\":2},\"yaxis\":{\"backgroundcolor\":\"#E5ECF6\",\"gridcolor\":\"white\",\"linecolor\":\"white\",\"showbackground\":true,\"ticks\":\"\",\"zerolinecolor\":\"white\",\"gridwidth\":2},\"zaxis\":{\"backgroundcolor\":\"#E5ECF6\",\"gridcolor\":\"white\",\"linecolor\":\"white\",\"showbackground\":true,\"ticks\":\"\",\"zerolinecolor\":\"white\",\"gridwidth\":2}},\"shapedefaults\":{\"line\":{\"color\":\"#2a3f5f\"}},\"annotationdefaults\":{\"arrowcolor\":\"#2a3f5f\",\"arrowhead\":0,\"arrowwidth\":1},\"geo\":{\"bgcolor\":\"white\",\"landcolor\":\"#E5ECF6\",\"subunitcolor\":\"white\",\"showland\":true,\"showlakes\":true,\"lakecolor\":\"white\"},\"title\":{\"x\":0.05},\"mapbox\":{\"style\":\"light\"}}},\"scene\":{\"domain\":{\"x\":[0.0,1.0],\"y\":[0.0,1.0]},\"xaxis\":{\"title\":{\"text\":\"valence\"}},\"yaxis\":{\"title\":{\"text\":\"arousal\"}},\"zaxis\":{\"title\":{\"text\":\"dominance\"}}},\"legend\":{\"title\":{\"text\":\"document\"},\"tracegroupgap\":0},\"margin\":{\"t\":60}},                        {\"responsive\": true}                    ).then(function(){\n",
       "                            \n",
       "var gd = document.getElementById('c5b5852d-36e2-484e-8ae4-15f974e099ba');\n",
       "var x = new MutationObserver(function (mutations, observer) {{\n",
       "        var display = window.getComputedStyle(gd).display;\n",
       "        if (!display || display === 'none') {{\n",
       "            console.log([gd, 'removed!']);\n",
       "            Plotly.purge(gd);\n",
       "            observer.disconnect();\n",
       "        }}\n",
       "}});\n",
       "\n",
       "// Listen for the removal of the full notebook cells\n",
       "var notebookContainer = gd.closest('#notebook-container');\n",
       "if (notebookContainer) {{\n",
       "    x.observe(notebookContainer, {childList: true});\n",
       "}}\n",
       "\n",
       "// Listen for the clearing of the current output cell\n",
       "var outputEl = gd.closest('.output');\n",
       "if (outputEl) {{\n",
       "    x.observe(outputEl, {childList: true});\n",
       "}}\n",
       "\n",
       "                        })                };                });            </script>        </div>"
      ]
     },
     "metadata": {},
     "output_type": "display_data"
    }
   ],
   "source": [
    "#Text relating to woman\n",
    "import plotly.express as px\n",
    "\n",
    "\n",
    "fig = px.scatter_3d(VAD_all_women, x=\"valence\", y=\"arousal\", z='dominance', color=\"document\")\n",
    "fig.update_traces(marker=dict(size=5,\n",
    "                              line=dict(width=2,\n",
    "                                        color='DarkSlateGrey')),\n",
    "                  selector=dict(mode='markers'))\n",
    "fig.show()\n"
   ]
  },
  {
   "cell_type": "code",
   "execution_count": 235,
   "id": "f51b7a72",
   "metadata": {},
   "outputs": [
    {
     "data": {
      "application/vnd.plotly.v1+json": {
       "config": {
        "plotlyServerURL": "https://plot.ly"
       },
       "data": [
        {
         "hovertemplate": "document=bible<br>valence=%{x}<br>arousal=%{y}<br>dominance=%{z}<extra></extra>",
         "legendgroup": "bible",
         "marker": {
          "color": "#636efa",
          "line": {
           "color": "DarkSlateGrey",
           "width": 2
          },
          "size": 5,
          "symbol": "circle"
         },
         "mode": "markers",
         "name": "bible",
         "scene": "scene",
         "showlegend": true,
         "type": "scatter3d",
         "x": [
          0,
          0.4588,
          -0.0772,
          0.87,
          0.4588,
          -0.296,
          0.8591,
          0,
          0.3612,
          -0.6249,
          0,
          0,
          0.7964,
          0,
          0.9322,
          -0.8885,
          0.974,
          0,
          0,
          -0.1779,
          0,
          0.4404,
          0.3612,
          0.0772,
          -0.6486,
          0,
          -0.1511,
          0.4404,
          0,
          0.6597,
          -0.8743,
          -0.0258,
          0.5267,
          0.4019,
          0,
          -0.6361,
          0.4201,
          -0.6705,
          0,
          0,
          0,
          0.8476,
          -0.0941,
          0,
          0.9568,
          -0.25,
          -0.2023,
          0,
          0.471,
          0.8176,
          0,
          0,
          0.2755,
          -0.34,
          0,
          0.9401,
          -0.836,
          -0.0191,
          0,
          -0.2732,
          0.4404,
          0.5859,
          0.4404,
          0,
          0.5267,
          0,
          0,
          -0.1901,
          0,
          -0.1862,
          0,
          0.9042,
          0.6486,
          0.4404,
          0.357,
          0,
          0.2732,
          0.3049,
          0,
          0.4215,
          0.4404,
          -0.7117,
          0.6908,
          0,
          0,
          -0.6697,
          0,
          0.7717,
          0,
          -0.7185,
          0.8653,
          0.4773,
          0.7143,
          0,
          0.4932,
          0.1739,
          0,
          0.7717,
          -0.0772,
          0,
          -0.8883,
          0,
          0.5423,
          0.3818,
          -0.8176,
          -0.946,
          0.6486,
          -0.4939,
          0,
          0,
          0.1406,
          0.2944,
          -0.3612,
          0.8388,
          0,
          0,
          0,
          0.9089,
          0,
          -0.336,
          0.6478,
          0.34,
          0,
          0,
          0.5806,
          0,
          0,
          0.5584,
          0.4019,
          -0.1419,
          0.3658,
          0,
          0,
          0.6369,
          0,
          0.6249,
          0.1154,
          0,
          0.1531,
          0,
          0,
          -0.4198,
          0,
          0,
          0.6369,
          0,
          0,
          0,
          0
         ],
         "y": [
          0,
          0.158,
          -0.04200000000000004,
          0.08399999999999999,
          0.167,
          -0.239,
          0.33599999999999997,
          0,
          0.217,
          -0.255,
          0,
          0,
          0.22099999999999997,
          0,
          0.13399999999999998,
          -0.128,
          0.09499999999999999,
          0,
          0,
          -0.403,
          0,
          0.293,
          0.294,
          0.009000000000000008,
          -0.639,
          0,
          -0.21,
          0.326,
          0,
          0.375,
          -0.13,
          -0.0050000000000000044,
          0.286,
          0.73,
          0,
          -0.128,
          0.482,
          -0.09000000000000001,
          0,
          0,
          0,
          0.304,
          -0.04600000000000004,
          0,
          0.425,
          -0.5,
          -0.375,
          0,
          0.01100000000000001,
          0.789,
          0,
          0,
          0.345,
          -0.146,
          0,
          0.199,
          -0.07600000000000001,
          -0.349,
          0,
          -0.139,
          0.182,
          0.108,
          0.293,
          0,
          0.405,
          0,
          0,
          -0.047,
          0,
          -0.023000000000000007,
          0,
          0.535,
          0.139,
          0.059000000000000004,
          0.184,
          0,
          1,
          0.093,
          0,
          0.483,
          0.121,
          -0.181,
          0.851,
          0,
          0,
          -0.274,
          0,
          0.573,
          0,
          -0.147,
          0.06899999999999998,
          0.04500000000000001,
          0.188,
          0,
          0.154,
          0.020000000000000004,
          0,
          0.691,
          -0.075,
          0,
          -0.467,
          0,
          0.636,
          0.04000000000000001,
          -0.455,
          -0.126,
          0.231,
          -0.174,
          0,
          0,
          0.058,
          0.08599999999999997,
          -0.135,
          0.614,
          0,
          0,
          0,
          0.417,
          0,
          -0.04199999999999998,
          0.159,
          0.10800000000000001,
          0,
          0,
          0.219,
          0,
          0,
          0.21800000000000003,
          0.213,
          -0.048,
          0.138,
          0,
          0,
          0.808,
          0,
          0.369,
          0.225,
          0,
          0.019999999999999997,
          0,
          0,
          -0.099,
          0,
          0,
          0.677,
          0,
          0,
          0,
          0
         ],
         "z": [
          -1,
          -0.6839999999999999,
          1,
          -0.552,
          -0.6659999999999999,
          -0.522,
          0.29300000000000004,
          -1,
          -0.5660000000000001,
          -0.49,
          -1,
          -1,
          -0.254,
          -1,
          -0.6799999999999999,
          -0.5880000000000001,
          -0.478,
          -1,
          -1,
          -0.19399999999999995,
          -1,
          -0.414,
          -0.412,
          -0.246,
          0.278,
          -1,
          -0.5800000000000001,
          -0.34800000000000003,
          -1,
          -0.25,
          -0.556,
          -0.6140000000000001,
          -0.428,
          0.45999999999999996,
          -1,
          -0.524,
          -0.03600000000000003,
          -0.533,
          -1,
          -1,
          -1,
          -0.39199999999999996,
          0.252,
          -1,
          -0.14999999999999997,
          0,
          -0.25,
          -1,
          -0.6299999999999999,
          0.5780000000000001,
          -1,
          -1,
          -0.31000000000000005,
          -0.708,
          -1,
          -0.6020000000000001,
          -0.7,
          -0.30200000000000005,
          -1,
          -0.722,
          -0.6359999999999999,
          -0.492,
          -0.414,
          -1,
          -0.18999999999999995,
          -1,
          -1,
          -0.495,
          -1,
          -0.778,
          -1,
          0.562,
          -0.722,
          -0.73,
          -0.6319999999999999,
          -1,
          1,
          -0.18999999999999995,
          -1,
          -0.03400000000000003,
          -0.758,
          -0.174,
          0.702,
          -1,
          -1,
          0.20399999999999996,
          -1,
          0.14599999999999996,
          -1,
          -0.474,
          -0.19799999999999995,
          -0.21899999999999997,
          -0.6240000000000001,
          -1,
          -0.692,
          -0.781,
          -1,
          0.38199999999999995,
          -0.8500000000000001,
          -1,
          -0.066,
          -1,
          0.272,
          -0.524,
          -0.09000000000000002,
          -0.39999999999999997,
          -0.538,
          -0.6519999999999999,
          -1,
          -1,
          -0.8839999999999999,
          -0.016000000000000014,
          -0.73,
          0.22799999999999998,
          -1,
          -1,
          -1,
          -0.16599999999999998,
          -1,
          -0.39199999999999996,
          -0.44999999999999996,
          -0.17199999999999993,
          -1,
          -1,
          -0.562,
          -1,
          -1,
          -0.13199999999999995,
          -0.5740000000000001,
          -0.9039999999999999,
          -0.724,
          -1,
          -1,
          0.6160000000000001,
          -1,
          -0.262,
          -0.55,
          -1,
          -0.736,
          -1,
          -1,
          -0.20999999999999996,
          -1,
          -1,
          0.35400000000000004,
          -1,
          -1,
          -1,
          -1
         ]
        },
        {
         "hovertemplate": "document=christian reddit<br>valence=%{x}<br>arousal=%{y}<br>dominance=%{z}<extra></extra>",
         "legendgroup": "christian reddit",
         "marker": {
          "color": "#EF553B",
          "line": {
           "color": "DarkSlateGrey",
           "width": 2
          },
          "size": 5,
          "symbol": "circle"
         },
         "mode": "markers",
         "name": "christian reddit",
         "scene": "scene",
         "showlegend": true,
         "type": "scatter3d",
         "x": [
          0.6242,
          -0.8869,
          0.8757,
          0,
          0.4784,
          0.8555,
          0,
          0,
          0.7741,
          -0.5312,
          0.886,
          0.8881,
          0.3393,
          0.9267,
          0.7717,
          0,
          0.993,
          -0.3818,
          -0.3612,
          0.9589,
          -0.2446,
          -0.5719,
          -0.4201,
          0.2551,
          0.6597,
          -0.0909,
          0,
          0,
          -0.8691,
          0.3572,
          0.296,
          -0.6424,
          -0.7026,
          0,
          0.9447,
          0.7876,
          -0.0191,
          -0.6908,
          -0.3291,
          0.5267,
          -0.0772,
          0.9674,
          0.6908,
          0.9396,
          -0.1531,
          -0.0772,
          0,
          -0.1583,
          0.0361,
          0,
          0.9775,
          0,
          -0.2716,
          0.2732,
          0.2732,
          -0.842,
          -0.8291,
          -0.946,
          0.0209,
          0.4497,
          0,
          -0.3291,
          -0.2263,
          0.8932,
          0,
          0.4404,
          -0.7269,
          0,
          -0.3595,
          0,
          0,
          0,
          -0.1695,
          -0.5106,
          0.3819,
          -0.1531,
          -0.6476,
          0.6808,
          0.804,
          -0.3182,
          -0.9359,
          0.9945,
          0.6124,
          -0.7845,
          0.6966,
          -0.9485,
          -0.9236,
          0.7096,
          0.3089,
          -0.8126,
          0,
          0.4939,
          0.83,
          -0.3252,
          -0.1306,
          0.6697,
          0.3612,
          0.6956,
          0.9942,
          0.296,
          0.8481,
          0,
          -0.5423,
          0,
          0.3353,
          0.5859,
          0.6124,
          0,
          0.1578,
          0.9419,
          0.9046,
          0.9181,
          -0.1436,
          0.4211,
          -0.8606,
          0.6858,
          -0.25,
          -0.8955,
          0,
          -0.6293,
          0.8142,
          0,
          0.2732,
          0.9762,
          0.6943,
          0.3182,
          0,
          0.9285,
          0.9877,
          -0.0516,
          0.9835,
          -0.3875,
          0.4937,
          -0.8885,
          -0.2057,
          0.6904,
          0.2732,
          -0.802,
          0.9472,
          0.3058,
          0.4094,
          0,
          0.7717,
          0.9537,
          0.6124,
          -0.2411,
          0,
          0.34,
          -0.9779,
          -0.0572,
          0.1406,
          0.636,
          0.6908,
          0.836,
          0.8257,
          -0.891,
          0.6124,
          -0.6977,
          0.5859,
          -0.2732,
          0.5106,
          0.7354,
          -0.7003
         ],
         "y": [
          0.08399999999999999,
          -0.11399999999999999,
          0.03699999999999999,
          0,
          0.018000000000000016,
          0.104,
          0,
          0,
          0.125,
          -0.024999999999999994,
          0.375,
          0.284,
          0.032,
          0.05,
          0.372,
          0,
          0.16799999999999998,
          -0.04899999999999999,
          -0.081,
          0.14700000000000002,
          -0.199,
          -0.15100000000000002,
          -0.132,
          0.041999999999999996,
          0.73,
          0.023999999999999966,
          0,
          0,
          -0.299,
          -0.008999999999999994,
          1,
          -0.175,
          -0.08500000000000002,
          0,
          0.11199999999999999,
          0.204,
          -0.056,
          -0.206,
          -0.031,
          0.216,
          -0.245,
          0.333,
          0.183,
          0.14300000000000002,
          -1,
          -0.032999999999999995,
          0,
          -0.027999999999999997,
          0.0040000000000000036,
          0,
          0.129,
          0,
          -0.295,
          0.123,
          0.10200000000000001,
          -0.048000000000000015,
          -0.09999999999999999,
          -0.164,
          0.0020000000000000018,
          0.06799999999999999,
          0,
          -0.281,
          -0.083,
          0.132,
          0,
          0.209,
          -0.16199999999999998,
          0,
          -0.172,
          0,
          0,
          0,
          -0.217,
          -0.04400000000000001,
          0.08700000000000001,
          -0.012000000000000004,
          -0.03799999999999999,
          0.384,
          0.327,
          -0.045,
          -0.092,
          0.13999999999999999,
          0.167,
          -0.08100000000000002,
          0.107,
          -0.196,
          -0.11800000000000001,
          0.185,
          0.693,
          -0.234,
          0,
          0.225,
          0.403,
          -0.226,
          -0.011000000000000003,
          0.523,
          0.333,
          0.09,
          0.22700000000000004,
          0.167,
          0.213,
          0,
          -0.082,
          0,
          0.165,
          0.186,
          0.278,
          0,
          0.008999999999999998,
          0.203,
          0.03200000000000001,
          0.03,
          -0.01999999999999999,
          0.091,
          -0.128,
          0.068,
          0.009000000000000008,
          -0.03900000000000001,
          0,
          -0.139,
          0.18000000000000002,
          0,
          0.036,
          0.194,
          0.09499999999999999,
          0.041999999999999996,
          0,
          0.10200000000000001,
          0.17400000000000002,
          -0.017999999999999995,
          0.14200000000000002,
          -0.193,
          0.03799999999999999,
          -0.323,
          -0.131,
          0.039,
          0.149,
          -0.14400000000000002,
          0.09599999999999999,
          0.05500000000000001,
          0.15500000000000003,
          0,
          0.1,
          0.034,
          0.2,
          -0.282,
          0,
          0.07300000000000001,
          -0.104,
          -0.169,
          -0.007999999999999993,
          0.321,
          0.08399999999999999,
          0.108,
          0.146,
          -0.379,
          0.25,
          -0.059000000000000004,
          0.109,
          -0.091,
          0.117,
          0.046,
          -0.136
         ],
         "z": [
          -0.19999999999999996,
          -0.532,
          -0.726,
          -1,
          -0.479,
          -0.619,
          -1,
          -1,
          -0.526,
          -0.15799999999999992,
          -0.25,
          -0.432,
          -0.3520000000000001,
          -0.44399999999999995,
          -0.256,
          -1,
          -0.492,
          -0.242,
          -0.38999999999999996,
          -0.28700000000000003,
          -0.6020000000000001,
          -0.22499999999999998,
          -0.736,
          -0.5800000000000001,
          0.45999999999999996,
          0.08800000000000002,
          -1,
          -1,
          -0.40199999999999997,
          -0.601,
          1,
          -0.34600000000000003,
          -0.25,
          -1,
          -0.611,
          -0.436,
          -0.8879999999999999,
          -0.5880000000000001,
          -0.803,
          -0.5680000000000001,
          -0.51,
          -0.182,
          -0.6339999999999999,
          -0.611,
          1,
          -0.722,
          -1,
          -0.707,
          -0.46399999999999997,
          -1,
          -0.6459999999999999,
          -1,
          -0.41,
          -0.754,
          -0.32000000000000006,
          -0.33100000000000007,
          -0.487,
          -0.6719999999999999,
          -0.29500000000000004,
          -0.536,
          -1,
          -0.43799999999999994,
          -0.8340000000000001,
          -0.6279999999999999,
          -1,
          -0.5820000000000001,
          -0.14299999999999996,
          -1,
          -0.6559999999999999,
          -1,
          -1,
          -1,
          -0.5660000000000001,
          -0.808,
          -0.506,
          -0.8,
          -0.472,
          -0.23199999999999998,
          -0.34600000000000003,
          -0.9099999999999999,
          -0.769,
          -0.3320000000000001,
          -0.6659999999999999,
          -0.6140000000000001,
          -0.599,
          -0.539,
          -0.569,
          -0.6299999999999999,
          0.38599999999999995,
          -0.532,
          -1,
          -0.55,
          -0.19399999999999995,
          -0.548,
          -0.762,
          0.04600000000000004,
          -0.334,
          -0.8200000000000001,
          -0.37400000000000005,
          -0.6659999999999999,
          -0.5740000000000001,
          -1,
          -0.8360000000000001,
          -1,
          -0.6699999999999999,
          -0.6279999999999999,
          -0.44399999999999995,
          -1,
          -0.8979999999999999,
          -0.51,
          -0.788,
          -0.6839999999999999,
          -0.03600000000000003,
          -0.8180000000000001,
          -0.6679999999999999,
          -0.8640000000000001,
          -0.738,
          -0.6379999999999999,
          -1,
          -0.722,
          -0.016000000000000014,
          -1,
          -0.9279999999999999,
          -0.6120000000000001,
          -0.498,
          -0.724,
          -1,
          -0.5760000000000001,
          -0.44399999999999995,
          -0.796,
          -0.536,
          -0.6140000000000001,
          -0.784,
          -0.35400000000000004,
          -0.738,
          -0.778,
          -0.702,
          -0.22399999999999998,
          -0.34,
          -0.5820000000000001,
          -0.246,
          -1,
          -0.4079999999999999,
          -0.5880000000000001,
          -0.6000000000000001,
          -0.436,
          -1,
          -0.35400000000000004,
          -0.6000000000000001,
          -0.6619999999999999,
          -0.665,
          -0.35800000000000004,
          -0.6719999999999999,
          -0.784,
          -0.551,
          0.14199999999999996,
          -0.5,
          -0.79,
          -0.782,
          -0.8180000000000001,
          -0.766,
          -0.5680000000000001,
          -0.243
         ]
        },
        {
         "hovertemplate": "document=random reddit<br>valence=%{x}<br>arousal=%{y}<br>dominance=%{z}<extra></extra>",
         "legendgroup": "random reddit",
         "marker": {
          "color": "#00cc96",
          "line": {
           "color": "DarkSlateGrey",
           "width": 2
          },
          "size": 5,
          "symbol": "circle"
         },
         "mode": "markers",
         "name": "random reddit",
         "scene": "scene",
         "showlegend": true,
         "type": "scatter3d",
         "x": [
          0,
          0.9297,
          0.765,
          0,
          0.4404,
          0,
          0.3182,
          0,
          0,
          -0.4404,
          0,
          0,
          0.4926,
          0.684,
          -0.4806,
          0.5719,
          0,
          0.0865,
          -0.4939,
          0.0772,
          0,
          0,
          -0.1027,
          0,
          -0.7258,
          -0.3626,
          0,
          0,
          0.3612,
          -0.4023,
          0.4215,
          0,
          0,
          0,
          0,
          0,
          0.3182,
          0.0772,
          0.7096,
          0.3769,
          0,
          0.8402,
          -0.4767,
          0.8586,
          -0.1779,
          -0.1298,
          0.7506,
          0.6705,
          -0.6249,
          0,
          -0.5106,
          0,
          0.6249,
          -0.2023,
          0.9169,
          0,
          0,
          -0.6597,
          0.7835,
          -0.6124,
          0,
          0.2023,
          0.0772,
          0,
          0,
          0,
          0.4404,
          -0.212,
          0,
          0.8074,
          0,
          -0.1695,
          0,
          0,
          0,
          -0.6249,
          0.5994,
          -0.9552,
          0.1779,
          0.1511,
          -0.5563,
          0,
          0,
          -0.1531,
          0,
          0.5423,
          0.7501,
          0.7096,
          -0.4588,
          0.7402,
          0,
          -0.2732,
          0.5719,
          0.8531,
          0.9453,
          0,
          0.5574,
          0.1779,
          0.4215,
          -0.2218,
          0,
          0,
          -0.3412,
          0,
          0,
          0.2484,
          -0.296,
          0,
          0,
          -0.3664,
          0,
          0,
          0,
          0.5859,
          0.1655,
          0.9925,
          -0.5719,
          0.4404,
          0,
          -0.2023,
          -0.1027,
          0.3182,
          -0.5831,
          0,
          0.762,
          0,
          0,
          0.76,
          -0.5267,
          0,
          0,
          0,
          0,
          -0.6399,
          0.1695,
          -0.9174,
          0.1655,
          0.4767,
          0,
          -0.3612,
          0.6386,
          -0.336,
          -0.296,
          -0.4215,
          0,
          0.5106,
          0,
          0,
          0,
          0.7579,
          0.5719,
          0.91,
          0,
          -0.9042,
          -0.2732,
          -0.0516,
          0,
          -0.7825,
          0.1531,
          0.5994,
          0,
          0,
          0.5838,
          0.3412,
          -0.4201,
          0,
          -0.2952,
          0.7717,
          -0.0772,
          0.5106,
          -0.4019,
          0.4753,
          0,
          0,
          0,
          0.5719,
          -0.3182,
          0.4215,
          0.4939,
          0.6369,
          0,
          0.8555,
          0.2315,
          0.5859,
          0.2617,
          -0.765,
          0.0382,
          0.5913
         ],
         "y": [
          0,
          0.153,
          0.355,
          0,
          0.492,
          0,
          0.141,
          0,
          0,
          -0.244,
          0,
          0,
          0.15599999999999997,
          0.114,
          -0.05,
          0.128,
          0,
          0.032,
          -0.144,
          0.031,
          0,
          0,
          -0.219,
          0,
          -0.054,
          -0.057999999999999996,
          0,
          0,
          0.161,
          -0.144,
          0.157,
          0,
          0,
          0,
          0,
          0,
          0.11199999999999999,
          -0.052000000000000046,
          0.268,
          -0.028999999999999998,
          0,
          0.3,
          -0.205,
          0.17600000000000002,
          -0.049,
          -0.020000000000000018,
          0.681,
          0.379,
          -0.56,
          0,
          -0.197,
          0,
          0.577,
          -0.205,
          0.582,
          0,
          0,
          -0.519,
          0.266,
          -0.333,
          0,
          0.07300000000000001,
          0.394,
          0,
          0,
          0,
          0.367,
          -0.04100000000000001,
          0,
          0.593,
          0,
          -0.25,
          0,
          0,
          0,
          -0.63,
          0.274,
          -0.123,
          0.11299999999999999,
          0.017,
          -0.473,
          0,
          0,
          0.0049999999999999906,
          0,
          0.081,
          0.186,
          0.396,
          -0.6,
          0.257,
          0,
          -0.296,
          0.139,
          0.318,
          0.127,
          0,
          0.783,
          0.037000000000000005,
          0.118,
          -0.038000000000000006,
          0,
          0,
          -0.147,
          0,
          0,
          0.049,
          -0.078,
          0,
          0,
          -0.078,
          0,
          0,
          0,
          0.559,
          0.032,
          0.32999999999999996,
          -0.091,
          0.744,
          0,
          -0.375,
          -0.023000000000000007,
          0.183,
          -0.204,
          0,
          0.184,
          0,
          0,
          0.093,
          -1,
          0,
          0,
          0,
          0,
          -0.099,
          0.172,
          -0.262,
          0.084,
          0.508,
          0,
          -0.714,
          0.22,
          -0.04199999999999998,
          -0.084,
          -0.189,
          0,
          0.142,
          0,
          0,
          0,
          0.52,
          0.163,
          0.068,
          0,
          -0.737,
          -0.051000000000000004,
          -0.018000000000000016,
          0,
          -0.495,
          0.05000000000000002,
          0.218,
          0,
          0,
          0.201,
          0.546,
          -0.166,
          0,
          -0.021000000000000005,
          0.309,
          -0.03199999999999997,
          0.155,
          -0.213,
          1,
          0,
          0,
          0,
          0.179,
          -0.126,
          0.737,
          0.286,
          0.154,
          0,
          0.268,
          0.022999999999999993,
          0.792,
          0.136,
          -0.452,
          0.161,
          0.101
         ],
         "z": [
          -1,
          -0.6090000000000001,
          -0.29000000000000004,
          -1,
          -0.016000000000000014,
          -1,
          -0.718,
          -1,
          -1,
          -0.512,
          -1,
          -1,
          -0.14399999999999996,
          -0.7,
          -0.764,
          -0.324,
          -1,
          -0.5640000000000001,
          -0.712,
          -0.938,
          -1,
          -1,
          -0.562,
          -1,
          -0.724,
          -0.6240000000000001,
          -1,
          -1,
          -0.6779999999999999,
          -0.712,
          -0.6859999999999999,
          -1,
          -1,
          -1,
          -1,
          -1,
          -0.07300000000000006,
          0.248,
          0.016000000000000014,
          -0.6220000000000001,
          -1,
          -0.39999999999999997,
          -0.5900000000000001,
          -0.552,
          -0.9019999999999999,
          0.020000000000000018,
          0.36200000000000004,
          -0.242,
          0.12000000000000005,
          -1,
          -0.07800000000000001,
          -1,
          0.15399999999999997,
          -0.5900000000000001,
          0.16399999999999998,
          -1,
          -1,
          0.038000000000000034,
          -0.46799999999999997,
          -0.334,
          -1,
          -0.09000000000000002,
          -0.21199999999999997,
          -1,
          -1,
          -1,
          -0.266,
          -0.17799999999999994,
          -1,
          0.186,
          -1,
          -0.5,
          -1,
          -1,
          -1,
          0.26,
          -0.45199999999999996,
          -0.38599999999999995,
          -0.39799999999999996,
          -0.722,
          -0.05400000000000005,
          -1,
          -1,
          -0.6659999999999999,
          -1,
          -0.426,
          -0.6279999999999999,
          -0.20799999999999996,
          0.19999999999999996,
          -0.486,
          -1,
          -0.408,
          -0.722,
          -0.36400000000000005,
          -0.6379999999999999,
          -1,
          0.5660000000000001,
          -0.554,
          -0.764,
          -0.808,
          -1,
          -1,
          -0.706,
          -1,
          -1,
          -0.471,
          -0.8440000000000001,
          -1,
          -1,
          -0.413,
          -1,
          -1,
          -1,
          0.11800000000000005,
          -0.9359999999999999,
          -0.20399999999999996,
          -0.8180000000000001,
          0.488,
          -1,
          -0.25,
          -0.494,
          0.4370000000000001,
          0.03200000000000003,
          -1,
          -0.6319999999999999,
          -1,
          -1,
          -0.42599999999999993,
          1,
          -1,
          -1,
          -1,
          -1,
          -0.22599999999999998,
          -0.6559999999999999,
          -0.476,
          -0.8320000000000001,
          0.016000000000000014,
          -1,
          0.428,
          -0.56,
          -0.39199999999999996,
          -0.8320000000000001,
          -0.6220000000000001,
          -1,
          -0.716,
          -1,
          -1,
          -1,
          0.040000000000000036,
          -0.6739999999999999,
          -0.6319999999999999,
          -1,
          0.474,
          -0.6060000000000001,
          0.26,
          -1,
          -0.010000000000000009,
          -0.16699999999999993,
          -0.5640000000000001,
          -1,
          -1,
          -0.5980000000000001,
          0.09200000000000003,
          -0.6679999999999999,
          -1,
          -0.546,
          -0.38199999999999995,
          0.14000000000000007,
          -0.46599999999999997,
          -0.5740000000000001,
          1,
          -1,
          -1,
          -1,
          -0.6419999999999999,
          0.417,
          0.474,
          -0.428,
          -0.692,
          -1,
          -0.46399999999999997,
          -0.474,
          0.5840000000000001,
          -0.728,
          -0.09600000000000003,
          -0.6779999999999999,
          -0.798
         ]
        }
       ],
       "layout": {
        "legend": {
         "title": {
          "text": "document"
         },
         "tracegroupgap": 0
        },
        "margin": {
         "t": 60
        },
        "scene": {
         "domain": {
          "x": [
           0,
           1
          ],
          "y": [
           0,
           1
          ]
         },
         "xaxis": {
          "title": {
           "text": "valence"
          }
         },
         "yaxis": {
          "title": {
           "text": "arousal"
          }
         },
         "zaxis": {
          "title": {
           "text": "dominance"
          }
         }
        },
        "template": {
         "data": {
          "bar": [
           {
            "error_x": {
             "color": "#2a3f5f"
            },
            "error_y": {
             "color": "#2a3f5f"
            },
            "marker": {
             "line": {
              "color": "#E5ECF6",
              "width": 0.5
             },
             "pattern": {
              "fillmode": "overlay",
              "size": 10,
              "solidity": 0.2
             }
            },
            "type": "bar"
           }
          ],
          "barpolar": [
           {
            "marker": {
             "line": {
              "color": "#E5ECF6",
              "width": 0.5
             },
             "pattern": {
              "fillmode": "overlay",
              "size": 10,
              "solidity": 0.2
             }
            },
            "type": "barpolar"
           }
          ],
          "carpet": [
           {
            "aaxis": {
             "endlinecolor": "#2a3f5f",
             "gridcolor": "white",
             "linecolor": "white",
             "minorgridcolor": "white",
             "startlinecolor": "#2a3f5f"
            },
            "baxis": {
             "endlinecolor": "#2a3f5f",
             "gridcolor": "white",
             "linecolor": "white",
             "minorgridcolor": "white",
             "startlinecolor": "#2a3f5f"
            },
            "type": "carpet"
           }
          ],
          "choropleth": [
           {
            "colorbar": {
             "outlinewidth": 0,
             "ticks": ""
            },
            "type": "choropleth"
           }
          ],
          "contour": [
           {
            "colorbar": {
             "outlinewidth": 0,
             "ticks": ""
            },
            "colorscale": [
             [
              0,
              "#0d0887"
             ],
             [
              0.1111111111111111,
              "#46039f"
             ],
             [
              0.2222222222222222,
              "#7201a8"
             ],
             [
              0.3333333333333333,
              "#9c179e"
             ],
             [
              0.4444444444444444,
              "#bd3786"
             ],
             [
              0.5555555555555556,
              "#d8576b"
             ],
             [
              0.6666666666666666,
              "#ed7953"
             ],
             [
              0.7777777777777778,
              "#fb9f3a"
             ],
             [
              0.8888888888888888,
              "#fdca26"
             ],
             [
              1,
              "#f0f921"
             ]
            ],
            "type": "contour"
           }
          ],
          "contourcarpet": [
           {
            "colorbar": {
             "outlinewidth": 0,
             "ticks": ""
            },
            "type": "contourcarpet"
           }
          ],
          "heatmap": [
           {
            "colorbar": {
             "outlinewidth": 0,
             "ticks": ""
            },
            "colorscale": [
             [
              0,
              "#0d0887"
             ],
             [
              0.1111111111111111,
              "#46039f"
             ],
             [
              0.2222222222222222,
              "#7201a8"
             ],
             [
              0.3333333333333333,
              "#9c179e"
             ],
             [
              0.4444444444444444,
              "#bd3786"
             ],
             [
              0.5555555555555556,
              "#d8576b"
             ],
             [
              0.6666666666666666,
              "#ed7953"
             ],
             [
              0.7777777777777778,
              "#fb9f3a"
             ],
             [
              0.8888888888888888,
              "#fdca26"
             ],
             [
              1,
              "#f0f921"
             ]
            ],
            "type": "heatmap"
           }
          ],
          "heatmapgl": [
           {
            "colorbar": {
             "outlinewidth": 0,
             "ticks": ""
            },
            "colorscale": [
             [
              0,
              "#0d0887"
             ],
             [
              0.1111111111111111,
              "#46039f"
             ],
             [
              0.2222222222222222,
              "#7201a8"
             ],
             [
              0.3333333333333333,
              "#9c179e"
             ],
             [
              0.4444444444444444,
              "#bd3786"
             ],
             [
              0.5555555555555556,
              "#d8576b"
             ],
             [
              0.6666666666666666,
              "#ed7953"
             ],
             [
              0.7777777777777778,
              "#fb9f3a"
             ],
             [
              0.8888888888888888,
              "#fdca26"
             ],
             [
              1,
              "#f0f921"
             ]
            ],
            "type": "heatmapgl"
           }
          ],
          "histogram": [
           {
            "marker": {
             "pattern": {
              "fillmode": "overlay",
              "size": 10,
              "solidity": 0.2
             }
            },
            "type": "histogram"
           }
          ],
          "histogram2d": [
           {
            "colorbar": {
             "outlinewidth": 0,
             "ticks": ""
            },
            "colorscale": [
             [
              0,
              "#0d0887"
             ],
             [
              0.1111111111111111,
              "#46039f"
             ],
             [
              0.2222222222222222,
              "#7201a8"
             ],
             [
              0.3333333333333333,
              "#9c179e"
             ],
             [
              0.4444444444444444,
              "#bd3786"
             ],
             [
              0.5555555555555556,
              "#d8576b"
             ],
             [
              0.6666666666666666,
              "#ed7953"
             ],
             [
              0.7777777777777778,
              "#fb9f3a"
             ],
             [
              0.8888888888888888,
              "#fdca26"
             ],
             [
              1,
              "#f0f921"
             ]
            ],
            "type": "histogram2d"
           }
          ],
          "histogram2dcontour": [
           {
            "colorbar": {
             "outlinewidth": 0,
             "ticks": ""
            },
            "colorscale": [
             [
              0,
              "#0d0887"
             ],
             [
              0.1111111111111111,
              "#46039f"
             ],
             [
              0.2222222222222222,
              "#7201a8"
             ],
             [
              0.3333333333333333,
              "#9c179e"
             ],
             [
              0.4444444444444444,
              "#bd3786"
             ],
             [
              0.5555555555555556,
              "#d8576b"
             ],
             [
              0.6666666666666666,
              "#ed7953"
             ],
             [
              0.7777777777777778,
              "#fb9f3a"
             ],
             [
              0.8888888888888888,
              "#fdca26"
             ],
             [
              1,
              "#f0f921"
             ]
            ],
            "type": "histogram2dcontour"
           }
          ],
          "mesh3d": [
           {
            "colorbar": {
             "outlinewidth": 0,
             "ticks": ""
            },
            "type": "mesh3d"
           }
          ],
          "parcoords": [
           {
            "line": {
             "colorbar": {
              "outlinewidth": 0,
              "ticks": ""
             }
            },
            "type": "parcoords"
           }
          ],
          "pie": [
           {
            "automargin": true,
            "type": "pie"
           }
          ],
          "scatter": [
           {
            "fillpattern": {
             "fillmode": "overlay",
             "size": 10,
             "solidity": 0.2
            },
            "type": "scatter"
           }
          ],
          "scatter3d": [
           {
            "line": {
             "colorbar": {
              "outlinewidth": 0,
              "ticks": ""
             }
            },
            "marker": {
             "colorbar": {
              "outlinewidth": 0,
              "ticks": ""
             }
            },
            "type": "scatter3d"
           }
          ],
          "scattercarpet": [
           {
            "marker": {
             "colorbar": {
              "outlinewidth": 0,
              "ticks": ""
             }
            },
            "type": "scattercarpet"
           }
          ],
          "scattergeo": [
           {
            "marker": {
             "colorbar": {
              "outlinewidth": 0,
              "ticks": ""
             }
            },
            "type": "scattergeo"
           }
          ],
          "scattergl": [
           {
            "marker": {
             "colorbar": {
              "outlinewidth": 0,
              "ticks": ""
             }
            },
            "type": "scattergl"
           }
          ],
          "scattermapbox": [
           {
            "marker": {
             "colorbar": {
              "outlinewidth": 0,
              "ticks": ""
             }
            },
            "type": "scattermapbox"
           }
          ],
          "scatterpolar": [
           {
            "marker": {
             "colorbar": {
              "outlinewidth": 0,
              "ticks": ""
             }
            },
            "type": "scatterpolar"
           }
          ],
          "scatterpolargl": [
           {
            "marker": {
             "colorbar": {
              "outlinewidth": 0,
              "ticks": ""
             }
            },
            "type": "scatterpolargl"
           }
          ],
          "scatterternary": [
           {
            "marker": {
             "colorbar": {
              "outlinewidth": 0,
              "ticks": ""
             }
            },
            "type": "scatterternary"
           }
          ],
          "surface": [
           {
            "colorbar": {
             "outlinewidth": 0,
             "ticks": ""
            },
            "colorscale": [
             [
              0,
              "#0d0887"
             ],
             [
              0.1111111111111111,
              "#46039f"
             ],
             [
              0.2222222222222222,
              "#7201a8"
             ],
             [
              0.3333333333333333,
              "#9c179e"
             ],
             [
              0.4444444444444444,
              "#bd3786"
             ],
             [
              0.5555555555555556,
              "#d8576b"
             ],
             [
              0.6666666666666666,
              "#ed7953"
             ],
             [
              0.7777777777777778,
              "#fb9f3a"
             ],
             [
              0.8888888888888888,
              "#fdca26"
             ],
             [
              1,
              "#f0f921"
             ]
            ],
            "type": "surface"
           }
          ],
          "table": [
           {
            "cells": {
             "fill": {
              "color": "#EBF0F8"
             },
             "line": {
              "color": "white"
             }
            },
            "header": {
             "fill": {
              "color": "#C8D4E3"
             },
             "line": {
              "color": "white"
             }
            },
            "type": "table"
           }
          ]
         },
         "layout": {
          "annotationdefaults": {
           "arrowcolor": "#2a3f5f",
           "arrowhead": 0,
           "arrowwidth": 1
          },
          "autotypenumbers": "strict",
          "coloraxis": {
           "colorbar": {
            "outlinewidth": 0,
            "ticks": ""
           }
          },
          "colorscale": {
           "diverging": [
            [
             0,
             "#8e0152"
            ],
            [
             0.1,
             "#c51b7d"
            ],
            [
             0.2,
             "#de77ae"
            ],
            [
             0.3,
             "#f1b6da"
            ],
            [
             0.4,
             "#fde0ef"
            ],
            [
             0.5,
             "#f7f7f7"
            ],
            [
             0.6,
             "#e6f5d0"
            ],
            [
             0.7,
             "#b8e186"
            ],
            [
             0.8,
             "#7fbc41"
            ],
            [
             0.9,
             "#4d9221"
            ],
            [
             1,
             "#276419"
            ]
           ],
           "sequential": [
            [
             0,
             "#0d0887"
            ],
            [
             0.1111111111111111,
             "#46039f"
            ],
            [
             0.2222222222222222,
             "#7201a8"
            ],
            [
             0.3333333333333333,
             "#9c179e"
            ],
            [
             0.4444444444444444,
             "#bd3786"
            ],
            [
             0.5555555555555556,
             "#d8576b"
            ],
            [
             0.6666666666666666,
             "#ed7953"
            ],
            [
             0.7777777777777778,
             "#fb9f3a"
            ],
            [
             0.8888888888888888,
             "#fdca26"
            ],
            [
             1,
             "#f0f921"
            ]
           ],
           "sequentialminus": [
            [
             0,
             "#0d0887"
            ],
            [
             0.1111111111111111,
             "#46039f"
            ],
            [
             0.2222222222222222,
             "#7201a8"
            ],
            [
             0.3333333333333333,
             "#9c179e"
            ],
            [
             0.4444444444444444,
             "#bd3786"
            ],
            [
             0.5555555555555556,
             "#d8576b"
            ],
            [
             0.6666666666666666,
             "#ed7953"
            ],
            [
             0.7777777777777778,
             "#fb9f3a"
            ],
            [
             0.8888888888888888,
             "#fdca26"
            ],
            [
             1,
             "#f0f921"
            ]
           ]
          },
          "colorway": [
           "#636efa",
           "#EF553B",
           "#00cc96",
           "#ab63fa",
           "#FFA15A",
           "#19d3f3",
           "#FF6692",
           "#B6E880",
           "#FF97FF",
           "#FECB52"
          ],
          "font": {
           "color": "#2a3f5f"
          },
          "geo": {
           "bgcolor": "white",
           "lakecolor": "white",
           "landcolor": "#E5ECF6",
           "showlakes": true,
           "showland": true,
           "subunitcolor": "white"
          },
          "hoverlabel": {
           "align": "left"
          },
          "hovermode": "closest",
          "mapbox": {
           "style": "light"
          },
          "paper_bgcolor": "white",
          "plot_bgcolor": "#E5ECF6",
          "polar": {
           "angularaxis": {
            "gridcolor": "white",
            "linecolor": "white",
            "ticks": ""
           },
           "bgcolor": "#E5ECF6",
           "radialaxis": {
            "gridcolor": "white",
            "linecolor": "white",
            "ticks": ""
           }
          },
          "scene": {
           "xaxis": {
            "backgroundcolor": "#E5ECF6",
            "gridcolor": "white",
            "gridwidth": 2,
            "linecolor": "white",
            "showbackground": true,
            "ticks": "",
            "zerolinecolor": "white"
           },
           "yaxis": {
            "backgroundcolor": "#E5ECF6",
            "gridcolor": "white",
            "gridwidth": 2,
            "linecolor": "white",
            "showbackground": true,
            "ticks": "",
            "zerolinecolor": "white"
           },
           "zaxis": {
            "backgroundcolor": "#E5ECF6",
            "gridcolor": "white",
            "gridwidth": 2,
            "linecolor": "white",
            "showbackground": true,
            "ticks": "",
            "zerolinecolor": "white"
           }
          },
          "shapedefaults": {
           "line": {
            "color": "#2a3f5f"
           }
          },
          "ternary": {
           "aaxis": {
            "gridcolor": "white",
            "linecolor": "white",
            "ticks": ""
           },
           "baxis": {
            "gridcolor": "white",
            "linecolor": "white",
            "ticks": ""
           },
           "bgcolor": "#E5ECF6",
           "caxis": {
            "gridcolor": "white",
            "linecolor": "white",
            "ticks": ""
           }
          },
          "title": {
           "x": 0.05
          },
          "xaxis": {
           "automargin": true,
           "gridcolor": "white",
           "linecolor": "white",
           "ticks": "",
           "title": {
            "standoff": 15
           },
           "zerolinecolor": "white",
           "zerolinewidth": 2
          },
          "yaxis": {
           "automargin": true,
           "gridcolor": "white",
           "linecolor": "white",
           "ticks": "",
           "title": {
            "standoff": 15
           },
           "zerolinecolor": "white",
           "zerolinewidth": 2
          }
         }
        }
       }
      },
      "text/html": [
       "<div>                            <div id=\"dff292c1-82c0-45ff-8778-61ab5d31cc11\" class=\"plotly-graph-div\" style=\"height:525px; width:100%;\"></div>            <script type=\"text/javascript\">                require([\"plotly\"], function(Plotly) {                    window.PLOTLYENV=window.PLOTLYENV || {};                                    if (document.getElementById(\"dff292c1-82c0-45ff-8778-61ab5d31cc11\")) {                    Plotly.newPlot(                        \"dff292c1-82c0-45ff-8778-61ab5d31cc11\",                        [{\"hovertemplate\":\"document=bible<br>valence=%{x}<br>arousal=%{y}<br>dominance=%{z}<extra></extra>\",\"legendgroup\":\"bible\",\"marker\":{\"color\":\"#636efa\",\"symbol\":\"circle\",\"line\":{\"color\":\"DarkSlateGrey\",\"width\":2},\"size\":5},\"mode\":\"markers\",\"name\":\"bible\",\"scene\":\"scene\",\"showlegend\":true,\"x\":[0.0,0.4588,-0.0772,0.87,0.4588,-0.296,0.8591,0.0,0.3612,-0.6249,0.0,0.0,0.7964,0.0,0.9322,-0.8885,0.974,0.0,0.0,-0.1779,0.0,0.4404,0.3612,0.0772,-0.6486,0.0,-0.1511,0.4404,0.0,0.6597,-0.8743,-0.0258,0.5267,0.4019,0.0,-0.6361,0.4201,-0.6705,0.0,0.0,0.0,0.8476,-0.0941,0.0,0.9568,-0.25,-0.2023,0.0,0.471,0.8176,0.0,0.0,0.2755,-0.34,0.0,0.9401,-0.836,-0.0191,0.0,-0.2732,0.4404,0.5859,0.4404,0.0,0.5267,0.0,0.0,-0.1901,0.0,-0.1862,0.0,0.9042,0.6486,0.4404,0.357,0.0,0.2732,0.3049,0.0,0.4215,0.4404,-0.7117,0.6908,0.0,0.0,-0.6697,0.0,0.7717,0.0,-0.7185,0.8653,0.4773,0.7143,0.0,0.4932,0.1739,0.0,0.7717,-0.0772,0.0,-0.8883,0.0,0.5423,0.3818,-0.8176,-0.946,0.6486,-0.4939,0.0,0.0,0.1406,0.2944,-0.3612,0.8388,0.0,0.0,0.0,0.9089,0.0,-0.336,0.6478,0.34,0.0,0.0,0.5806,0.0,0.0,0.5584,0.4019,-0.1419,0.3658,0.0,0.0,0.6369,0.0,0.6249,0.1154,0.0,0.1531,0.0,0.0,-0.4198,0.0,0.0,0.6369,0.0,0.0,0.0,0.0],\"y\":[0.0,0.158,-0.04200000000000004,0.08399999999999999,0.167,-0.239,0.33599999999999997,0.0,0.217,-0.255,0.0,0.0,0.22099999999999997,0.0,0.13399999999999998,-0.128,0.09499999999999999,0.0,0.0,-0.403,0.0,0.293,0.294,0.009000000000000008,-0.639,0.0,-0.21,0.326,0.0,0.375,-0.13,-0.0050000000000000044,0.286,0.73,0.0,-0.128,0.482,-0.09000000000000001,0.0,0.0,0.0,0.304,-0.04600000000000004,0.0,0.425,-0.5,-0.375,0.0,0.01100000000000001,0.789,0.0,0.0,0.345,-0.146,0.0,0.199,-0.07600000000000001,-0.349,0.0,-0.139,0.182,0.108,0.293,0.0,0.405,0.0,0.0,-0.047,0.0,-0.023000000000000007,0.0,0.535,0.139,0.059000000000000004,0.184,0.0,1.0,0.093,0.0,0.483,0.121,-0.181,0.851,0.0,0.0,-0.274,0.0,0.573,0.0,-0.147,0.06899999999999998,0.04500000000000001,0.188,0.0,0.154,0.020000000000000004,0.0,0.691,-0.075,0.0,-0.467,0.0,0.636,0.04000000000000001,-0.455,-0.126,0.231,-0.174,0.0,0.0,0.058,0.08599999999999997,-0.135,0.614,0.0,0.0,0.0,0.417,0.0,-0.04199999999999998,0.159,0.10800000000000001,0.0,0.0,0.219,0.0,0.0,0.21800000000000003,0.213,-0.048,0.138,0.0,0.0,0.808,0.0,0.369,0.225,0.0,0.019999999999999997,0.0,0.0,-0.099,0.0,0.0,0.677,0.0,0.0,0.0,0.0],\"z\":[-1.0,-0.6839999999999999,1.0,-0.552,-0.6659999999999999,-0.522,0.29300000000000004,-1.0,-0.5660000000000001,-0.49,-1.0,-1.0,-0.254,-1.0,-0.6799999999999999,-0.5880000000000001,-0.478,-1.0,-1.0,-0.19399999999999995,-1.0,-0.414,-0.412,-0.246,0.278,-1.0,-0.5800000000000001,-0.34800000000000003,-1.0,-0.25,-0.556,-0.6140000000000001,-0.428,0.45999999999999996,-1.0,-0.524,-0.03600000000000003,-0.533,-1.0,-1.0,-1.0,-0.39199999999999996,0.252,-1.0,-0.14999999999999997,0.0,-0.25,-1.0,-0.6299999999999999,0.5780000000000001,-1.0,-1.0,-0.31000000000000005,-0.708,-1.0,-0.6020000000000001,-0.7,-0.30200000000000005,-1.0,-0.722,-0.6359999999999999,-0.492,-0.414,-1.0,-0.18999999999999995,-1.0,-1.0,-0.495,-1.0,-0.778,-1.0,0.562,-0.722,-0.73,-0.6319999999999999,-1.0,1.0,-0.18999999999999995,-1.0,-0.03400000000000003,-0.758,-0.174,0.702,-1.0,-1.0,0.20399999999999996,-1.0,0.14599999999999996,-1.0,-0.474,-0.19799999999999995,-0.21899999999999997,-0.6240000000000001,-1.0,-0.692,-0.781,-1.0,0.38199999999999995,-0.8500000000000001,-1.0,-0.066,-1.0,0.272,-0.524,-0.09000000000000002,-0.39999999999999997,-0.538,-0.6519999999999999,-1.0,-1.0,-0.8839999999999999,-0.016000000000000014,-0.73,0.22799999999999998,-1.0,-1.0,-1.0,-0.16599999999999998,-1.0,-0.39199999999999996,-0.44999999999999996,-0.17199999999999993,-1.0,-1.0,-0.562,-1.0,-1.0,-0.13199999999999995,-0.5740000000000001,-0.9039999999999999,-0.724,-1.0,-1.0,0.6160000000000001,-1.0,-0.262,-0.55,-1.0,-0.736,-1.0,-1.0,-0.20999999999999996,-1.0,-1.0,0.35400000000000004,-1.0,-1.0,-1.0,-1.0],\"type\":\"scatter3d\"},{\"hovertemplate\":\"document=christian reddit<br>valence=%{x}<br>arousal=%{y}<br>dominance=%{z}<extra></extra>\",\"legendgroup\":\"christian reddit\",\"marker\":{\"color\":\"#EF553B\",\"symbol\":\"circle\",\"line\":{\"color\":\"DarkSlateGrey\",\"width\":2},\"size\":5},\"mode\":\"markers\",\"name\":\"christian reddit\",\"scene\":\"scene\",\"showlegend\":true,\"x\":[0.6242,-0.8869,0.8757,0.0,0.4784,0.8555,0.0,0.0,0.7741,-0.5312,0.886,0.8881,0.3393,0.9267,0.7717,0.0,0.993,-0.3818,-0.3612,0.9589,-0.2446,-0.5719,-0.4201,0.2551,0.6597,-0.0909,0.0,0.0,-0.8691,0.3572,0.296,-0.6424,-0.7026,0.0,0.9447,0.7876,-0.0191,-0.6908,-0.3291,0.5267,-0.0772,0.9674,0.6908,0.9396,-0.1531,-0.0772,0.0,-0.1583,0.0361,0.0,0.9775,0.0,-0.2716,0.2732,0.2732,-0.842,-0.8291,-0.946,0.0209,0.4497,0.0,-0.3291,-0.2263,0.8932,0.0,0.4404,-0.7269,0.0,-0.3595,0.0,0.0,0.0,-0.1695,-0.5106,0.3819,-0.1531,-0.6476,0.6808,0.804,-0.3182,-0.9359,0.9945,0.6124,-0.7845,0.6966,-0.9485,-0.9236,0.7096,0.3089,-0.8126,0.0,0.4939,0.83,-0.3252,-0.1306,0.6697,0.3612,0.6956,0.9942,0.296,0.8481,0.0,-0.5423,0.0,0.3353,0.5859,0.6124,0.0,0.1578,0.9419,0.9046,0.9181,-0.1436,0.4211,-0.8606,0.6858,-0.25,-0.8955,0.0,-0.6293,0.8142,0.0,0.2732,0.9762,0.6943,0.3182,0.0,0.9285,0.9877,-0.0516,0.9835,-0.3875,0.4937,-0.8885,-0.2057,0.6904,0.2732,-0.802,0.9472,0.3058,0.4094,0.0,0.7717,0.9537,0.6124,-0.2411,0.0,0.34,-0.9779,-0.0572,0.1406,0.636,0.6908,0.836,0.8257,-0.891,0.6124,-0.6977,0.5859,-0.2732,0.5106,0.7354,-0.7003],\"y\":[0.08399999999999999,-0.11399999999999999,0.03699999999999999,0.0,0.018000000000000016,0.104,0.0,0.0,0.125,-0.024999999999999994,0.375,0.284,0.032,0.05,0.372,0.0,0.16799999999999998,-0.04899999999999999,-0.081,0.14700000000000002,-0.199,-0.15100000000000002,-0.132,0.041999999999999996,0.73,0.023999999999999966,0.0,0.0,-0.299,-0.008999999999999994,1.0,-0.175,-0.08500000000000002,0.0,0.11199999999999999,0.204,-0.056,-0.206,-0.031,0.216,-0.245,0.333,0.183,0.14300000000000002,-1.0,-0.032999999999999995,0.0,-0.027999999999999997,0.0040000000000000036,0.0,0.129,0.0,-0.295,0.123,0.10200000000000001,-0.048000000000000015,-0.09999999999999999,-0.164,0.0020000000000000018,0.06799999999999999,0.0,-0.281,-0.083,0.132,0.0,0.209,-0.16199999999999998,0.0,-0.172,0.0,0.0,0.0,-0.217,-0.04400000000000001,0.08700000000000001,-0.012000000000000004,-0.03799999999999999,0.384,0.327,-0.045,-0.092,0.13999999999999999,0.167,-0.08100000000000002,0.107,-0.196,-0.11800000000000001,0.185,0.693,-0.234,0.0,0.225,0.403,-0.226,-0.011000000000000003,0.523,0.333,0.09,0.22700000000000004,0.167,0.213,0.0,-0.082,0.0,0.165,0.186,0.278,0.0,0.008999999999999998,0.203,0.03200000000000001,0.03,-0.01999999999999999,0.091,-0.128,0.068,0.009000000000000008,-0.03900000000000001,0.0,-0.139,0.18000000000000002,0.0,0.036,0.194,0.09499999999999999,0.041999999999999996,0.0,0.10200000000000001,0.17400000000000002,-0.017999999999999995,0.14200000000000002,-0.193,0.03799999999999999,-0.323,-0.131,0.039,0.149,-0.14400000000000002,0.09599999999999999,0.05500000000000001,0.15500000000000003,0.0,0.1,0.034,0.2,-0.282,0.0,0.07300000000000001,-0.104,-0.169,-0.007999999999999993,0.321,0.08399999999999999,0.108,0.146,-0.379,0.25,-0.059000000000000004,0.109,-0.091,0.117,0.046,-0.136],\"z\":[-0.19999999999999996,-0.532,-0.726,-1.0,-0.479,-0.619,-1.0,-1.0,-0.526,-0.15799999999999992,-0.25,-0.432,-0.3520000000000001,-0.44399999999999995,-0.256,-1.0,-0.492,-0.242,-0.38999999999999996,-0.28700000000000003,-0.6020000000000001,-0.22499999999999998,-0.736,-0.5800000000000001,0.45999999999999996,0.08800000000000002,-1.0,-1.0,-0.40199999999999997,-0.601,1.0,-0.34600000000000003,-0.25,-1.0,-0.611,-0.436,-0.8879999999999999,-0.5880000000000001,-0.803,-0.5680000000000001,-0.51,-0.182,-0.6339999999999999,-0.611,1.0,-0.722,-1.0,-0.707,-0.46399999999999997,-1.0,-0.6459999999999999,-1.0,-0.41,-0.754,-0.32000000000000006,-0.33100000000000007,-0.487,-0.6719999999999999,-0.29500000000000004,-0.536,-1.0,-0.43799999999999994,-0.8340000000000001,-0.6279999999999999,-1.0,-0.5820000000000001,-0.14299999999999996,-1.0,-0.6559999999999999,-1.0,-1.0,-1.0,-0.5660000000000001,-0.808,-0.506,-0.8,-0.472,-0.23199999999999998,-0.34600000000000003,-0.9099999999999999,-0.769,-0.3320000000000001,-0.6659999999999999,-0.6140000000000001,-0.599,-0.539,-0.569,-0.6299999999999999,0.38599999999999995,-0.532,-1.0,-0.55,-0.19399999999999995,-0.548,-0.762,0.04600000000000004,-0.334,-0.8200000000000001,-0.37400000000000005,-0.6659999999999999,-0.5740000000000001,-1.0,-0.8360000000000001,-1.0,-0.6699999999999999,-0.6279999999999999,-0.44399999999999995,-1.0,-0.8979999999999999,-0.51,-0.788,-0.6839999999999999,-0.03600000000000003,-0.8180000000000001,-0.6679999999999999,-0.8640000000000001,-0.738,-0.6379999999999999,-1.0,-0.722,-0.016000000000000014,-1.0,-0.9279999999999999,-0.6120000000000001,-0.498,-0.724,-1.0,-0.5760000000000001,-0.44399999999999995,-0.796,-0.536,-0.6140000000000001,-0.784,-0.35400000000000004,-0.738,-0.778,-0.702,-0.22399999999999998,-0.34,-0.5820000000000001,-0.246,-1.0,-0.4079999999999999,-0.5880000000000001,-0.6000000000000001,-0.436,-1.0,-0.35400000000000004,-0.6000000000000001,-0.6619999999999999,-0.665,-0.35800000000000004,-0.6719999999999999,-0.784,-0.551,0.14199999999999996,-0.5,-0.79,-0.782,-0.8180000000000001,-0.766,-0.5680000000000001,-0.243],\"type\":\"scatter3d\"},{\"hovertemplate\":\"document=random reddit<br>valence=%{x}<br>arousal=%{y}<br>dominance=%{z}<extra></extra>\",\"legendgroup\":\"random reddit\",\"marker\":{\"color\":\"#00cc96\",\"symbol\":\"circle\",\"line\":{\"color\":\"DarkSlateGrey\",\"width\":2},\"size\":5},\"mode\":\"markers\",\"name\":\"random reddit\",\"scene\":\"scene\",\"showlegend\":true,\"x\":[0.0,0.9297,0.765,0.0,0.4404,0.0,0.3182,0.0,0.0,-0.4404,0.0,0.0,0.4926,0.684,-0.4806,0.5719,0.0,0.0865,-0.4939,0.0772,0.0,0.0,-0.1027,0.0,-0.7258,-0.3626,0.0,0.0,0.3612,-0.4023,0.4215,0.0,0.0,0.0,0.0,0.0,0.3182,0.0772,0.7096,0.3769,0.0,0.8402,-0.4767,0.8586,-0.1779,-0.1298,0.7506,0.6705,-0.6249,0.0,-0.5106,0.0,0.6249,-0.2023,0.9169,0.0,0.0,-0.6597,0.7835,-0.6124,0.0,0.2023,0.0772,0.0,0.0,0.0,0.4404,-0.212,0.0,0.8074,0.0,-0.1695,0.0,0.0,0.0,-0.6249,0.5994,-0.9552,0.1779,0.1511,-0.5563,0.0,0.0,-0.1531,0.0,0.5423,0.7501,0.7096,-0.4588,0.7402,0.0,-0.2732,0.5719,0.8531,0.9453,0.0,0.5574,0.1779,0.4215,-0.2218,0.0,0.0,-0.3412,0.0,0.0,0.2484,-0.296,0.0,0.0,-0.3664,0.0,0.0,0.0,0.5859,0.1655,0.9925,-0.5719,0.4404,0.0,-0.2023,-0.1027,0.3182,-0.5831,0.0,0.762,0.0,0.0,0.76,-0.5267,0.0,0.0,0.0,0.0,-0.6399,0.1695,-0.9174,0.1655,0.4767,0.0,-0.3612,0.6386,-0.336,-0.296,-0.4215,0.0,0.5106,0.0,0.0,0.0,0.7579,0.5719,0.91,0.0,-0.9042,-0.2732,-0.0516,0.0,-0.7825,0.1531,0.5994,0.0,0.0,0.5838,0.3412,-0.4201,0.0,-0.2952,0.7717,-0.0772,0.5106,-0.4019,0.4753,0.0,0.0,0.0,0.5719,-0.3182,0.4215,0.4939,0.6369,0.0,0.8555,0.2315,0.5859,0.2617,-0.765,0.0382,0.5913],\"y\":[0.0,0.153,0.355,0.0,0.492,0.0,0.141,0.0,0.0,-0.244,0.0,0.0,0.15599999999999997,0.114,-0.05,0.128,0.0,0.032,-0.144,0.031,0.0,0.0,-0.219,0.0,-0.054,-0.057999999999999996,0.0,0.0,0.161,-0.144,0.157,0.0,0.0,0.0,0.0,0.0,0.11199999999999999,-0.052000000000000046,0.268,-0.028999999999999998,0.0,0.3,-0.205,0.17600000000000002,-0.049,-0.020000000000000018,0.681,0.379,-0.56,0.0,-0.197,0.0,0.577,-0.205,0.582,0.0,0.0,-0.519,0.266,-0.333,0.0,0.07300000000000001,0.394,0.0,0.0,0.0,0.367,-0.04100000000000001,0.0,0.593,0.0,-0.25,0.0,0.0,0.0,-0.63,0.274,-0.123,0.11299999999999999,0.017,-0.473,0.0,0.0,0.0049999999999999906,0.0,0.081,0.186,0.396,-0.6,0.257,0.0,-0.296,0.139,0.318,0.127,0.0,0.783,0.037000000000000005,0.118,-0.038000000000000006,0.0,0.0,-0.147,0.0,0.0,0.049,-0.078,0.0,0.0,-0.078,0.0,0.0,0.0,0.559,0.032,0.32999999999999996,-0.091,0.744,0.0,-0.375,-0.023000000000000007,0.183,-0.204,0.0,0.184,0.0,0.0,0.093,-1.0,0.0,0.0,0.0,0.0,-0.099,0.172,-0.262,0.084,0.508,0.0,-0.714,0.22,-0.04199999999999998,-0.084,-0.189,0.0,0.142,0.0,0.0,0.0,0.52,0.163,0.068,0.0,-0.737,-0.051000000000000004,-0.018000000000000016,0.0,-0.495,0.05000000000000002,0.218,0.0,0.0,0.201,0.546,-0.166,0.0,-0.021000000000000005,0.309,-0.03199999999999997,0.155,-0.213,1.0,0.0,0.0,0.0,0.179,-0.126,0.737,0.286,0.154,0.0,0.268,0.022999999999999993,0.792,0.136,-0.452,0.161,0.101],\"z\":[-1.0,-0.6090000000000001,-0.29000000000000004,-1.0,-0.016000000000000014,-1.0,-0.718,-1.0,-1.0,-0.512,-1.0,-1.0,-0.14399999999999996,-0.7,-0.764,-0.324,-1.0,-0.5640000000000001,-0.712,-0.938,-1.0,-1.0,-0.562,-1.0,-0.724,-0.6240000000000001,-1.0,-1.0,-0.6779999999999999,-0.712,-0.6859999999999999,-1.0,-1.0,-1.0,-1.0,-1.0,-0.07300000000000006,0.248,0.016000000000000014,-0.6220000000000001,-1.0,-0.39999999999999997,-0.5900000000000001,-0.552,-0.9019999999999999,0.020000000000000018,0.36200000000000004,-0.242,0.12000000000000005,-1.0,-0.07800000000000001,-1.0,0.15399999999999997,-0.5900000000000001,0.16399999999999998,-1.0,-1.0,0.038000000000000034,-0.46799999999999997,-0.334,-1.0,-0.09000000000000002,-0.21199999999999997,-1.0,-1.0,-1.0,-0.266,-0.17799999999999994,-1.0,0.186,-1.0,-0.5,-1.0,-1.0,-1.0,0.26,-0.45199999999999996,-0.38599999999999995,-0.39799999999999996,-0.722,-0.05400000000000005,-1.0,-1.0,-0.6659999999999999,-1.0,-0.426,-0.6279999999999999,-0.20799999999999996,0.19999999999999996,-0.486,-1.0,-0.408,-0.722,-0.36400000000000005,-0.6379999999999999,-1.0,0.5660000000000001,-0.554,-0.764,-0.808,-1.0,-1.0,-0.706,-1.0,-1.0,-0.471,-0.8440000000000001,-1.0,-1.0,-0.413,-1.0,-1.0,-1.0,0.11800000000000005,-0.9359999999999999,-0.20399999999999996,-0.8180000000000001,0.488,-1.0,-0.25,-0.494,0.4370000000000001,0.03200000000000003,-1.0,-0.6319999999999999,-1.0,-1.0,-0.42599999999999993,1.0,-1.0,-1.0,-1.0,-1.0,-0.22599999999999998,-0.6559999999999999,-0.476,-0.8320000000000001,0.016000000000000014,-1.0,0.428,-0.56,-0.39199999999999996,-0.8320000000000001,-0.6220000000000001,-1.0,-0.716,-1.0,-1.0,-1.0,0.040000000000000036,-0.6739999999999999,-0.6319999999999999,-1.0,0.474,-0.6060000000000001,0.26,-1.0,-0.010000000000000009,-0.16699999999999993,-0.5640000000000001,-1.0,-1.0,-0.5980000000000001,0.09200000000000003,-0.6679999999999999,-1.0,-0.546,-0.38199999999999995,0.14000000000000007,-0.46599999999999997,-0.5740000000000001,1.0,-1.0,-1.0,-1.0,-0.6419999999999999,0.417,0.474,-0.428,-0.692,-1.0,-0.46399999999999997,-0.474,0.5840000000000001,-0.728,-0.09600000000000003,-0.6779999999999999,-0.798],\"type\":\"scatter3d\"}],                        {\"template\":{\"data\":{\"histogram2dcontour\":[{\"type\":\"histogram2dcontour\",\"colorbar\":{\"outlinewidth\":0,\"ticks\":\"\"},\"colorscale\":[[0.0,\"#0d0887\"],[0.1111111111111111,\"#46039f\"],[0.2222222222222222,\"#7201a8\"],[0.3333333333333333,\"#9c179e\"],[0.4444444444444444,\"#bd3786\"],[0.5555555555555556,\"#d8576b\"],[0.6666666666666666,\"#ed7953\"],[0.7777777777777778,\"#fb9f3a\"],[0.8888888888888888,\"#fdca26\"],[1.0,\"#f0f921\"]]}],\"choropleth\":[{\"type\":\"choropleth\",\"colorbar\":{\"outlinewidth\":0,\"ticks\":\"\"}}],\"histogram2d\":[{\"type\":\"histogram2d\",\"colorbar\":{\"outlinewidth\":0,\"ticks\":\"\"},\"colorscale\":[[0.0,\"#0d0887\"],[0.1111111111111111,\"#46039f\"],[0.2222222222222222,\"#7201a8\"],[0.3333333333333333,\"#9c179e\"],[0.4444444444444444,\"#bd3786\"],[0.5555555555555556,\"#d8576b\"],[0.6666666666666666,\"#ed7953\"],[0.7777777777777778,\"#fb9f3a\"],[0.8888888888888888,\"#fdca26\"],[1.0,\"#f0f921\"]]}],\"heatmap\":[{\"type\":\"heatmap\",\"colorbar\":{\"outlinewidth\":0,\"ticks\":\"\"},\"colorscale\":[[0.0,\"#0d0887\"],[0.1111111111111111,\"#46039f\"],[0.2222222222222222,\"#7201a8\"],[0.3333333333333333,\"#9c179e\"],[0.4444444444444444,\"#bd3786\"],[0.5555555555555556,\"#d8576b\"],[0.6666666666666666,\"#ed7953\"],[0.7777777777777778,\"#fb9f3a\"],[0.8888888888888888,\"#fdca26\"],[1.0,\"#f0f921\"]]}],\"heatmapgl\":[{\"type\":\"heatmapgl\",\"colorbar\":{\"outlinewidth\":0,\"ticks\":\"\"},\"colorscale\":[[0.0,\"#0d0887\"],[0.1111111111111111,\"#46039f\"],[0.2222222222222222,\"#7201a8\"],[0.3333333333333333,\"#9c179e\"],[0.4444444444444444,\"#bd3786\"],[0.5555555555555556,\"#d8576b\"],[0.6666666666666666,\"#ed7953\"],[0.7777777777777778,\"#fb9f3a\"],[0.8888888888888888,\"#fdca26\"],[1.0,\"#f0f921\"]]}],\"contourcarpet\":[{\"type\":\"contourcarpet\",\"colorbar\":{\"outlinewidth\":0,\"ticks\":\"\"}}],\"contour\":[{\"type\":\"contour\",\"colorbar\":{\"outlinewidth\":0,\"ticks\":\"\"},\"colorscale\":[[0.0,\"#0d0887\"],[0.1111111111111111,\"#46039f\"],[0.2222222222222222,\"#7201a8\"],[0.3333333333333333,\"#9c179e\"],[0.4444444444444444,\"#bd3786\"],[0.5555555555555556,\"#d8576b\"],[0.6666666666666666,\"#ed7953\"],[0.7777777777777778,\"#fb9f3a\"],[0.8888888888888888,\"#fdca26\"],[1.0,\"#f0f921\"]]}],\"surface\":[{\"type\":\"surface\",\"colorbar\":{\"outlinewidth\":0,\"ticks\":\"\"},\"colorscale\":[[0.0,\"#0d0887\"],[0.1111111111111111,\"#46039f\"],[0.2222222222222222,\"#7201a8\"],[0.3333333333333333,\"#9c179e\"],[0.4444444444444444,\"#bd3786\"],[0.5555555555555556,\"#d8576b\"],[0.6666666666666666,\"#ed7953\"],[0.7777777777777778,\"#fb9f3a\"],[0.8888888888888888,\"#fdca26\"],[1.0,\"#f0f921\"]]}],\"mesh3d\":[{\"type\":\"mesh3d\",\"colorbar\":{\"outlinewidth\":0,\"ticks\":\"\"}}],\"scatter\":[{\"fillpattern\":{\"fillmode\":\"overlay\",\"size\":10,\"solidity\":0.2},\"type\":\"scatter\"}],\"parcoords\":[{\"type\":\"parcoords\",\"line\":{\"colorbar\":{\"outlinewidth\":0,\"ticks\":\"\"}}}],\"scatterpolargl\":[{\"type\":\"scatterpolargl\",\"marker\":{\"colorbar\":{\"outlinewidth\":0,\"ticks\":\"\"}}}],\"bar\":[{\"error_x\":{\"color\":\"#2a3f5f\"},\"error_y\":{\"color\":\"#2a3f5f\"},\"marker\":{\"line\":{\"color\":\"#E5ECF6\",\"width\":0.5},\"pattern\":{\"fillmode\":\"overlay\",\"size\":10,\"solidity\":0.2}},\"type\":\"bar\"}],\"scattergeo\":[{\"type\":\"scattergeo\",\"marker\":{\"colorbar\":{\"outlinewidth\":0,\"ticks\":\"\"}}}],\"scatterpolar\":[{\"type\":\"scatterpolar\",\"marker\":{\"colorbar\":{\"outlinewidth\":0,\"ticks\":\"\"}}}],\"histogram\":[{\"marker\":{\"pattern\":{\"fillmode\":\"overlay\",\"size\":10,\"solidity\":0.2}},\"type\":\"histogram\"}],\"scattergl\":[{\"type\":\"scattergl\",\"marker\":{\"colorbar\":{\"outlinewidth\":0,\"ticks\":\"\"}}}],\"scatter3d\":[{\"type\":\"scatter3d\",\"line\":{\"colorbar\":{\"outlinewidth\":0,\"ticks\":\"\"}},\"marker\":{\"colorbar\":{\"outlinewidth\":0,\"ticks\":\"\"}}}],\"scattermapbox\":[{\"type\":\"scattermapbox\",\"marker\":{\"colorbar\":{\"outlinewidth\":0,\"ticks\":\"\"}}}],\"scatterternary\":[{\"type\":\"scatterternary\",\"marker\":{\"colorbar\":{\"outlinewidth\":0,\"ticks\":\"\"}}}],\"scattercarpet\":[{\"type\":\"scattercarpet\",\"marker\":{\"colorbar\":{\"outlinewidth\":0,\"ticks\":\"\"}}}],\"carpet\":[{\"aaxis\":{\"endlinecolor\":\"#2a3f5f\",\"gridcolor\":\"white\",\"linecolor\":\"white\",\"minorgridcolor\":\"white\",\"startlinecolor\":\"#2a3f5f\"},\"baxis\":{\"endlinecolor\":\"#2a3f5f\",\"gridcolor\":\"white\",\"linecolor\":\"white\",\"minorgridcolor\":\"white\",\"startlinecolor\":\"#2a3f5f\"},\"type\":\"carpet\"}],\"table\":[{\"cells\":{\"fill\":{\"color\":\"#EBF0F8\"},\"line\":{\"color\":\"white\"}},\"header\":{\"fill\":{\"color\":\"#C8D4E3\"},\"line\":{\"color\":\"white\"}},\"type\":\"table\"}],\"barpolar\":[{\"marker\":{\"line\":{\"color\":\"#E5ECF6\",\"width\":0.5},\"pattern\":{\"fillmode\":\"overlay\",\"size\":10,\"solidity\":0.2}},\"type\":\"barpolar\"}],\"pie\":[{\"automargin\":true,\"type\":\"pie\"}]},\"layout\":{\"autotypenumbers\":\"strict\",\"colorway\":[\"#636efa\",\"#EF553B\",\"#00cc96\",\"#ab63fa\",\"#FFA15A\",\"#19d3f3\",\"#FF6692\",\"#B6E880\",\"#FF97FF\",\"#FECB52\"],\"font\":{\"color\":\"#2a3f5f\"},\"hovermode\":\"closest\",\"hoverlabel\":{\"align\":\"left\"},\"paper_bgcolor\":\"white\",\"plot_bgcolor\":\"#E5ECF6\",\"polar\":{\"bgcolor\":\"#E5ECF6\",\"angularaxis\":{\"gridcolor\":\"white\",\"linecolor\":\"white\",\"ticks\":\"\"},\"radialaxis\":{\"gridcolor\":\"white\",\"linecolor\":\"white\",\"ticks\":\"\"}},\"ternary\":{\"bgcolor\":\"#E5ECF6\",\"aaxis\":{\"gridcolor\":\"white\",\"linecolor\":\"white\",\"ticks\":\"\"},\"baxis\":{\"gridcolor\":\"white\",\"linecolor\":\"white\",\"ticks\":\"\"},\"caxis\":{\"gridcolor\":\"white\",\"linecolor\":\"white\",\"ticks\":\"\"}},\"coloraxis\":{\"colorbar\":{\"outlinewidth\":0,\"ticks\":\"\"}},\"colorscale\":{\"sequential\":[[0.0,\"#0d0887\"],[0.1111111111111111,\"#46039f\"],[0.2222222222222222,\"#7201a8\"],[0.3333333333333333,\"#9c179e\"],[0.4444444444444444,\"#bd3786\"],[0.5555555555555556,\"#d8576b\"],[0.6666666666666666,\"#ed7953\"],[0.7777777777777778,\"#fb9f3a\"],[0.8888888888888888,\"#fdca26\"],[1.0,\"#f0f921\"]],\"sequentialminus\":[[0.0,\"#0d0887\"],[0.1111111111111111,\"#46039f\"],[0.2222222222222222,\"#7201a8\"],[0.3333333333333333,\"#9c179e\"],[0.4444444444444444,\"#bd3786\"],[0.5555555555555556,\"#d8576b\"],[0.6666666666666666,\"#ed7953\"],[0.7777777777777778,\"#fb9f3a\"],[0.8888888888888888,\"#fdca26\"],[1.0,\"#f0f921\"]],\"diverging\":[[0,\"#8e0152\"],[0.1,\"#c51b7d\"],[0.2,\"#de77ae\"],[0.3,\"#f1b6da\"],[0.4,\"#fde0ef\"],[0.5,\"#f7f7f7\"],[0.6,\"#e6f5d0\"],[0.7,\"#b8e186\"],[0.8,\"#7fbc41\"],[0.9,\"#4d9221\"],[1,\"#276419\"]]},\"xaxis\":{\"gridcolor\":\"white\",\"linecolor\":\"white\",\"ticks\":\"\",\"title\":{\"standoff\":15},\"zerolinecolor\":\"white\",\"automargin\":true,\"zerolinewidth\":2},\"yaxis\":{\"gridcolor\":\"white\",\"linecolor\":\"white\",\"ticks\":\"\",\"title\":{\"standoff\":15},\"zerolinecolor\":\"white\",\"automargin\":true,\"zerolinewidth\":2},\"scene\":{\"xaxis\":{\"backgroundcolor\":\"#E5ECF6\",\"gridcolor\":\"white\",\"linecolor\":\"white\",\"showbackground\":true,\"ticks\":\"\",\"zerolinecolor\":\"white\",\"gridwidth\":2},\"yaxis\":{\"backgroundcolor\":\"#E5ECF6\",\"gridcolor\":\"white\",\"linecolor\":\"white\",\"showbackground\":true,\"ticks\":\"\",\"zerolinecolor\":\"white\",\"gridwidth\":2},\"zaxis\":{\"backgroundcolor\":\"#E5ECF6\",\"gridcolor\":\"white\",\"linecolor\":\"white\",\"showbackground\":true,\"ticks\":\"\",\"zerolinecolor\":\"white\",\"gridwidth\":2}},\"shapedefaults\":{\"line\":{\"color\":\"#2a3f5f\"}},\"annotationdefaults\":{\"arrowcolor\":\"#2a3f5f\",\"arrowhead\":0,\"arrowwidth\":1},\"geo\":{\"bgcolor\":\"white\",\"landcolor\":\"#E5ECF6\",\"subunitcolor\":\"white\",\"showland\":true,\"showlakes\":true,\"lakecolor\":\"white\"},\"title\":{\"x\":0.05},\"mapbox\":{\"style\":\"light\"}}},\"scene\":{\"domain\":{\"x\":[0.0,1.0],\"y\":[0.0,1.0]},\"xaxis\":{\"title\":{\"text\":\"valence\"}},\"yaxis\":{\"title\":{\"text\":\"arousal\"}},\"zaxis\":{\"title\":{\"text\":\"dominance\"}}},\"legend\":{\"title\":{\"text\":\"document\"},\"tracegroupgap\":0},\"margin\":{\"t\":60}},                        {\"responsive\": true}                    ).then(function(){\n",
       "                            \n",
       "var gd = document.getElementById('dff292c1-82c0-45ff-8778-61ab5d31cc11');\n",
       "var x = new MutationObserver(function (mutations, observer) {{\n",
       "        var display = window.getComputedStyle(gd).display;\n",
       "        if (!display || display === 'none') {{\n",
       "            console.log([gd, 'removed!']);\n",
       "            Plotly.purge(gd);\n",
       "            observer.disconnect();\n",
       "        }}\n",
       "}});\n",
       "\n",
       "// Listen for the removal of the full notebook cells\n",
       "var notebookContainer = gd.closest('#notebook-container');\n",
       "if (notebookContainer) {{\n",
       "    x.observe(notebookContainer, {childList: true});\n",
       "}}\n",
       "\n",
       "// Listen for the clearing of the current output cell\n",
       "var outputEl = gd.closest('.output');\n",
       "if (outputEl) {{\n",
       "    x.observe(outputEl, {childList: true});\n",
       "}}\n",
       "\n",
       "                        })                };                });            </script>        </div>"
      ]
     },
     "metadata": {},
     "output_type": "display_data"
    }
   ],
   "source": [
    "#visualising a sample of all the data\n",
    "import plotly.express as px\n",
    "\n",
    "vad_sample = VAD_all.sample(500)\n",
    "\n",
    "\n",
    "fig = px.scatter_3d(vad_sample, x=\"valence\", y=\"arousal\", z='dominance', color=\"document\")\n",
    "fig.update_traces(marker=dict(size=5,\n",
    "                              line=dict(width=2,\n",
    "                                        color='DarkSlateGrey')),\n",
    "                  selector=dict(mode='markers'))\n",
    "fig.show()\n"
   ]
  }
 ],
 "metadata": {
  "kernelspec": {
   "display_name": "Python 3 (ipykernel)",
   "language": "python",
   "name": "python3"
  },
  "language_info": {
   "codemirror_mode": {
    "name": "ipython",
    "version": 3
   },
   "file_extension": ".py",
   "mimetype": "text/x-python",
   "name": "python",
   "nbconvert_exporter": "python",
   "pygments_lexer": "ipython3",
   "version": "3.9.13"
  }
 },
 "nbformat": 4,
 "nbformat_minor": 5
}
